{
 "cells": [
  {
   "cell_type": "code",
   "execution_count": 7,
   "id": "8601f1dc",
   "metadata": {},
   "outputs": [],
   "source": [
    "import pandas as pd\n",
    "import matplotlib.pyplot as plt\n",
    "import seaborn as sns\n",
    "import plotly.express as px"
   ]
  },
  {
   "cell_type": "code",
   "execution_count": 10,
   "id": "94f0815e",
   "metadata": {},
   "outputs": [],
   "source": [
    "df = pd.read_csv(r\"D:\\US_Accidents_March23.csv\")\n",
    "\n"
   ]
  },
  {
   "cell_type": "code",
   "execution_count": 11,
   "id": "eaf02af6",
   "metadata": {},
   "outputs": [
    {
     "data": {
      "text/html": [
       "<div>\n",
       "<style scoped>\n",
       "    .dataframe tbody tr th:only-of-type {\n",
       "        vertical-align: middle;\n",
       "    }\n",
       "\n",
       "    .dataframe tbody tr th {\n",
       "        vertical-align: top;\n",
       "    }\n",
       "\n",
       "    .dataframe thead th {\n",
       "        text-align: right;\n",
       "    }\n",
       "</style>\n",
       "<table border=\"1\" class=\"dataframe\">\n",
       "  <thead>\n",
       "    <tr style=\"text-align: right;\">\n",
       "      <th></th>\n",
       "      <th>ID</th>\n",
       "      <th>Source</th>\n",
       "      <th>Severity</th>\n",
       "      <th>Start_Time</th>\n",
       "      <th>End_Time</th>\n",
       "      <th>Start_Lat</th>\n",
       "      <th>Start_Lng</th>\n",
       "      <th>End_Lat</th>\n",
       "      <th>End_Lng</th>\n",
       "      <th>Distance(mi)</th>\n",
       "      <th>...</th>\n",
       "      <th>Roundabout</th>\n",
       "      <th>Station</th>\n",
       "      <th>Stop</th>\n",
       "      <th>Traffic_Calming</th>\n",
       "      <th>Traffic_Signal</th>\n",
       "      <th>Turning_Loop</th>\n",
       "      <th>Sunrise_Sunset</th>\n",
       "      <th>Civil_Twilight</th>\n",
       "      <th>Nautical_Twilight</th>\n",
       "      <th>Astronomical_Twilight</th>\n",
       "    </tr>\n",
       "  </thead>\n",
       "  <tbody>\n",
       "    <tr>\n",
       "      <th>0</th>\n",
       "      <td>A-1</td>\n",
       "      <td>Source2</td>\n",
       "      <td>3</td>\n",
       "      <td>2016-02-08 05:46:00</td>\n",
       "      <td>2016-02-08 11:00:00</td>\n",
       "      <td>39.865147</td>\n",
       "      <td>-84.058723</td>\n",
       "      <td>NaN</td>\n",
       "      <td>NaN</td>\n",
       "      <td>0.01</td>\n",
       "      <td>...</td>\n",
       "      <td>False</td>\n",
       "      <td>False</td>\n",
       "      <td>False</td>\n",
       "      <td>False</td>\n",
       "      <td>False</td>\n",
       "      <td>False</td>\n",
       "      <td>Night</td>\n",
       "      <td>Night</td>\n",
       "      <td>Night</td>\n",
       "      <td>Night</td>\n",
       "    </tr>\n",
       "    <tr>\n",
       "      <th>1</th>\n",
       "      <td>A-2</td>\n",
       "      <td>Source2</td>\n",
       "      <td>2</td>\n",
       "      <td>2016-02-08 06:07:59</td>\n",
       "      <td>2016-02-08 06:37:59</td>\n",
       "      <td>39.928059</td>\n",
       "      <td>-82.831184</td>\n",
       "      <td>NaN</td>\n",
       "      <td>NaN</td>\n",
       "      <td>0.01</td>\n",
       "      <td>...</td>\n",
       "      <td>False</td>\n",
       "      <td>False</td>\n",
       "      <td>False</td>\n",
       "      <td>False</td>\n",
       "      <td>False</td>\n",
       "      <td>False</td>\n",
       "      <td>Night</td>\n",
       "      <td>Night</td>\n",
       "      <td>Night</td>\n",
       "      <td>Day</td>\n",
       "    </tr>\n",
       "    <tr>\n",
       "      <th>2</th>\n",
       "      <td>A-3</td>\n",
       "      <td>Source2</td>\n",
       "      <td>2</td>\n",
       "      <td>2016-02-08 06:49:27</td>\n",
       "      <td>2016-02-08 07:19:27</td>\n",
       "      <td>39.063148</td>\n",
       "      <td>-84.032608</td>\n",
       "      <td>NaN</td>\n",
       "      <td>NaN</td>\n",
       "      <td>0.01</td>\n",
       "      <td>...</td>\n",
       "      <td>False</td>\n",
       "      <td>False</td>\n",
       "      <td>False</td>\n",
       "      <td>False</td>\n",
       "      <td>True</td>\n",
       "      <td>False</td>\n",
       "      <td>Night</td>\n",
       "      <td>Night</td>\n",
       "      <td>Day</td>\n",
       "      <td>Day</td>\n",
       "    </tr>\n",
       "    <tr>\n",
       "      <th>3</th>\n",
       "      <td>A-4</td>\n",
       "      <td>Source2</td>\n",
       "      <td>3</td>\n",
       "      <td>2016-02-08 07:23:34</td>\n",
       "      <td>2016-02-08 07:53:34</td>\n",
       "      <td>39.747753</td>\n",
       "      <td>-84.205582</td>\n",
       "      <td>NaN</td>\n",
       "      <td>NaN</td>\n",
       "      <td>0.01</td>\n",
       "      <td>...</td>\n",
       "      <td>False</td>\n",
       "      <td>False</td>\n",
       "      <td>False</td>\n",
       "      <td>False</td>\n",
       "      <td>False</td>\n",
       "      <td>False</td>\n",
       "      <td>Night</td>\n",
       "      <td>Day</td>\n",
       "      <td>Day</td>\n",
       "      <td>Day</td>\n",
       "    </tr>\n",
       "    <tr>\n",
       "      <th>4</th>\n",
       "      <td>A-5</td>\n",
       "      <td>Source2</td>\n",
       "      <td>2</td>\n",
       "      <td>2016-02-08 07:39:07</td>\n",
       "      <td>2016-02-08 08:09:07</td>\n",
       "      <td>39.627781</td>\n",
       "      <td>-84.188354</td>\n",
       "      <td>NaN</td>\n",
       "      <td>NaN</td>\n",
       "      <td>0.01</td>\n",
       "      <td>...</td>\n",
       "      <td>False</td>\n",
       "      <td>False</td>\n",
       "      <td>False</td>\n",
       "      <td>False</td>\n",
       "      <td>True</td>\n",
       "      <td>False</td>\n",
       "      <td>Day</td>\n",
       "      <td>Day</td>\n",
       "      <td>Day</td>\n",
       "      <td>Day</td>\n",
       "    </tr>\n",
       "  </tbody>\n",
       "</table>\n",
       "<p>5 rows × 46 columns</p>\n",
       "</div>"
      ],
      "text/plain": [
       "    ID   Source  Severity           Start_Time             End_Time  \\\n",
       "0  A-1  Source2         3  2016-02-08 05:46:00  2016-02-08 11:00:00   \n",
       "1  A-2  Source2         2  2016-02-08 06:07:59  2016-02-08 06:37:59   \n",
       "2  A-3  Source2         2  2016-02-08 06:49:27  2016-02-08 07:19:27   \n",
       "3  A-4  Source2         3  2016-02-08 07:23:34  2016-02-08 07:53:34   \n",
       "4  A-5  Source2         2  2016-02-08 07:39:07  2016-02-08 08:09:07   \n",
       "\n",
       "   Start_Lat  Start_Lng  End_Lat  End_Lng  Distance(mi)  ... Roundabout  \\\n",
       "0  39.865147 -84.058723      NaN      NaN          0.01  ...      False   \n",
       "1  39.928059 -82.831184      NaN      NaN          0.01  ...      False   \n",
       "2  39.063148 -84.032608      NaN      NaN          0.01  ...      False   \n",
       "3  39.747753 -84.205582      NaN      NaN          0.01  ...      False   \n",
       "4  39.627781 -84.188354      NaN      NaN          0.01  ...      False   \n",
       "\n",
       "  Station   Stop Traffic_Calming Traffic_Signal Turning_Loop Sunrise_Sunset  \\\n",
       "0   False  False           False          False        False          Night   \n",
       "1   False  False           False          False        False          Night   \n",
       "2   False  False           False           True        False          Night   \n",
       "3   False  False           False          False        False          Night   \n",
       "4   False  False           False           True        False            Day   \n",
       "\n",
       "  Civil_Twilight Nautical_Twilight Astronomical_Twilight  \n",
       "0          Night             Night                 Night  \n",
       "1          Night             Night                   Day  \n",
       "2          Night               Day                   Day  \n",
       "3            Day               Day                   Day  \n",
       "4            Day               Day                   Day  \n",
       "\n",
       "[5 rows x 46 columns]"
      ]
     },
     "execution_count": 11,
     "metadata": {},
     "output_type": "execute_result"
    }
   ],
   "source": [
    "df.head()"
   ]
  },
  {
   "cell_type": "code",
   "execution_count": 14,
   "id": "03d8141a",
   "metadata": {},
   "outputs": [
    {
     "data": {
      "text/plain": [
       "(7728394, 46)"
      ]
     },
     "execution_count": 14,
     "metadata": {},
     "output_type": "execute_result"
    }
   ],
   "source": [
    "df.shape"
   ]
  },
  {
   "cell_type": "code",
   "execution_count": 15,
   "id": "9ea6ca57",
   "metadata": {},
   "outputs": [
    {
     "name": "stdout",
     "output_type": "stream",
     "text": [
      "<class 'pandas.core.frame.DataFrame'>\n",
      "RangeIndex: 7728394 entries, 0 to 7728393\n",
      "Data columns (total 46 columns):\n",
      " #   Column                 Dtype  \n",
      "---  ------                 -----  \n",
      " 0   ID                     object \n",
      " 1   Source                 object \n",
      " 2   Severity               int64  \n",
      " 3   Start_Time             object \n",
      " 4   End_Time               object \n",
      " 5   Start_Lat              float64\n",
      " 6   Start_Lng              float64\n",
      " 7   End_Lat                float64\n",
      " 8   End_Lng                float64\n",
      " 9   Distance(mi)           float64\n",
      " 10  Description            object \n",
      " 11  Street                 object \n",
      " 12  City                   object \n",
      " 13  County                 object \n",
      " 14  State                  object \n",
      " 15  Zipcode                object \n",
      " 16  Country                object \n",
      " 17  Timezone               object \n",
      " 18  Airport_Code           object \n",
      " 19  Weather_Timestamp      object \n",
      " 20  Temperature(F)         float64\n",
      " 21  Wind_Chill(F)          float64\n",
      " 22  Humidity(%)            float64\n",
      " 23  Pressure(in)           float64\n",
      " 24  Visibility(mi)         float64\n",
      " 25  Wind_Direction         object \n",
      " 26  Wind_Speed(mph)        float64\n",
      " 27  Precipitation(in)      float64\n",
      " 28  Weather_Condition      object \n",
      " 29  Amenity                bool   \n",
      " 30  Bump                   bool   \n",
      " 31  Crossing               bool   \n",
      " 32  Give_Way               bool   \n",
      " 33  Junction               bool   \n",
      " 34  No_Exit                bool   \n",
      " 35  Railway                bool   \n",
      " 36  Roundabout             bool   \n",
      " 37  Station                bool   \n",
      " 38  Stop                   bool   \n",
      " 39  Traffic_Calming        bool   \n",
      " 40  Traffic_Signal         bool   \n",
      " 41  Turning_Loop           bool   \n",
      " 42  Sunrise_Sunset         object \n",
      " 43  Civil_Twilight         object \n",
      " 44  Nautical_Twilight      object \n",
      " 45  Astronomical_Twilight  object \n",
      "dtypes: bool(13), float64(12), int64(1), object(20)\n",
      "memory usage: 2.0+ GB\n"
     ]
    }
   ],
   "source": [
    "df.info()"
   ]
  },
  {
   "cell_type": "code",
   "execution_count": 16,
   "id": "54fd5802",
   "metadata": {},
   "outputs": [
    {
     "data": {
      "text/plain": [
       "ID                             0\n",
       "Source                         0\n",
       "Severity                       0\n",
       "Start_Time                     0\n",
       "End_Time                       0\n",
       "Start_Lat                      0\n",
       "Start_Lng                      0\n",
       "End_Lat                  3402762\n",
       "End_Lng                  3402762\n",
       "Distance(mi)                   0\n",
       "Description                    5\n",
       "Street                     10869\n",
       "City                         253\n",
       "County                         0\n",
       "State                          0\n",
       "Zipcode                     1915\n",
       "Country                        0\n",
       "Timezone                    7808\n",
       "Airport_Code               22635\n",
       "Weather_Timestamp         120228\n",
       "Temperature(F)            163853\n",
       "Wind_Chill(F)            1999019\n",
       "Humidity(%)               174144\n",
       "Pressure(in)              140679\n",
       "Visibility(mi)            177098\n",
       "Wind_Direction            175206\n",
       "Wind_Speed(mph)           571233\n",
       "Precipitation(in)        2203586\n",
       "Weather_Condition         173459\n",
       "Amenity                        0\n",
       "Bump                           0\n",
       "Crossing                       0\n",
       "Give_Way                       0\n",
       "Junction                       0\n",
       "No_Exit                        0\n",
       "Railway                        0\n",
       "Roundabout                     0\n",
       "Station                        0\n",
       "Stop                           0\n",
       "Traffic_Calming                0\n",
       "Traffic_Signal                 0\n",
       "Turning_Loop                   0\n",
       "Sunrise_Sunset             23246\n",
       "Civil_Twilight             23246\n",
       "Nautical_Twilight          23246\n",
       "Astronomical_Twilight      23246\n",
       "dtype: int64"
      ]
     },
     "execution_count": 16,
     "metadata": {},
     "output_type": "execute_result"
    }
   ],
   "source": [
    "df.isnull().sum()"
   ]
  },
  {
   "cell_type": "code",
   "execution_count": 22,
   "id": "7c12604a",
   "metadata": {},
   "outputs": [],
   "source": [
    "df['Start_Time'] = pd.to_datetime(df['Start_Time'],errors='coerce')\n"
   ]
  },
  {
   "cell_type": "code",
   "execution_count": 24,
   "id": "a4bf912c",
   "metadata": {},
   "outputs": [],
   "source": [
    "df = df.dropna(subset=['Start_Lat', 'Start_Lng'])\n",
    "df = df[['ID', 'Severity', 'Start_Time', 'City', 'State', 'Weather_Condition', 'Start_Lat', 'Start_Lng']]"
   ]
  },
  {
   "cell_type": "code",
   "execution_count": 26,
   "id": "84451940",
   "metadata": {},
   "outputs": [
    {
     "name": "stdout",
     "output_type": "stream",
     "text": [
      "ID\n",
      "Severity\n",
      "Start_Time\n",
      "City\n",
      "State\n",
      "Weather_Condition\n",
      "Start_Lat\n",
      "Start_Lng\n"
     ]
    }
   ],
   "source": [
    "for col in df.columns:\n",
    "    print(col)"
   ]
  },
  {
   "cell_type": "code",
   "execution_count": 33,
   "id": "a173c719",
   "metadata": {},
   "outputs": [
    {
     "name": "stderr",
     "output_type": "stream",
     "text": [
      "C:\\Users\\NAVADEEP\\AppData\\Local\\Temp\\ipykernel_21048\\1830797813.py:2: FutureWarning: \n",
      "\n",
      "Passing `palette` without assigning `hue` is deprecated and will be removed in v0.14.0. Assign the `x` variable to `hue` and set `legend=False` for the same effect.\n",
      "\n",
      "  sns.barplot(x=state_counts.index,y=state_counts.values,palette=\"rocket\")\n"
     ]
    },
    {
     "data": {
      "image/png": "[encoded data removed]",
      "text/plain": [
       "<Figure size 640x480 with 1 Axes>"
      ]
     },
     "metadata": {},
     "output_type": "display_data"
    }
   ],
   "source": [
    "state_counts=df['State'].value_counts().head(10)\n",
    "sns.barplot(x=state_counts.index,y=state_counts.values,palette=\"rocket\")\n",
    "plt.title(\"Top 10 states with most accident\")\n",
    "plt.xlabel(\"State\")\n",
    "plt.ylabel(\"Accident count\")\n",
    "plt.show()"
   ]
  },
  {
   "cell_type": "code",
   "execution_count": 37,
   "id": "b4bbc349",
   "metadata": {},
   "outputs": [
    {
     "name": "stderr",
     "output_type": "stream",
     "text": [
      "C:\\Users\\NAVADEEP\\AppData\\Local\\Temp\\ipykernel_21048\\457856297.py:2: FutureWarning: \n",
      "\n",
      "Passing `palette` without assigning `hue` is deprecated and will be removed in v0.14.0. Assign the `x` variable to `hue` and set `legend=False` for the same effect.\n",
      "\n",
      "  sns.barplot(x=city_counts.index,y=city_counts.values,palette=\"mako\")\n"
     ]
    },
    {
     "data": {
      "image/png": "[encoded data removed]",
      "text/plain": [
       "<Figure size 640x480 with 1 Axes>"
      ]
     },
     "metadata": {},
     "output_type": "display_data"
    }
   ],
   "source": [
    "city_counts = df['City'].value_counts().head(5)\n",
    "sns.barplot(x=city_counts.index,y=city_counts.values,palette=\"mako\")\n",
    "plt.title(\"Top 5 cities with most accident\")\n",
    "plt.xticks(rotation=46)\n",
    "plt.xlabel(\"Cities\")\n",
    "plt.ylabel(\"Accident count\")\n",
    "plt.show()"
   ]
  },
  {
   "cell_type": "code",
   "execution_count": 38,
   "id": "e8e7dcea",
   "metadata": {},
   "outputs": [
    {
     "name": "stderr",
     "output_type": "stream",
     "text": [
      "C:\\Users\\NAVADEEP\\AppData\\Local\\Temp\\ipykernel_21048\\3700644868.py:2: FutureWarning: \n",
      "\n",
      "Passing `palette` without assigning `hue` is deprecated and will be removed in v0.14.0. Assign the `y` variable to `hue` and set `legend=False` for the same effect.\n",
      "\n",
      "  sns.barplot(y=weather_counts.index, x=weather_counts.values, palette=\"coolwarm\")\n"
     ]
    },
    {
     "data": {
      "image/png": "[encoded data removed]",
      "text/plain": [
       "<Figure size 640x480 with 1 Axes>"
      ]
     },
     "metadata": {},
     "output_type": "display_data"
    }
   ],
   "source": [
    "weather_counts = df['Weather_Condition'].value_counts().head(10)\n",
    "sns.barplot(y=weather_counts.index, x=weather_counts.values, palette=\"coolwarm\")\n",
    "plt.title(\"Top 10 Weather Conditions During Accidents\")\n",
    "plt.xlabel(\"Accident Count\")\n",
    "plt.ylabel(\"Weather Condition\")\n",
    "plt.show()"
   ]
  },
  {
   "cell_type": "code",
   "execution_count": 39,
   "id": "07e15780",
   "metadata": {},
   "outputs": [
    {
     "data": {
      "image/png": "[encoded data removed]",
      "text/plain": [
       "<Figure size 640x480 with 1 Axes>"
      ]
     },
     "metadata": {},
     "output_type": "display_data"
    }
   ],
   "source": [
    "df['Hour'] = df['Start_Time'].dt.hour\n",
    "sns.histplot(df['Hour'], bins=24, kde=True, color='skyblue')\n",
    "plt.title(\"Accidents by Hour of Day\")\n",
    "plt.xlabel(\"Hour\")\n",
    "plt.ylabel(\"Number of Accidents\")\n",
    "plt.xticks(range(0, 24))\n",
    "plt.show()"
   ]
  },
  {
   "cell_type": "code",
   "execution_count": 41,
   "id": "b9ea6ce5",
   "metadata": {},
   "outputs": [
    {
     "name": "stderr",
     "output_type": "stream",
     "text": [
      "C:\\Users\\NAVADEEP\\AppData\\Local\\Temp\\ipykernel_21048\\3327392855.py:2: FutureWarning: \n",
      "\n",
      "Passing `palette` without assigning `hue` is deprecated and will be removed in v0.14.0. Assign the `x` variable to `hue` and set `legend=False` for the same effect.\n",
      "\n",
      "  sns.countplot(x='DayOfWeek', data=df, order=['Monday', 'Tuesday', 'Wednesday', 'Thursday', 'Friday', 'Saturday', 'Sunday'], palette=\"Set2\")\n"
     ]
    },
    {
     "data": {
      "image/png": "[encoded data removed]",
      "text/plain": [
       "<Figure size 640x480 with 1 Axes>"
      ]
     },
     "metadata": {},
     "output_type": "display_data"
    }
   ],
   "source": [
    "df['DayOfWeek'] = df['Start_Time'].dt.day_name()\n",
    "sns.countplot(x='DayOfWeek', data=df, order=['Monday', 'Tuesday', 'Wednesday', 'Thursday', 'Friday', 'Saturday', 'Sunday'], palette=\"Set2\")\n",
    "plt.title(\"Accidents by Day of the Week\")\n",
    "plt.xlabel(\"Day\")\n",
    "plt.ylabel(\"Accident Count\")\n",
    "plt.xticks(rotation=50)\n",
    "plt.show()\n"
   ]
  },
  {
   "cell_type": "code",
   "execution_count": 42,
   "id": "e4bf7bd0",
   "metadata": {},
   "outputs": [
    {
     "name": "stderr",
     "output_type": "stream",
     "text": [
      "C:\\Users\\NAVADEEP\\AppData\\Local\\Temp\\ipykernel_21048\\2246301883.py:1: DeprecationWarning: *scatter_mapbox* is deprecated! Use *scatter_map* instead. Learn more at: https://plotly.com/python/mapbox-to-maplibre/\n",
      "  fig = px.scatter_mapbox(df.sample(3000),\n"
     ]
    },
    {
     "data": {
      "application/vnd.plotly.v1+json": {
       "config": {
        "plotlyServerURL": "https://plot.ly"
       },
       "data": [
        {
         "customdata": [
          [
           "Mays Landing",
           "NJ",
           "Partly Cloudy"
          ],
          [
           "Gardena",
           "CA",
           "Mostly Cloudy"
          ],
          [
           "Upper Marlboro",
           "MD",
           "Cloudy"
          ],
          [
           "Elmhurst",
           "IL",
           "Mostly Cloudy"
          ],
          [
           "Cleves",
           "OH",
           "Fair"
          ],
          [
           "San Diego",
           "CA",
           "Mostly Cloudy"
          ],
          [
           "Boca Raton",
           "FL",
           "Scattered Clouds"
          ],
          [
           "Raleigh",
           "NC",
           "Light Drizzle"
          ],
          [
           "San Diego",
           "CA",
           "Fair"
          ],
          [
           "Lake Worth",
           "FL",
           "Mostly Cloudy"
          ],
          [
           "Perris",
           "CA",
           "Clear"
          ],
          [
           "Richmond",
           "VA",
           "Light Rain"
          ],
          [
           "Antioch",
           "TN",
           "Scattered Clouds"
          ],
          [
           "Charlotte",
           "NC",
           "Fair"
          ],
          [
           "Austin",
           "TX",
           "Mostly Cloudy"
          ],
          [
           "Lansdowne",
           "PA",
           "Fog"
          ],
          [
           "Truckee",
           "CA",
           "Mostly Cloudy"
          ],
          [
           "Miami",
           "FL",
           "Light Rain"
          ],
          [
           "New Orleans",
           "LA",
           "Mostly Cloudy"
          ],
          [
           "Austin",
           "TX",
           "Scattered Clouds"
          ],
          [
           "Tulare",
           "CA",
           "Fair"
          ],
          [
           "Nottingham",
           "MD",
           "Rain"
          ],
          [
           "Salt Lake City",
           "UT",
           "Partly Cloudy"
          ],
          [
           "Deatsville",
           "AL",
           "Fair"
          ],
          [
           "Panama City",
           "FL",
           "Partly Cloudy"
          ],
          [
           "Omaha",
           "NE",
           "Mostly Cloudy"
          ],
          [
           "Roy",
           "UT",
           "Fair"
          ],
          [
           "Summerville",
           "SC",
           "Fog"
          ],
          [
           "Sacramento",
           "CA",
           "Fair"
          ],
          [
           "Lady Lake",
           "FL",
           "Fair"
          ],
          [
           "Rangely",
           "CO",
           "Fair"
          ],
          [
           "San Jose",
           "CA",
           "Mostly Cloudy"
          ],
          [
           "Elmhurst",
           "IL",
           "Cloudy"
          ],
          [
           "Beckley",
           "WV",
           "Cloudy"
          ],
          [
           "Orlando",
           "FL",
           "Fair"
          ],
          [
           "Omaha",
           "NE",
           "Overcast"
          ],
          [
           "Houston",
           "TX",
           "Shallow Fog"
          ],
          [
           "Santa Rosa",
           "CA",
           "Cloudy"
          ],
          [
           "Lexington",
           "VA",
           "Fair"
          ],
          [
           "Kissimmee",
           "FL",
           "Clear"
          ],
          [
           "Kissimmee",
           "FL",
           "Fair"
          ],
          [
           "Port Allen",
           "LA",
           "Fair"
          ],
          [
           "Pendleton",
           "OR",
           "Light Snow"
          ],
          [
           "Drummond",
           "MT",
           "Fair"
          ],
          [
           "New Ellenton",
           "SC",
           "Clear"
          ],
          [
           "San Diego",
           "CA",
           "Fair"
          ],
          [
           "Cranford",
           "NJ",
           "Cloudy"
          ],
          [
           "Nashville",
           "TN",
           "Partly Cloudy"
          ],
          [
           "Richmond",
           "VA",
           null
          ],
          [
           "Hayward",
           "CA",
           "Scattered Clouds"
          ],
          [
           "Davison",
           "MI",
           "Overcast"
          ],
          [
           "North Salt Lake",
           "UT",
           "Light Snow"
          ],
          [
           "Wakefield",
           "MA",
           "Mostly Cloudy"
          ],
          [
           "Kansas City",
           "KS",
           "Cloudy"
          ],
          [
           "Houston",
           "TX",
           "Overcast"
          ],
          [
           "Baton Rouge",
           "LA",
           "Mostly Cloudy"
          ],
          [
           "Dayton",
           "OH",
           "Overcast"
          ],
          [
           "Houston",
           "TX",
           "Light Rain"
          ],
          [
           "Sonora",
           "CA",
           null
          ],
          [
           "Downey",
           "CA",
           "Fair"
          ],
          [
           "Jacksonville",
           "FL",
           "Mostly Cloudy"
          ],
          [
           "Houston",
           "MN",
           "Fog"
          ],
          [
           "Saint Paul",
           "MN",
           "Partly Cloudy"
          ],
          [
           "Tulsa",
           "OK",
           "Clear"
          ],
          [
           "Tucson",
           "AZ",
           "Fair"
          ],
          [
           "Tucson",
           "AZ",
           "Fair"
          ],
          [
           "Wesley Chapel",
           "FL",
           "Fog"
          ],
          [
           "Anderson",
           "SC",
           "Clear"
          ],
          [
           "San Diego",
           "CA",
           "Fair"
          ],
          [
           "Orlando",
           "FL",
           "Partly Cloudy"
          ],
          [
           "Albany",
           "OR",
           "Light Snow"
          ],
          [
           "Snowmass Village",
           "CO",
           "Light Snow"
          ],
          [
           "Orlando",
           "FL",
           "Clear"
          ],
          [
           "Bedford",
           "VA",
           "Light Rain"
          ],
          [
           "Richmond",
           "IN",
           "Overcast"
          ],
          [
           "Latham",
           "NY",
           "Light Snow"
          ],
          [
           "Quantico",
           "VA",
           "Light Rain"
          ],
          [
           "Portland",
           "OR",
           "Fair"
          ],
          [
           "Grand Blanc",
           "MI",
           "Mostly Cloudy"
          ],
          [
           "Corona",
           "CA",
           "Fair"
          ],
          [
           "Lebanon",
           "OR",
           "Fair"
          ],
          [
           "Emmitsburg",
           "MD",
           null
          ],
          [
           "Waldorf",
           "MD",
           "Fair"
          ],
          [
           "Atlanta",
           "GA",
           "Overcast"
          ],
          [
           "Bolingbrook",
           "IL",
           "Clear"
          ],
          [
           "Houston",
           "TX",
           "Mostly Cloudy"
          ],
          [
           "Oklahoma City",
           "OK",
           "Mostly Cloudy"
          ],
          [
           "Winchendon",
           "MA",
           "Clear"
          ],
          [
           "Parsippany",
           "NJ",
           "Partly Cloudy"
          ],
          [
           "Florence",
           "SC",
           "Heavy Rain"
          ],
          [
           "Townley",
           "AL",
           "Fair"
          ],
          [
           "Kingsport",
           "TN",
           "Cloudy"
          ],
          [
           "Holly Hill",
           "SC",
           "Cloudy"
          ],
          [
           "Sebastian",
           "FL",
           "Fair"
          ],
          [
           "Ellenton",
           "FL",
           "Clear"
          ],
          [
           "Shawnee",
           "KS",
           "Cloudy"
          ],
          [
           "Immokalee",
           "FL",
           "Clear"
          ],
          [
           "Houston",
           "TX",
           "Cloudy"
          ],
          [
           "Farmington",
           "MI",
           "Overcast"
          ],
          [
           "Stevinson",
           "CA",
           "Partly Cloudy"
          ],
          [
           "Roslyn Heights",
           "NY",
           "Mostly Cloudy / Windy"
          ],
          [
           "Federal Way",
           "WA",
           "Mostly Cloudy"
          ],
          [
           "Shawsville",
           "VA",
           "Fair"
          ],
          [
           "Oxnard",
           "CA",
           "Fair"
          ],
          [
           "Buffalo",
           "NY",
           "Light Rain"
          ],
          [
           "Jurupa Valley",
           "CA",
           "Fair"
          ],
          [
           "Katonah",
           "NY",
           "Cloudy"
          ],
          [
           "Gwynn Oak",
           "MD",
           null
          ],
          [
           "Honey Brook",
           "PA",
           "Fair"
          ],
          [
           "Miami",
           "FL",
           "Fair"
          ],
          [
           "Houston",
           "TX",
           "Fair"
          ],
          [
           "Charlotte",
           "NC",
           "Light Drizzle"
          ],
          [
           "Tucson",
           "AZ",
           "Fair"
          ],
          [
           "Alta",
           "CA",
           "Fair"
          ],
          [
           "Rock Hill",
           "SC",
           "Mostly Cloudy"
          ],
          [
           "Fort Myers",
           "FL",
           "Fair"
          ],
          [
           "Indianapolis",
           "IN",
           "Mostly Cloudy"
          ],
          [
           "Great Falls",
           "SC",
           "Cloudy"
          ],
          [
           "North Hills",
           "CA",
           "Clear"
          ],
          [
           "Silver Spring",
           "MD",
           "Cloudy"
          ],
          [
           "Santa Ana",
           "CA",
           "Clear"
          ],
          [
           "Miami",
           "FL",
           "Rain"
          ],
          [
           "Glendale",
           "CA",
           "Cloudy"
          ],
          [
           "El Paso",
           "TX",
           "Fair"
          ],
          [
           "Charlotte",
           "NC",
           "Clear"
          ],
          [
           "Houston",
           "TX",
           "Fair"
          ],
          [
           "New York",
           "NY",
           "Fair"
          ],
          [
           "Conifer",
           "CO",
           "Fair"
          ],
          [
           "Minneapolis",
           "MN",
           "Mostly Cloudy"
          ],
          [
           "Inglewood",
           "CA",
           "Cloudy"
          ],
          [
           "Jemison",
           "AL",
           "Thunder"
          ],
          [
           "Obrien",
           "FL",
           "Fair"
          ],
          [
           "Miami",
           "FL",
           "Fair"
          ],
          [
           "Cincinnati",
           "OH",
           "Overcast"
          ],
          [
           "El Paso",
           "TX",
           "Mostly Cloudy"
          ],
          [
           "Tacoma",
           "WA",
           "Light Rain"
          ],
          [
           "Stephens City",
           "VA",
           "Clear"
          ],
          [
           "Tonopah",
           "AZ",
           null
          ],
          [
           "Lynnwood",
           "WA",
           "Cloudy"
          ],
          [
           "Highland Park",
           "MI",
           "Clear"
          ],
          [
           "Miami",
           "FL",
           "Mostly Cloudy"
          ],
          [
           "Flat Rock",
           "NC",
           "Cloudy"
          ],
          [
           "Alachua",
           "FL",
           "Mostly Cloudy"
          ],
          [
           "San Jose",
           "CA",
           "Partly Cloudy"
          ],
          [
           "Mesa",
           "AZ",
           "Partly Cloudy"
          ],
          [
           "Lake Worth",
           "FL",
           "Fair"
          ],
          [
           "Richmond",
           "CA",
           "Fair"
          ],
          [
           "Lake Zurich",
           "IL",
           "Fair"
          ],
          [
           "Delray Beach",
           "FL",
           "Scattered Clouds"
          ],
          [
           "Tucson",
           "AZ",
           "Clear"
          ],
          [
           "Myrtle Beach",
           "SC",
           "Light Rain"
          ],
          [
           "Wendover",
           "UT",
           "Light Rain"
          ],
          [
           "Charlotte",
           "NC",
           "Smoke"
          ],
          [
           "Berkeley",
           "CA",
           "Partly Cloudy"
          ],
          [
           "New Orleans",
           "LA",
           "Mostly Cloudy"
          ],
          [
           "Hacienda Heights",
           "CA",
           "Haze"
          ],
          [
           "Anoka",
           "MN",
           "Light Snow"
          ],
          [
           "Bryn Mawr",
           "PA",
           "Fair"
          ],
          [
           "Covington",
           "KY",
           "Clear"
          ],
          [
           "Hellam",
           "PA",
           "Cloudy"
          ],
          [
           "Dallas",
           "TX",
           "Overcast"
          ],
          [
           "Fenton",
           "MO",
           "Cloudy"
          ],
          [
           "Pittsburgh",
           "PA",
           "Mostly Cloudy"
          ],
          [
           "Bradenton",
           "FL",
           "Partly Cloudy"
          ],
          [
           "Center Line",
           "MI",
           "Clear"
          ],
          [
           "Houston",
           "TX",
           "Light Rain"
          ],
          [
           "Houston",
           "TX",
           "Clear"
          ],
          [
           "Houston",
           "TX",
           "Mostly Cloudy"
          ],
          [
           "Saint Petersburg",
           "FL",
           "Cloudy"
          ],
          [
           "Rockville",
           "MD",
           "Light Snow"
          ],
          [
           "Potter Valley",
           "CA",
           "Fair"
          ],
          [
           "Wilsonville",
           "OR",
           "Light Rain"
          ],
          [
           "Fayetteville",
           "NC",
           "Clear"
          ],
          [
           "Byron",
           "GA",
           "Clear"
          ],
          [
           "Dallas",
           "TX",
           "Fair"
          ],
          [
           "Washington",
           "DC",
           "Fair"
          ],
          [
           "Lehigh Acres",
           "FL",
           "Fog"
          ],
          [
           "Charlotte",
           "NC",
           "Fair"
          ],
          [
           "Garner",
           "NC",
           "Partly Cloudy"
          ],
          [
           "San Jose",
           "CA",
           "Mostly Cloudy"
          ],
          [
           "Seattle",
           "WA",
           "Clear"
          ],
          [
           "Lake City",
           "FL",
           "Clear"
          ],
          [
           "Grand Rapids",
           "MI",
           "Cloudy"
          ],
          [
           "Tucson",
           "AZ",
           "Partly Cloudy"
          ],
          [
           "Dearborn Heights",
           "MI",
           "Mostly Cloudy"
          ],
          [
           "Warwick",
           "RI",
           "Mostly Cloudy"
          ],
          [
           "Sharon",
           "MA",
           "Fair"
          ],
          [
           "Baton Rouge",
           "LA",
           "Fair"
          ],
          [
           "Pomona",
           "CA",
           "Fair"
          ],
          [
           "Buffalo",
           "NY",
           "Light Snow"
          ],
          [
           "Phoenix",
           "AZ",
           "Fair"
          ],
          [
           "Morristown",
           "AZ",
           "Fair"
          ],
          [
           "Rochester",
           "MN",
           "Clear"
          ],
          [
           "Miami",
           "FL",
           "Fair"
          ],
          [
           "Hesperia",
           "CA",
           "Fair"
          ],
          [
           "Chester",
           "VA",
           "Fair"
          ],
          [
           "Farmington",
           "MI",
           "Clear"
          ],
          [
           "Westlake Village",
           "CA",
           "Fair"
          ],
          [
           "Charlotte",
           "NC",
           "Mostly Cloudy"
          ],
          [
           "Sonoma",
           "CA",
           "Fair"
          ],
          [
           "Louisville",
           "KY",
           "Light Rain"
          ],
          [
           "San Bernardino",
           "CA",
           "Fair"
          ],
          [
           "Thaxton",
           "VA",
           "Cloudy"
          ],
          [
           "Dayton",
           "OH",
           "Light Rain"
          ],
          [
           "Glendora",
           "CA",
           "Fair"
          ],
          [
           "Kansas City",
           "MO",
           "Fair"
          ],
          [
           "Florence",
           "SC",
           "Rain"
          ],
          [
           "Hialeah",
           "FL",
           "Partly Cloudy"
          ],
          [
           "Idleyld Park",
           "OR",
           "Light Rain"
          ],
          [
           "Guild",
           "TN",
           "Light Rain"
          ],
          [
           "Miami",
           "FL",
           "Partly Cloudy"
          ],
          [
           "Mobile",
           "AL",
           "Fog"
          ],
          [
           "Lanham",
           "MD",
           "Clear"
          ],
          [
           "Whittier",
           "CA",
           "Clear"
          ],
          [
           "Pelion",
           "SC",
           "Mostly Cloudy"
          ],
          [
           "Oakland",
           "CA",
           "Partly Cloudy"
          ],
          [
           "Perris",
           "CA",
           "Fair"
          ],
          [
           "Round Lake",
           "IL",
           "Fair"
          ],
          [
           "Dallas",
           "TX",
           "Overcast"
          ],
          [
           "San Bruno",
           "CA",
           "Clear"
          ],
          [
           "Corona",
           "CA",
           "Fair"
          ],
          [
           "Berkeley",
           "CA",
           "Haze"
          ],
          [
           "Houston",
           "TX",
           "Fair"
          ],
          [
           "North Miami",
           "FL",
           "Heavy T-Storm"
          ],
          [
           "Santa Fe Springs",
           "CA",
           "Clear"
          ],
          [
           "Saint Johns",
           "MI",
           "Fair"
          ],
          [
           "Spokane",
           "WA",
           "Light Snow"
          ],
          [
           "Miami",
           "FL",
           "Partly Cloudy"
          ],
          [
           "Inglewood",
           "CA",
           "Overcast"
          ],
          [
           "Irvine",
           "CA",
           "Fair"
          ],
          [
           "Saint Louis",
           "MO",
           "Fair"
          ],
          [
           "Harrisburg",
           "PA",
           "Partly Cloudy"
          ],
          [
           "Los Angeles",
           "CA",
           "Haze"
          ],
          [
           "Cerritos",
           "CA",
           "Overcast"
          ],
          [
           "Florence",
           "SC",
           "Fair"
          ],
          [
           "Columbia",
           "SC",
           "Fair"
          ],
          [
           "Lynnwood",
           "WA",
           "Fair"
          ],
          [
           "Hatboro",
           "PA",
           "Rain"
          ],
          [
           "Oak Creek",
           "WI",
           "Light Rain"
          ],
          [
           "Riverside",
           "CA",
           "Partly Cloudy"
          ],
          [
           "Ocean City",
           "MD",
           "Fair"
          ],
          [
           "Lugoff",
           "SC",
           "Fair"
          ],
          [
           "Grand Rapids",
           "MI",
           "Overcast"
          ],
          [
           "Holly Hill",
           "SC",
           "Clear"
          ],
          [
           "Dallas",
           "TX",
           "Clear"
          ],
          [
           "Arlington",
           "OR",
           "Cloudy"
          ],
          [
           "Leonardo",
           "NJ",
           "Fair"
          ],
          [
           "Gurnee",
           "IL",
           "Cloudy"
          ],
          [
           "Blythewood",
           "SC",
           "Clear"
          ],
          [
           "Jacksonville",
           "FL",
           "Fair"
          ],
          [
           "Hudson",
           "FL",
           "Fog"
          ],
          [
           "Norfolk",
           "VA",
           "Light Rain"
          ],
          [
           "Los Angeles",
           "CA",
           "Fair"
          ],
          [
           "Raleigh",
           "NC",
           "Light Rain"
          ],
          [
           "Chicago",
           "IL",
           "Mostly Cloudy"
          ],
          [
           "Norwalk",
           "CA",
           "Fair"
          ],
          [
           "Houston",
           "TX",
           "Fair / Windy"
          ],
          [
           "Allentown",
           "PA",
           "Fair"
          ],
          [
           "Brooklyn",
           "NY",
           "Fair"
          ],
          [
           "Houston",
           "TX",
           "Partly Cloudy"
          ],
          [
           "Buzzards Bay",
           "MA",
           "Overcast"
          ],
          [
           "Austin",
           "TX",
           "Cloudy"
          ],
          [
           "Wake Forest",
           "NC",
           "Clear"
          ],
          [
           "Norwalk",
           "CA",
           "Fair"
          ],
          [
           "Los Angeles",
           "CA",
           "Fair"
          ],
          [
           "Charlotte",
           "NC",
           "Partly Cloudy"
          ],
          [
           "Bellevue",
           "WA",
           "Light Snow"
          ],
          [
           "Louisville",
           "KY",
           "Fair"
          ],
          [
           "Gautier",
           "MS",
           "Fair"
          ],
          [
           "West Palm Beach",
           "FL",
           "Light Rain"
          ],
          [
           "Winter Garden",
           "FL",
           "Fair"
          ],
          [
           "Oklahoma City",
           "OK",
           "Overcast"
          ],
          [
           "Mesquite",
           "TX",
           "Cloudy"
          ],
          [
           "Raleigh",
           "NC",
           "Mostly Cloudy"
          ],
          [
           "Lodi",
           "NJ",
           "Shallow Fog"
          ],
          [
           "Fort Mill",
           "SC",
           "Light Rain"
          ],
          [
           "Omaha",
           "NE",
           "Overcast"
          ],
          [
           "Menifee",
           "CA",
           "Fair"
          ],
          [
           "Tulsa",
           "OK",
           "Fair"
          ],
          [
           "Sorrento",
           "FL",
           "Haze"
          ],
          [
           "Charlotte",
           "NC",
           "Fair"
          ],
          [
           "Corona",
           "NY",
           "Fair"
          ],
          [
           "San Antonio",
           "TX",
           "Rain"
          ],
          [
           "Homestead",
           "FL",
           "Fair"
          ],
          [
           "Rancho Cucamonga",
           "CA",
           "Mostly Cloudy"
          ],
          [
           "Springfield",
           "VA",
           "Fair"
          ],
          [
           "Manassas",
           "VA",
           "Fair"
          ],
          [
           "Baldwin Park",
           "CA",
           "Cloudy"
          ],
          [
           "Florence",
           "SC",
           "Heavy Rain"
          ],
          [
           "Norfolk",
           "VA",
           "Partly Cloudy"
          ],
          [
           "Brownton",
           "MN",
           "Fair"
          ],
          [
           "Tracy",
           "CA",
           "Fair"
          ],
          [
           "Centereach",
           "NY",
           "Partly Cloudy"
          ],
          [
           "Fresno",
           "CA",
           "Haze"
          ],
          [
           "Los Angeles",
           "CA",
           "Cloudy"
          ],
          [
           "Land O Lakes",
           "FL",
           "Overcast"
          ],
          [
           "Hyattsville",
           "MD",
           "Fair"
          ],
          [
           "Fresno",
           "CA",
           "Partly Cloudy"
          ],
          [
           "Orlando",
           "FL",
           "Clear"
          ],
          [
           "Adelanto",
           "CA",
           "Fair"
          ],
          [
           "Corning",
           "CA",
           "Haze"
          ],
          [
           "Ontario",
           "CA",
           "Partly Cloudy"
          ],
          [
           "Detroit",
           "MI",
           "Overcast"
          ],
          [
           "Los Angeles",
           "CA",
           "Fair"
          ],
          [
           "Los Angeles",
           "CA",
           "Partly Cloudy"
          ],
          [
           "Columbia",
           "SC",
           "Fair"
          ],
          [
           "Newark",
           "NJ",
           "Light Rain"
          ],
          [
           "Rochester",
           "NY",
           "Mostly Cloudy"
          ],
          [
           "Westminster",
           "CA",
           "Cloudy"
          ],
          [
           "Torrance",
           "CA",
           "Overcast"
          ],
          [
           "Charlotte",
           "NC",
           "Cloudy"
          ],
          [
           "Townsend",
           "MA",
           "Overcast"
          ],
          [
           "Nashville",
           "TN",
           "Patches of Fog"
          ],
          [
           "Lees Summit",
           "MO",
           "Overcast"
          ],
          [
           "Sacramento",
           "CA",
           "Fair"
          ],
          [
           "Maple Grove",
           "MN",
           "T-Storm"
          ],
          [
           "Cornelius",
           "NC",
           "Clear"
          ],
          [
           "Kissimmee",
           "FL",
           "Fair"
          ],
          [
           "Avondale",
           "AZ",
           "Partly Cloudy"
          ],
          [
           "Atlantic City",
           "NJ",
           "Partly Cloudy"
          ],
          [
           "Gardena",
           "CA",
           "Overcast"
          ],
          [
           "Walnut Creek",
           "CA",
           "Clear"
          ],
          [
           "Fair Oaks",
           "CA",
           "Fair"
          ],
          [
           "Minneapolis",
           "MN",
           "Fair"
          ],
          [
           "Carson City",
           "NV",
           "Clear"
          ],
          [
           "Valdese",
           "NC",
           "Mostly Cloudy"
          ],
          [
           "Rosemead",
           "CA",
           "Clear"
          ],
          [
           "Monroe",
           "OR",
           "Cloudy"
          ],
          [
           "Lexington",
           "SC",
           "Patches of Fog"
          ],
          [
           "Dallas",
           "TX",
           "Fair"
          ],
          [
           "Miami",
           "FL",
           "Partly Cloudy"
          ],
          [
           "Huntersville",
           "NC",
           "Mostly Cloudy"
          ],
          [
           "Granite Bay",
           "CA",
           "Mostly Cloudy"
          ],
          [
           "Upland",
           "CA",
           "Fair"
          ],
          [
           "Iva",
           "SC",
           "Light Rain"
          ],
          [
           "Fort Mill",
           "SC",
           "Cloudy"
          ],
          [
           "Nashville",
           "TN",
           "T-Storm"
          ],
          [
           "Newton Lower Falls",
           "MA",
           "Cloudy"
          ],
          [
           "Raleigh",
           "NC",
           "Fair"
          ],
          [
           "West Palm Beach",
           "FL",
           "Mostly Cloudy"
          ],
          [
           "Fort Worth",
           "TX",
           "Fair"
          ],
          [
           "Tulsa",
           "OK",
           "Fair"
          ],
          [
           "Sherman Oaks",
           "CA",
           "Fair"
          ],
          [
           "Saint Paul",
           "MN",
           "Partly Cloudy"
          ],
          [
           "Dallas",
           "TX",
           "Partly Cloudy"
          ],
          [
           "Whittier",
           "CA",
           "Fair"
          ],
          [
           "Ontario",
           "CA",
           "Fair"
          ],
          [
           "Hollister",
           "CA",
           "Cloudy"
          ],
          [
           "Naples",
           "FL",
           "Partly Cloudy"
          ],
          [
           "Los Angeles",
           "CA",
           "Mostly Cloudy"
          ],
          [
           "Hampshire",
           "IL",
           "Fair"
          ],
          [
           "Minneapolis",
           "MN",
           "Fair"
          ],
          [
           "Webster",
           "FL",
           "Fair"
          ],
          [
           "Richmond",
           "CA",
           "Fair"
          ],
          [
           "Charlotte",
           "NC",
           "Fair"
          ],
          [
           "Paramus",
           "NJ",
           "Clear"
          ],
          [
           "Houston",
           "TX",
           "Mostly Cloudy"
          ],
          [
           "Oak Lawn",
           "IL",
           "Cloudy"
          ],
          [
           "Miami",
           "FL",
           "Partly Cloudy"
          ],
          [
           "Cary",
           "NC",
           "Scattered Clouds"
          ],
          [
           "Miami",
           "FL",
           "Clear"
          ],
          [
           "Kalispell",
           "MT",
           "Partly Cloudy"
          ],
          [
           "Dallas",
           "TX",
           "Fair"
          ],
          [
           "Meridianville",
           "AL",
           "Scattered Clouds"
          ],
          [
           "Conway",
           "SC",
           "Fair"
          ],
          [
           "Moreno Valley",
           "CA",
           "Fair"
          ],
          [
           "Rochester",
           "NY",
           "Partly Cloudy"
          ],
          [
           "Atlanta",
           "GA",
           "Mostly Cloudy"
          ],
          [
           "Houston",
           "TX",
           "Mostly Cloudy"
          ],
          [
           "Charlotte",
           "NC",
           "Scattered Clouds"
          ],
          [
           "Lawrence",
           "MI",
           "Light Snow"
          ],
          [
           "Venice",
           "FL",
           "Fair"
          ],
          [
           "Miami",
           "FL",
           "Fair"
          ],
          [
           "Miami",
           "FL",
           "Fair"
          ],
          [
           "Batesburg-Leesville",
           "SC",
           "Mostly Cloudy"
          ],
          [
           "San Diego",
           "CA",
           "Partly Cloudy"
          ],
          [
           "Brainerd",
           "MN",
           "Mostly Cloudy"
          ],
          [
           "Duxbury",
           "MA",
           "Fair"
          ],
          [
           "Parker",
           "PA",
           "Light Snow"
          ],
          [
           "West Palm Beach",
           "FL",
           "Scattered Clouds"
          ],
          [
           "Flushing",
           "NY",
           "Mostly Cloudy / Windy"
          ],
          [
           "Costa Mesa",
           "CA",
           "Cloudy"
          ],
          [
           "Swisher",
           "IA",
           "Fair"
          ],
          [
           "Ontario",
           "CA",
           "Clear"
          ],
          [
           "Milwaukee",
           "WI",
           "Mostly Cloudy"
          ],
          [
           "Dayton",
           "OH",
           "Clear"
          ],
          [
           "Fort Wayne",
           "IN",
           "Mostly Cloudy"
          ],
          [
           "Louisville",
           "KY",
           "Heavy Rain"
          ],
          [
           "Sacramento",
           "CA",
           "Smoke"
          ],
          [
           "Schwenksville",
           "PA",
           "Fair"
          ],
          [
           "Harrisburg",
           "PA",
           "Fair"
          ],
          [
           "Kearny",
           "NJ",
           "Partly Cloudy"
          ],
          [
           "Seattle",
           "WA",
           "Overcast"
          ],
          [
           "Birmingham",
           "AL",
           "Fair"
          ],
          [
           "Pittsburgh",
           "PA",
           "Mostly Cloudy"
          ],
          [
           "Charlotte",
           "NC",
           "Cloudy"
          ],
          [
           "Monteagle",
           "TN",
           "Cloudy"
          ],
          [
           "Madera",
           "CA",
           "Smoke"
          ],
          [
           "West Palm Beach",
           "FL",
           "Partly Cloudy"
          ],
          [
           "Brooklyn",
           "NY",
           "Fair"
          ],
          [
           "Skokie",
           "IL",
           "Light Snow"
          ],
          [
           "Tempe",
           "AZ",
           null
          ],
          [
           "Lodi",
           "OH",
           "Snow"
          ],
          [
           "Midway",
           "FL",
           "Mostly Cloudy"
          ],
          [
           "Andover",
           "MA",
           "Clear"
          ],
          [
           "Greenville",
           "SC",
           "Heavy T-Storm"
          ],
          [
           "Lake City",
           "FL",
           "Fair"
          ],
          [
           "Mammoth Lakes",
           "CA",
           "Clear"
          ],
          [
           "Escalon",
           "CA",
           "Clear"
          ],
          [
           "San Diego",
           "CA",
           "Fair"
          ],
          [
           "Ashburn",
           "VA",
           "Partly Cloudy"
          ],
          [
           "Cranston",
           "RI",
           "Overcast"
          ],
          [
           "Saint Louis",
           "MO",
           "Light Rain"
          ],
          [
           "Applegate",
           "CA",
           "Fair"
          ],
          [
           "Lancaster",
           "CA",
           "Clear"
          ],
          [
           "Van Nuys",
           "CA",
           "Fair"
          ],
          [
           "Colton",
           "CA",
           "Haze"
          ],
          [
           "Danville",
           "CA",
           "Fair"
          ],
          [
           "Murrieta",
           "CA",
           "Fair"
          ],
          [
           "Arlington",
           "VA",
           "Partly Cloudy"
          ],
          [
           "Sylmar",
           "CA",
           "Clear"
          ],
          [
           "Willamina",
           "OR",
           "Fair"
          ],
          [
           "Simpsonville",
           "SC",
           "Scattered Clouds"
          ],
          [
           "Columbia",
           "SC",
           "Light Rain"
          ],
          [
           "Los Angeles",
           "CA",
           "Haze"
          ],
          [
           "Columbia",
           "SC",
           "Mostly Cloudy"
          ],
          [
           "Baton Rouge",
           "LA",
           "Cloudy"
          ],
          [
           "Houston",
           "TX",
           "Clear"
          ],
          [
           "Orlando",
           "FL",
           "Partly Cloudy"
          ],
          [
           "Hastings",
           "MN",
           "Clear"
          ],
          [
           "Fresno",
           "CA",
           "Fair"
          ],
          [
           "Red Bluff",
           "CA",
           "Fog"
          ],
          [
           "Littlerock",
           "CA",
           "Fair"
          ],
          [
           "Miami",
           "FL",
           "Mostly Cloudy"
          ],
          [
           "Lynchburg",
           "VA",
           "Mostly Cloudy"
          ],
          [
           "Fallbrook",
           "CA",
           "Partly Cloudy"
          ],
          [
           "Commerce",
           "CA",
           "Fair"
          ],
          [
           "Dallas",
           "TX",
           "Fair"
          ],
          [
           "Calimesa",
           "CA",
           "Showers in the Vicinity"
          ],
          [
           "Dayton",
           "OH",
           "Overcast"
          ],
          [
           "Perris",
           "CA",
           "Fair"
          ],
          [
           "Mira Loma",
           "CA",
           "Fair"
          ],
          [
           "Concord",
           "CA",
           "Mostly Cloudy"
          ],
          [
           "Providence",
           "RI",
           "Clear"
          ],
          [
           "Hermitage",
           "TN",
           "Cloudy"
          ],
          [
           "Pittsburgh",
           "PA",
           "Cloudy"
          ],
          [
           "Charlotte",
           "NC",
           "Fair"
          ],
          [
           "Charlotte",
           "NC",
           "Partly Cloudy"
          ],
          [
           "San Dimas",
           "CA",
           "Fair"
          ],
          [
           "Dallas",
           "TX",
           "Light Rain"
          ],
          [
           "Claremont",
           "CA",
           "Light Rain"
          ],
          [
           "Flint",
           "MI",
           "Light Rain"
          ],
          [
           "New Florence",
           "MO",
           "Cloudy"
          ],
          [
           "Raleigh",
           "NC",
           "Mostly Cloudy"
          ],
          [
           "Kansas City",
           "KS",
           "Fair"
          ],
          [
           "Los Angeles",
           "CA",
           "Mostly Cloudy"
          ],
          [
           "Tampa",
           "FL",
           "Fair"
          ],
          [
           "Orlando",
           "FL",
           "Fair"
          ],
          [
           "Ashland",
           "OR",
           "Fair"
          ],
          [
           "Orlando",
           "FL",
           "Partly Cloudy"
          ],
          [
           "Ontario",
           "CA",
           "Mostly Cloudy"
          ],
          [
           "Dallas",
           "TX",
           "Mostly Cloudy"
          ],
          [
           "Dallas",
           "TX",
           "Scattered Clouds"
          ],
          [
           "Stockton",
           "CA",
           "Fair"
          ],
          [
           "Thonotosassa",
           "FL",
           "Fair"
          ],
          [
           "Mckinleyville",
           "CA",
           "Cloudy"
          ],
          [
           "Mission Viejo",
           "CA",
           "Fair"
          ],
          [
           "Tracy",
           "CA",
           "Fair"
          ],
          [
           "Hesperia",
           "CA",
           "Clear"
          ],
          [
           "Frederick",
           "MD",
           "Fair"
          ],
          [
           "Springfield",
           "OR",
           "Partly Cloudy"
          ],
          [
           "Greenville",
           "NC",
           "Drizzle"
          ],
          [
           "Dumont",
           "CO",
           "Cloudy"
          ],
          [
           "Fallbrook",
           "CA",
           "Mostly Cloudy"
          ],
          [
           "Los Angeles",
           "CA",
           "Fair"
          ],
          [
           "Placerville",
           "CA",
           "Cloudy"
          ],
          [
           "Litchfield",
           "IL",
           "Cloudy"
          ],
          [
           "Albany",
           "OR",
           null
          ],
          [
           "Kent",
           "WA",
           "Light Drizzle / Windy"
          ],
          [
           "Charlotte",
           "NC",
           "Fair"
          ],
          [
           "Canton",
           "PA",
           "Fair"
          ],
          [
           "Valley Village",
           "CA",
           "Fair"
          ],
          [
           "Sacramento",
           "CA",
           "Clear"
          ],
          [
           "San Antonio",
           "TX",
           "Fair"
          ],
          [
           "Lombard",
           "IL",
           "Mostly Cloudy"
          ],
          [
           "Long Beach",
           "CA",
           "Fair"
          ],
          [
           "Gardena",
           "CA",
           "Clear"
          ],
          [
           "Tulsa",
           "OK",
           "Fair"
          ],
          [
           "Waterbury",
           "CT",
           "Partly Cloudy"
          ],
          [
           "Perryville",
           "MD",
           "Mostly Cloudy"
          ],
          [
           "Erlanger",
           "KY",
           "Light Rain"
          ],
          [
           "El Paso",
           "TX",
           "Mostly Cloudy"
          ],
          [
           "Deerfield",
           "IL",
           "Overcast"
          ],
          [
           "Raleigh",
           "NC",
           "Cloudy"
          ],
          [
           "Lorton",
           "VA",
           "Fair"
          ],
          [
           "Saint Augustine",
           "FL",
           "Fair"
          ],
          [
           "Charlotte",
           "NC",
           "Cloudy"
          ],
          [
           "Duluth",
           "GA",
           "Overcast"
          ],
          [
           "Fair Oaks",
           "CA",
           "Fair"
          ],
          [
           "Miami",
           "FL",
           "Cloudy"
          ],
          [
           "Missoula",
           "MT",
           "Light Snow"
          ],
          [
           "Chester",
           "VA",
           null
          ],
          [
           "Hayward",
           "CA",
           "Fair"
          ],
          [
           "Troy",
           "NY",
           "Light Drizzle"
          ],
          [
           "Grand Rapids",
           "MI",
           "Partly Cloudy"
          ],
          [
           "Sandy",
           "UT",
           "Clear"
          ],
          [
           "Duncan",
           "SC",
           "Fair"
          ],
          [
           "Apex",
           "NC",
           "Light Rain"
          ],
          [
           "Warren",
           "MI",
           "Cloudy"
          ],
          [
           "Dallas",
           "TX",
           "Mostly Cloudy"
          ],
          [
           "Hopkins",
           "MN",
           "Fair"
          ],
          [
           "Greenfield",
           "MA",
           "Mostly Cloudy"
          ],
          [
           "Phoenix",
           "AZ",
           "Fair"
          ],
          [
           "Riverdale",
           "CA",
           "Fair"
          ],
          [
           "New Orleans",
           "LA",
           "Mostly Cloudy"
          ],
          [
           "Greenwood",
           "VA",
           "Light Drizzle"
          ],
          [
           "San Bernardino",
           "CA",
           "Fair"
          ],
          [
           "Solen",
           "ND",
           "Cloudy"
          ],
          [
           "Long Beach",
           "CA",
           "Haze"
          ],
          [
           "Bishopville",
           "MD",
           "Fair"
          ],
          [
           "Mooreton",
           "ND",
           "Mostly Cloudy"
          ],
          [
           "Aurora",
           "CO",
           "Scattered Clouds"
          ],
          [
           "Atascadero",
           "CA",
           "Overcast"
          ],
          [
           "Riverdale",
           "MD",
           "Fair"
          ],
          [
           "Pittsburgh",
           "PA",
           "Overcast"
          ],
          [
           "Nashville",
           "TN",
           "Partly Cloudy"
          ],
          [
           "Reading",
           "PA",
           "Cloudy"
          ],
          [
           "Knightdale",
           "NC",
           "Clear"
          ],
          [
           "Saint Louis",
           "MO",
           "Cloudy"
          ],
          [
           "Cantil",
           "CA",
           "Fair"
          ],
          [
           "Spartanburg",
           "SC",
           "Fair"
          ],
          [
           "Arlington Heights",
           "IL",
           "Light Snow"
          ],
          [
           "Whittier",
           "CA",
           "Haze"
          ],
          [
           "Bethesda",
           "MD",
           "Fair"
          ],
          [
           "Richmond",
           "VA",
           "Partly Cloudy"
          ],
          [
           "Brandon",
           "FL",
           "Cloudy"
          ],
          [
           "Flint",
           "MI",
           "Light Snow"
          ],
          [
           "Staples",
           "MN",
           "Fair"
          ],
          [
           "Pensacola",
           "FL",
           "Fair"
          ],
          [
           "Los Angeles",
           "CA",
           "Overcast"
          ],
          [
           "Riverview",
           "FL",
           "Cloudy"
          ],
          [
           "Spring Hill",
           "FL",
           "Fair"
          ],
          [
           "San Francisco",
           "CA",
           "Clear"
          ],
          [
           "Baton Rouge",
           "LA",
           "Mostly Cloudy"
          ],
          [
           "Riverton",
           "UT",
           "Mostly Cloudy"
          ],
          [
           "Houston",
           "TX",
           "Fair"
          ],
          [
           "Corcoran",
           "CA",
           "Fair"
          ],
          [
           "Phoenix",
           "AZ",
           "Mostly Cloudy"
          ],
          [
           "Seattle",
           "WA",
           "Overcast"
          ],
          [
           "Modesto",
           "CA",
           "Clear"
          ],
          [
           "Wallsburg",
           "UT",
           null
          ],
          [
           "Brookville",
           "PA",
           "Wintry Mix"
          ],
          [
           "Miami",
           "FL",
           "Fair"
          ],
          [
           "Oklahoma City",
           "OK",
           "Fair"
          ],
          [
           "Lafayette",
           "CA",
           "Clear"
          ],
          [
           "Parsonsburg",
           "MD",
           "Fair"
          ],
          [
           "Sunnyvale",
           "CA",
           "Scattered Clouds"
          ],
          [
           "Minneapolis",
           "MN",
           "Light Rain"
          ],
          [
           "Houston",
           "TX",
           "Cloudy"
          ],
          [
           "Tampa",
           "FL",
           "Mostly Cloudy"
          ],
          [
           "Austin",
           "TX",
           "Fair"
          ],
          [
           "San Bernardino",
           "CA",
           "Fair"
          ],
          [
           "North Augusta",
           "SC",
           "Clear"
          ],
          [
           "Peoria",
           "IL",
           "Overcast"
          ],
          [
           "Fort Lauderdale",
           "FL",
           "Mostly Cloudy"
          ],
          [
           "Crescent City",
           "FL",
           "Mostly Cloudy"
          ],
          [
           "Oklahoma City",
           "OK",
           "Partly Cloudy"
          ],
          [
           "Fort Worth",
           "TX",
           "Mostly Cloudy"
          ],
          [
           "Atlanta",
           "GA",
           "Thunderstorms and Rain"
          ],
          [
           "Tampa",
           "FL",
           "Partly Cloudy"
          ],
          [
           "Clackamas",
           "OR",
           "Fair"
          ],
          [
           "San Bernardino",
           "CA",
           "Haze"
          ],
          [
           "Tracy",
           "CA",
           "Fair"
          ],
          [
           "Houston",
           "TX",
           "Clear"
          ],
          [
           "Antioch",
           "IL",
           "Fair"
          ],
          [
           "Miami",
           "FL",
           "Cloudy"
          ],
          [
           "Lynwood",
           "CA",
           "Scattered Clouds"
          ],
          [
           "Charlotte",
           "NC",
           "Overcast"
          ],
          [
           "St Louis",
           "MO",
           "Wintry Mix"
          ],
          [
           "Lost Hills",
           "CA",
           "Fair"
          ],
          [
           "Cullman",
           "AL",
           "Partly Cloudy"
          ],
          [
           "Carrollton",
           "VA",
           "Fair"
          ],
          [
           "Darien",
           "IL",
           "Clear"
          ],
          [
           "Turlock",
           "CA",
           "Clear"
          ],
          [
           "Berlin",
           "CT",
           "Mostly Cloudy"
          ],
          [
           "Los Gatos",
           "CA",
           "Partly Cloudy"
          ],
          [
           "Red Bluff",
           "CA",
           "Fair"
          ],
          [
           "Troy",
           "VA",
           "Fair"
          ],
          [
           "New Orleans",
           "LA",
           "Mostly Cloudy"
          ],
          [
           "Saint Clair Shores",
           "MI",
           "Light Rain"
          ],
          [
           "Long Beach",
           "MS",
           "Fog"
          ],
          [
           "Minneapolis",
           "MN",
           "Light Snow"
          ],
          [
           "North Miami",
           "FL",
           "Light Rain"
          ],
          [
           "Clinton",
           "MD",
           "Overcast"
          ],
          [
           "Houston",
           "TX",
           "Mostly Cloudy"
          ],
          [
           "New Cumberland",
           "PA",
           "Mostly Cloudy"
          ],
          [
           "Santa Cruz",
           "CA",
           "Fair"
          ],
          [
           "Fallbrook",
           "CA",
           "Partly Cloudy"
          ],
          [
           "Timberville",
           "VA",
           "Cloudy"
          ],
          [
           "Pittsburg",
           "CA",
           "Cloudy"
          ],
          [
           "Tampa",
           "FL",
           "Mostly Cloudy"
          ],
          [
           "Greensboro",
           "GA",
           "Mostly Cloudy"
          ],
          [
           "Nottingham",
           "MD",
           "Cloudy / Windy"
          ],
          [
           "Phoenix",
           "AZ",
           "Mostly Cloudy"
          ],
          [
           "Lancaster",
           "PA",
           "Fog"
          ],
          [
           "Tallahassee",
           "FL",
           "Cloudy"
          ],
          [
           "Elmhurst",
           "IL",
           "Partly Cloudy"
          ],
          [
           "Miami",
           "FL",
           "Mostly Cloudy"
          ],
          [
           "Wheaton",
           "IL",
           "Clear"
          ],
          [
           "Columbia",
           "SC",
           "Overcast"
          ],
          [
           "Phoenix",
           "AZ",
           "Clear"
          ],
          [
           "Charlotte",
           "NC",
           "Light Rain"
          ],
          [
           "Pittsburgh",
           "PA",
           "Light Snow"
          ],
          [
           "Tallahassee",
           "FL",
           "Fair"
          ],
          [
           "Arlington",
           "VA",
           "Cloudy"
          ],
          [
           "Charlotte",
           "NC",
           "Mostly Cloudy"
          ],
          [
           "Denver",
           "CO",
           "Fair"
          ],
          [
           "Danbury",
           "CT",
           "Light Snow"
          ],
          [
           "Miami Gardens",
           "FL",
           "Fair"
          ],
          [
           "Fort Lauderdale",
           "FL",
           "Fair"
          ],
          [
           "Sioux City",
           "IA",
           "Mostly Cloudy / Windy"
          ],
          [
           "Silver Spring",
           "MD",
           "Clear"
          ],
          [
           "Palm City",
           "FL",
           "Fair"
          ],
          [
           "Cincinnati",
           "OH",
           "Clear"
          ],
          [
           "Murrieta",
           "CA",
           "Fair"
          ],
          [
           "Liberty",
           "MO",
           null
          ],
          [
           "Miami",
           "FL",
           "Mostly Cloudy"
          ],
          [
           "Buffalo Grove",
           "IL",
           "Fair"
          ],
          [
           "Virginia Beach",
           "VA",
           "Partly Cloudy"
          ],
          [
           "Hayward",
           "CA",
           "Clear"
          ],
          [
           "Lee",
           "FL",
           "Fair"
          ],
          [
           "O Fallon",
           "MO",
           "Fair"
          ],
          [
           "Bakersfield",
           "CA",
           "Cloudy"
          ],
          [
           "Detroit",
           "MI",
           "Overcast"
          ],
          [
           "Charlotte",
           "NC",
           "Scattered Clouds"
          ],
          [
           "Austin",
           "TX",
           "Clear"
          ],
          [
           "Bowman",
           "SC",
           "Fair"
          ],
          [
           "Miami",
           "FL",
           "Overcast"
          ],
          [
           "Fort Lauderdale",
           "FL",
           "Fog"
          ],
          [
           "Central Point",
           "OR",
           "Overcast"
          ],
          [
           "Coatesville",
           "PA",
           "Mostly Cloudy"
          ],
          [
           "Baton Rouge",
           "LA",
           "Light Rain"
          ],
          [
           "Los Angeles",
           "CA",
           "Fair"
          ],
          [
           "Gustine",
           "CA",
           "Fair"
          ],
          [
           "San Quentin",
           "CA",
           null
          ],
          [
           "York",
           "PA",
           "Fair"
          ],
          [
           "Lenhartsville",
           "PA",
           "Fair"
          ],
          [
           "Englewood",
           "CO",
           "Mostly Cloudy"
          ],
          [
           "Arlington",
           "TX",
           "Clear"
          ],
          [
           "Los Angeles",
           "CA",
           "Fair"
          ],
          [
           "Kansas City",
           "MO",
           "Clear"
          ],
          [
           "Fairfax",
           "VA",
           "Mostly Cloudy"
          ],
          [
           "Edmond",
           "OK",
           "Clear"
          ],
          [
           "Rose Hill",
           "NC",
           "Cloudy"
          ],
          [
           "Sacramento",
           "CA",
           "Mostly Cloudy"
          ],
          [
           "Frederick",
           "MD",
           "Overcast"
          ],
          [
           "Lombard",
           "IL",
           "Cloudy"
          ],
          [
           "Atlanta",
           "GA",
           "Clear"
          ],
          [
           "Leesville",
           "SC",
           "Fair"
          ],
          [
           "Freeport",
           "NY",
           "Mostly Cloudy"
          ],
          [
           "Ashland",
           "OR",
           "Cloudy"
          ],
          [
           "Oklahoma City",
           "OK",
           "Clear"
          ],
          [
           "Schaumburg",
           "IL",
           "Fair"
          ],
          [
           "San Marcos",
           "TX",
           "Fair"
          ],
          [
           "Fishkill",
           "NY",
           "Mostly Cloudy"
          ],
          [
           "Dallas",
           "TX",
           "Thunderstorms and Rain"
          ],
          [
           "North Hollywood",
           "CA",
           "Clear"
          ],
          [
           "Baton Rouge",
           "LA",
           "Heavy Thunderstorms and Rain"
          ],
          [
           "Secaucus",
           "NJ",
           "Mostly Cloudy"
          ],
          [
           "Ocoee",
           "FL",
           "Mostly Cloudy"
          ],
          [
           "Seymour",
           "IN",
           "Clear"
          ],
          [
           "Dayton",
           "OH",
           "Clear"
          ],
          [
           "Conway",
           "SC",
           "Mostly Cloudy"
          ],
          [
           "Memphis",
           "TN",
           "Fair"
          ],
          [
           "Baton Rouge",
           "LA",
           "Cloudy"
          ],
          [
           "Castro Valley",
           "CA",
           "Clear"
          ],
          [
           "Prospect",
           "OR",
           "Fog"
          ],
          [
           "Jacksonville",
           "FL",
           "Light Rain"
          ],
          [
           "Cincinnati",
           "OH",
           "Cloudy"
          ],
          [
           "Spartanburg",
           "SC",
           "Cloudy"
          ],
          [
           "Oceanside",
           "CA",
           "Clear"
          ],
          [
           "Sacramento",
           "CA",
           "Partly Cloudy"
          ],
          [
           "Gibsonton",
           "FL",
           "Mostly Cloudy"
          ],
          [
           "Stevens",
           "PA",
           "Fair"
          ],
          [
           "Huntsville",
           "AL",
           "Cloudy"
          ],
          [
           "Bethlehem",
           "PA",
           "Clear"
          ],
          [
           "Colfax",
           "CA",
           "Fog"
          ],
          [
           "Chesapeake",
           "VA",
           "Fair"
          ],
          [
           "Upland",
           "CA",
           "Mostly Cloudy"
          ],
          [
           "Tuscaloosa",
           "AL",
           "Clear"
          ],
          [
           "South Holland",
           "IL",
           "Clear"
          ],
          [
           "Manheim",
           "PA",
           "Fair"
          ],
          [
           "Raleigh",
           "NC",
           "Cloudy"
          ],
          [
           "Rosemead",
           "CA",
           "Fair"
          ],
          [
           "West Sacramento",
           "CA",
           "Fair"
          ],
          [
           "Billings",
           "MT",
           "Mostly Cloudy"
          ],
          [
           "Eastover",
           "SC",
           "Partly Cloudy"
          ],
          [
           "Greenwich",
           "CT",
           "Mostly Cloudy"
          ],
          [
           "Virginia Beach",
           "VA",
           "Mostly Cloudy"
          ],
          [
           "Hacienda Heights",
           "CA",
           "Fair"
          ],
          [
           "Davis",
           "CA",
           "Clear"
          ],
          [
           "Raleigh",
           "NC",
           "Mostly Cloudy"
          ],
          [
           "Sacramento",
           "CA",
           "Clear"
          ],
          [
           "Austin",
           "TX",
           "Fair"
          ],
          [
           "Pomona",
           "CA",
           "Cloudy"
          ],
          [
           "Melbourne",
           "FL",
           "Clear"
          ],
          [
           "Houston",
           "TX",
           "Cloudy"
          ],
          [
           "Seal Beach",
           "CA",
           "Mostly Cloudy"
          ],
          [
           "San Jose",
           "CA",
           "Fair"
          ],
          [
           "Johnson City",
           "NY",
           "Fair"
          ],
          [
           "Pomona",
           "CA",
           "Clear"
          ],
          [
           "Baton Rouge",
           "LA",
           "Cloudy"
          ],
          [
           "Ogden",
           "UT",
           "Mostly Cloudy"
          ],
          [
           "Baton Rouge",
           "LA",
           "Fair"
          ],
          [
           "Brooklyn",
           "NY",
           "Fair"
          ],
          [
           "Hillman",
           "MN",
           "Wintry Mix"
          ],
          [
           "North Hollywood",
           "CA",
           "Clear"
          ],
          [
           "Buena Park",
           "CA",
           "Partly Cloudy"
          ],
          [
           "Osseo",
           "MN",
           "Fair"
          ],
          [
           "Livermore",
           "CA",
           "Fair"
          ],
          [
           "Wimauma",
           "FL",
           null
          ],
          [
           "Syosset",
           "NY",
           "Fog"
          ],
          [
           "Laguna Hills",
           "CA",
           "Partly Cloudy"
          ],
          [
           "Arnold",
           "MO",
           "Fair"
          ],
          [
           "Torrance",
           "CA",
           "Fair"
          ],
          [
           "Los Angeles",
           "CA",
           "Light Rain"
          ],
          [
           "Oviedo",
           "FL",
           "Overcast"
          ],
          [
           "Burbank",
           "CA",
           "Fair"
          ],
          [
           "Slidell",
           "LA",
           "Rain"
          ],
          [
           "Colusa",
           "CA",
           "Fair"
          ],
          [
           "Charleston",
           "WV",
           "Rain"
          ],
          [
           "Marietta",
           "GA",
           "Cloudy"
          ],
          [
           "Gresham",
           "SC",
           "Overcast"
          ],
          [
           "Arleta",
           "CA",
           "Fair"
          ],
          [
           "Richmond",
           "VA",
           "Fair"
          ],
          [
           "Albany",
           "NY",
           "Scattered Clouds"
          ],
          [
           "Norfolk",
           "VA",
           "Mostly Cloudy"
          ],
          [
           "Fort Lee",
           "NJ",
           "Partly Cloudy"
          ],
          [
           "Fort Myers",
           "FL",
           "Fair"
          ],
          [
           "Bigfork",
           "MN",
           "Cloudy"
          ],
          [
           "Franklin",
           "OH",
           "Fair"
          ],
          [
           "Brick",
           "NJ",
           "Fair"
          ],
          [
           "Elliston",
           "VA",
           "Fair"
          ],
          [
           "Glen Saint Mary",
           "FL",
           "Mostly Cloudy"
          ],
          [
           "Richmond",
           "VA",
           "Cloudy"
          ],
          [
           "Redwood City",
           "CA",
           "Fair"
          ],
          [
           "Bay Minette",
           "AL",
           "Heavy Rain"
          ],
          [
           "Lake Dallas",
           "TX",
           "Cloudy"
          ],
          [
           "Baton Rouge",
           "LA",
           "Mostly Cloudy"
          ],
          [
           "Bakersfield",
           "CA",
           "Mostly Cloudy"
          ],
          [
           "Castro Valley",
           "CA",
           "Fair"
          ],
          [
           "Anderson",
           "SC",
           "Clear"
          ],
          [
           "Elgin",
           "TX",
           "Partly Cloudy"
          ],
          [
           "Charlotte",
           "NC",
           "Partly Cloudy"
          ],
          [
           "Hagerstown",
           "MD",
           "Cloudy"
          ],
          [
           "Midvale",
           "UT",
           "Patches of Fog"
          ],
          [
           "Pasadena",
           "CA",
           null
          ],
          [
           "San Bernardino",
           "CA",
           "Overcast"
          ],
          [
           "The Dalles",
           "OR",
           "Fair"
          ],
          [
           "Burlingame",
           "CA",
           "Fair"
          ],
          [
           "Milwaukee",
           "WI",
           "Overcast"
          ],
          [
           "Folsom",
           "CA",
           "Fair"
          ],
          [
           "Sherman Oaks",
           "CA",
           "Clear"
          ],
          [
           "Monee",
           "IL",
           "Mostly Cloudy"
          ],
          [
           "Hampton",
           "VA",
           null
          ],
          [
           "Austin",
           "TX",
           "Cloudy"
          ],
          [
           "Mattapan",
           "MA",
           null
          ],
          [
           "Fairfax",
           "VA",
           "Clear"
          ],
          [
           "Sugar Grove",
           "IL",
           "Fair"
          ],
          [
           "Del Valle",
           "TX",
           "Partly Cloudy"
          ],
          [
           "Little Rock",
           "AR",
           "Cloudy"
          ],
          [
           "Tulsa",
           "OK",
           "Fair"
          ],
          [
           "Round Rock",
           "TX",
           "Cloudy"
          ],
          [
           "Pittsburgh",
           "PA",
           "Light Rain"
          ],
          [
           "Palmetto",
           "FL",
           "Mostly Cloudy"
          ],
          [
           "Miami",
           "FL",
           "Partly Cloudy"
          ],
          [
           "Kankakee",
           "IL",
           "Fair"
          ],
          [
           "Bronx",
           "NY",
           "Mostly Cloudy"
          ],
          [
           "Shaniko",
           "OR",
           "Fair"
          ],
          [
           "Bellmawr",
           "NJ",
           "Cloudy"
          ],
          [
           "Lodi",
           "CA",
           "Fair"
          ],
          [
           "Griffin",
           "GA",
           "Fair"
          ],
          [
           "Orlando",
           "FL",
           "Fair"
          ],
          [
           "Castleton On Hudson",
           "NY",
           "Mostly Cloudy"
          ],
          [
           "Sarasota",
           "FL",
           "Fair"
          ],
          [
           "Myrtle Point",
           "OR",
           "Haze"
          ],
          [
           "Fairfield",
           "CA",
           "Fair"
          ],
          [
           "Easthampton",
           "MA",
           "Heavy Rain"
          ],
          [
           "Fort Lauderdale",
           "FL",
           "Fair"
          ],
          [
           "Orlando",
           "FL",
           "Cloudy"
          ],
          [
           "Troutdale",
           "OR",
           "Cloudy"
          ],
          [
           "Memphis",
           "TN",
           "Overcast"
          ],
          [
           "Tustin",
           "CA",
           "Fair"
          ],
          [
           "Irvine",
           "CA",
           "Partly Cloudy"
          ],
          [
           "Clifton Springs",
           "NY",
           "Cloudy"
          ],
          [
           "Lincroft",
           "NJ",
           "Heavy Rain"
          ],
          [
           "Hugo",
           "MN",
           "Light Snow"
          ],
          [
           "Tampa",
           "FL",
           "Mostly Cloudy"
          ],
          [
           "Wytheville",
           "VA",
           "Cloudy"
          ],
          [
           "San Bernardino",
           "CA",
           "Haze"
          ],
          [
           "Oakland",
           "CA",
           "Fair"
          ],
          [
           "Galivants Ferry",
           "SC",
           "Fair"
          ],
          [
           "La Porte",
           "TX",
           "Rain"
          ],
          [
           "Jamaica",
           "NY",
           "Mostly Cloudy"
          ],
          [
           "Glendale",
           "AZ",
           "Scattered Clouds"
          ],
          [
           "Salinas",
           "CA",
           "Partly Cloudy"
          ],
          [
           "Troy",
           "NY",
           "Light Rain"
          ],
          [
           "Seattle",
           "WA",
           "Clear"
          ],
          [
           "Nashville",
           "TN",
           "Mostly Cloudy"
          ],
          [
           "Augusta",
           "ME",
           "Clear"
          ],
          [
           "San Diego",
           "CA",
           "Cloudy"
          ],
          [
           "Richmond",
           "CA",
           "Fair / Windy"
          ],
          [
           "Jupiter",
           "FL",
           null
          ],
          [
           "Norcross",
           "GA",
           "Light Rain"
          ],
          [
           "Miami",
           "FL",
           "Mostly Cloudy"
          ],
          [
           "San Pablo",
           "CA",
           "Partly Cloudy"
          ],
          [
           "San Diego",
           "CA",
           "Overcast"
          ],
          [
           "Pooler",
           "GA",
           "Mostly Cloudy"
          ],
          [
           "Highland",
           "NY",
           "Fair"
          ],
          [
           "East Saint Louis",
           "IL",
           "Fair"
          ],
          [
           "Conway",
           "AR",
           "Cloudy"
          ],
          [
           "Dallas",
           "TX",
           "Partly Cloudy"
          ],
          [
           "Hialeah",
           "FL",
           "Light Rain"
          ],
          [
           "West Charleston",
           "VT",
           "Light Snow"
          ],
          [
           "Fort Worth",
           "TX",
           "Cloudy"
          ],
          [
           "Augusta",
           "GA",
           "Cloudy"
          ],
          [
           "Nashville",
           "TN",
           "Mostly Cloudy"
          ],
          [
           "Chicago",
           "IL",
           "Mostly Cloudy"
          ],
          [
           "Cleveland",
           "OH",
           "Fair"
          ],
          [
           "Charlotte",
           "NC",
           "Fair"
          ],
          [
           "Austin",
           "TX",
           "Clear"
          ],
          [
           "Alhambra",
           "CA",
           "Overcast"
          ],
          [
           "Newark",
           "CA",
           "Fair"
          ],
          [
           "Pasadena",
           "CA",
           null
          ],
          [
           "Austin",
           "TX",
           "Mostly Cloudy"
          ],
          [
           "Antioch",
           "TN",
           "T-Storm"
          ],
          [
           "Hagerstown",
           "MD",
           "Fair"
          ],
          [
           "North Salt Lake",
           "UT",
           "Fair"
          ],
          [
           "Milwaukee",
           "WI",
           "Mostly Cloudy"
          ],
          [
           "Anaheim",
           "CA",
           "Fair"
          ],
          [
           "Omaha",
           "NE",
           "Partly Cloudy"
          ],
          [
           "Humble",
           "TX",
           "Fair"
          ],
          [
           "Charlotte",
           "NC",
           "Cloudy"
          ],
          [
           "Irvine",
           "CA",
           "Mostly Cloudy"
          ],
          [
           "Sacramento",
           "CA",
           "Light Rain"
          ],
          [
           "Myrtle Beach",
           "SC",
           "Fair"
          ],
          [
           "Tampa",
           "FL",
           "Partly Cloudy"
          ],
          [
           "Tempe",
           "AZ",
           "Mostly Cloudy"
          ],
          [
           "Corona",
           "CA",
           "Fog"
          ],
          [
           "Soledad",
           "CA",
           "Fair"
          ],
          [
           "Charlotte",
           "NC",
           "Mostly Cloudy"
          ],
          [
           "Yorktown",
           "VA",
           "Fair"
          ],
          [
           "Sunol",
           "CA",
           "Light Rain"
          ],
          [
           "Princeton",
           "NJ",
           "Fair"
          ],
          [
           "Stockton",
           "CA",
           "Cloudy"
          ],
          [
           "Dallas",
           "TX",
           "Clear"
          ],
          [
           "Union",
           "MI",
           "Fair"
          ],
          [
           "Mesa",
           "AZ",
           "Fair"
          ],
          [
           "Sanger",
           "CA",
           "Mostly Cloudy"
          ],
          [
           "Houston",
           "TX",
           "Cloudy"
          ],
          [
           "Stockton",
           "CA",
           "Fair"
          ],
          [
           "Escondido",
           "CA",
           "Fair"
          ],
          [
           "San Bruno",
           "CA",
           "Partly Cloudy"
          ],
          [
           "Spencer",
           "OK",
           "Partly Cloudy"
          ],
          [
           "San Mateo",
           "CA",
           "Clear"
          ],
          [
           "Tulsa",
           "OK",
           "Mostly Cloudy"
          ],
          [
           "Saint Paul",
           "MN",
           "Partly Cloudy"
          ],
          [
           "Buffalo",
           "NY",
           "Partly Cloudy"
          ],
          [
           "Houston",
           "TX",
           "Partly Cloudy"
          ],
          [
           "Schenectady",
           "NY",
           "Light Rain"
          ],
          [
           "Mequon",
           "WI",
           "Clear"
          ],
          [
           "Wichita Falls",
           "TX",
           "Cloudy"
          ],
          [
           "Mount Hamilton",
           "CA",
           "Mostly Cloudy"
          ],
          [
           "Covington",
           "KY",
           "Fair"
          ],
          [
           "Staten Island",
           "NY",
           "Light Rain"
          ],
          [
           "Henrico",
           "VA",
           "Fair"
          ],
          [
           "Los Angeles",
           "CA",
           "Fair"
          ],
          [
           "Cheraw",
           "SC",
           "Fair"
          ],
          [
           "York",
           "PA",
           "Clear"
          ],
          [
           "Baltimore",
           "MD",
           null
          ],
          [
           "Manassas",
           "VA",
           "Light Snow"
          ],
          [
           "Trenton",
           "NJ",
           "Fair"
          ],
          [
           "Houston",
           "TX",
           "Cloudy"
          ],
          [
           "Phelan",
           "CA",
           null
          ],
          [
           "Paoli",
           "PA",
           "Mostly Cloudy"
          ],
          [
           "Gilroy",
           "CA",
           "Fair"
          ],
          [
           "Miami",
           "FL",
           "Fair"
          ],
          [
           "Kearny",
           "NJ",
           "Mostly Cloudy"
          ],
          [
           "Durham",
           "CT",
           "Fog"
          ],
          [
           "San Jose",
           "CA",
           "Fair"
          ],
          [
           "Pineville",
           "NC",
           "Mostly Cloudy"
          ],
          [
           "Houston",
           "TX",
           "Mostly Cloudy"
          ],
          [
           "Fallon",
           "NV",
           "Clear"
          ],
          [
           "Columbia",
           "SC",
           "Partly Cloudy"
          ],
          [
           "Crab Orchard",
           "TN",
           "Mostly Cloudy"
          ],
          [
           "Chantilly",
           "VA",
           "Clear"
          ],
          [
           "Biloxi",
           "MS",
           "Light Rain"
          ],
          [
           "Palatka",
           "FL",
           "Mostly Cloudy"
          ],
          [
           "San Francisco",
           "CA",
           "Partly Cloudy"
          ],
          [
           "Portland",
           "OR",
           "Cloudy"
          ],
          [
           "Altoona",
           "PA",
           "Light Rain"
          ],
          [
           "Portland",
           "OR",
           "Mostly Cloudy"
          ],
          [
           "Manns Choice",
           "PA",
           "Fair"
          ],
          [
           "Telford",
           "PA",
           "Fair"
          ],
          [
           "Miami",
           "FL",
           "Mostly Cloudy"
          ],
          [
           "Dallas",
           "TX",
           "Clear"
          ],
          [
           "Raleigh",
           "NC",
           "Cloudy"
          ],
          [
           "Hacienda Heights",
           "CA",
           "Haze"
          ],
          [
           "Marion",
           "SC",
           "Fair"
          ],
          [
           "Charleston",
           "WV",
           "Light Rain"
          ],
          [
           "Irvine",
           "CA",
           "Scattered Clouds"
          ],
          [
           "New Castle",
           "DE",
           "Cloudy"
          ],
          [
           "Dayton",
           "OH",
           "Partly Cloudy"
          ],
          [
           "Tucumcari",
           "NM",
           "Mostly Cloudy"
          ],
          [
           "Rowland Heights",
           "CA",
           "Fair"
          ],
          [
           "Rowland Heights",
           "CA",
           "Fair"
          ],
          [
           "Anaheim",
           "CA",
           "Fair"
          ],
          [
           "Astoria",
           "OR",
           "Fair"
          ],
          [
           "Santa Rosa",
           "CA",
           "Partly Cloudy"
          ],
          [
           "Saint Paul",
           "MN",
           "Snow"
          ],
          [
           "Mustang",
           "OK",
           "Fair"
          ],
          [
           "Hamilton",
           "AL",
           "Light Snow"
          ],
          [
           "Kissimmee",
           "FL",
           "Fair"
          ],
          [
           "Downey",
           "CA",
           "Clear"
          ],
          [
           "Chicago",
           "IL",
           "Mostly Cloudy"
          ],
          [
           "Lindsay",
           "CA",
           "Fair"
          ],
          [
           "Minneapolis",
           "MN",
           "Fair"
          ],
          [
           "Brooksville",
           "FL",
           "Fair"
          ],
          [
           "Seattle",
           "WA",
           "Partly Cloudy"
          ],
          [
           "Occidental",
           "CA",
           "Mostly Cloudy"
          ],
          [
           "Miami",
           "FL",
           "Mostly Cloudy"
          ],
          [
           "Austin",
           "TX",
           "Mostly Cloudy"
          ],
          [
           "Pinole",
           "CA",
           "Mostly Cloudy"
          ],
          [
           "Clarksburg",
           "MD",
           "Clear"
          ],
          [
           "Coalport",
           "PA",
           "Partly Cloudy"
          ],
          [
           "Charlotte",
           "NC",
           "Rain"
          ],
          [
           "Orlando",
           "FL",
           "Mostly Cloudy"
          ],
          [
           "Jonesville",
           "SC",
           "Heavy Rain"
          ],
          [
           "Savannah",
           "GA",
           "Cloudy"
          ],
          [
           "Goodyear",
           "AZ",
           "Mostly Cloudy"
          ],
          [
           "Dallas",
           "TX",
           "Cloudy"
          ],
          [
           "Winchester",
           "CA",
           "Fair"
          ],
          [
           "Manassas",
           "VA",
           "Mostly Cloudy"
          ],
          [
           "Ontario",
           "CA",
           "Fair"
          ],
          [
           "Duncan",
           "SC",
           "Fair"
          ],
          [
           "Portland",
           "OR",
           "Fair"
          ],
          [
           "Orlando",
           "FL",
           "Mostly Cloudy"
          ],
          [
           "Wayland",
           "MI",
           "Rain"
          ],
          [
           "Merchantville",
           "NJ",
           "Cloudy"
          ],
          [
           "Chattanooga",
           "TN",
           "Fair"
          ],
          [
           "Placerville",
           "CA",
           "Mostly Cloudy"
          ],
          [
           "New Rochelle",
           "NY",
           "Mostly Cloudy"
          ],
          [
           "North Andover",
           "MA",
           "Light Rain"
          ],
          [
           "Alexander",
           "AR",
           "Fair"
          ],
          [
           "Phoenix",
           "AZ",
           "Fair"
          ],
          [
           "Ogden",
           "UT",
           "Fair"
          ],
          [
           "Wilmington",
           "DE",
           "Fair"
          ],
          [
           "Rochester",
           "NY",
           "Cloudy"
          ],
          [
           "Portland",
           "OR",
           "Fog"
          ],
          [
           "Houston",
           "TX",
           "Mostly Cloudy"
          ],
          [
           "Winter Park",
           "FL",
           "Partly Cloudy"
          ],
          [
           "Los Angeles",
           "CA",
           "Cloudy"
          ],
          [
           "Bell Gardens",
           "CA",
           "Fair"
          ],
          [
           "Miami",
           "FL",
           "Cloudy"
          ],
          [
           "Gilroy",
           "CA",
           "Mostly Cloudy"
          ],
          [
           "Orlando",
           "FL",
           "Mostly Cloudy"
          ],
          [
           "Hammonton",
           "NJ",
           "Fair"
          ],
          [
           "Flushing",
           "NY",
           "Partly Cloudy"
          ],
          [
           "Redlands",
           "CA",
           "Haze"
          ],
          [
           "Monterey Park",
           "CA",
           "Clear"
          ],
          [
           "New Orleans",
           "LA",
           "Mostly Cloudy"
          ],
          [
           "Gould",
           "AR",
           "Fair"
          ],
          [
           "Minneapolis",
           "MN",
           "Fair"
          ],
          [
           "Menifee",
           "CA",
           "Fair"
          ],
          [
           "Tujunga",
           "CA",
           "Cloudy"
          ],
          [
           "Memphis",
           "TN",
           "Mostly Cloudy"
          ],
          [
           "Norwalk",
           "CA",
           "Mostly Cloudy"
          ],
          [
           "Hawthorne",
           "CA",
           "Overcast"
          ],
          [
           "Meridian",
           "ID",
           null
          ],
          [
           "White Plains",
           "NY",
           "Partly Cloudy"
          ],
          [
           "New York",
           "NY",
           "Cloudy"
          ],
          [
           "New Lenox",
           "IL",
           "Fair"
          ],
          [
           "Swedesboro",
           "NJ",
           "Mostly Cloudy"
          ],
          [
           "San Jose",
           "CA",
           "Partly Cloudy"
          ],
          [
           "Seattle",
           "WA",
           "Mostly Cloudy"
          ],
          [
           "Westminster",
           "SC",
           "Fair"
          ],
          [
           "Raleigh",
           "NC",
           "Partly Cloudy"
          ],
          [
           "Los Angeles",
           "CA",
           "Cloudy"
          ],
          [
           "Phoenix",
           "AZ",
           "Partly Cloudy"
          ],
          [
           "Lynnwood",
           "WA",
           "Fair"
          ],
          [
           "Libertyville",
           "IL",
           "Fair"
          ],
          [
           "Kansas City",
           "KS",
           "Cloudy"
          ],
          [
           "Roseville",
           "CA",
           "Clear"
          ],
          [
           "Darlington",
           "SC",
           "Fair"
          ],
          [
           "Hialeah",
           "FL",
           "Fair"
          ],
          [
           "Wheaton",
           "IL",
           "Overcast"
          ],
          [
           "Tempe",
           "AZ",
           "Fair"
          ],
          [
           "Rosemead",
           "CA",
           "Mostly Cloudy"
          ],
          [
           "Lovelock",
           "NV",
           "Fair"
          ],
          [
           "Sauquoit",
           "NY",
           "Cloudy"
          ],
          [
           "Baton Rouge",
           "LA",
           "Scattered Clouds"
          ],
          [
           "Montrose",
           "GA",
           "Scattered Clouds"
          ],
          [
           "Orlando",
           "FL",
           "Fair"
          ],
          [
           "Aventura",
           "FL",
           "Mostly Cloudy"
          ],
          [
           "Hattiesburg",
           "MS",
           "Clear"
          ],
          [
           "Hawthorne",
           "FL",
           "Fair"
          ],
          [
           "Helena",
           "MT",
           "Cloudy / Windy"
          ],
          [
           "Shreveport",
           "LA",
           "Partly Cloudy"
          ],
          [
           "Inver Grove Heights",
           "MN",
           "Partly Cloudy"
          ],
          [
           "Denver",
           "CO",
           "Scattered Clouds"
          ],
          [
           "Providence",
           "RI",
           null
          ],
          [
           "San Jose",
           "CA",
           "Partly Cloudy"
          ],
          [
           "Greenville",
           "SC",
           "Light Rain"
          ],
          [
           "Fredericksburg",
           "VA",
           "Light Rain"
          ],
          [
           "Pensacola",
           "FL",
           "Heavy T-Storm"
          ],
          [
           "Tampa",
           "FL",
           "Clear"
          ],
          [
           "Hacienda Heights",
           "CA",
           "Fair"
          ],
          [
           "Los Angeles",
           "CA",
           "Mostly Cloudy"
          ],
          [
           "San Diego",
           "CA",
           "Fair"
          ],
          [
           "Rosemead",
           "CA",
           "Fair"
          ],
          [
           "Dripping Springs",
           "TX",
           "Clear"
          ],
          [
           "Roanoke",
           "VA",
           "Mostly Cloudy"
          ],
          [
           "Kissimmee",
           "FL",
           "Partly Cloudy"
          ],
          [
           "Santa Margarita",
           "CA",
           "Smoke"
          ],
          [
           "Washington",
           "DC",
           null
          ],
          [
           "Westport",
           "CT",
           "Fair"
          ],
          [
           "West Wareham",
           "MA",
           "Light Freezing Rain"
          ],
          [
           "Dayton",
           "OH",
           "Clear"
          ],
          [
           "Hialeah",
           "FL",
           "Partly Cloudy"
          ],
          [
           "Webster",
           "MN",
           "Fair"
          ],
          [
           "Long Island City",
           "NY",
           "Fair"
          ],
          [
           "Whitmore Lake",
           "MI",
           "Clear"
          ],
          [
           "Wixom",
           "MI",
           "Cloudy"
          ],
          [
           "Huntersville",
           "NC",
           "Fair"
          ],
          [
           "McComb",
           "MS",
           "Fair"
          ],
          [
           "Indianapolis",
           "IN",
           "Clear"
          ],
          [
           "Culloden",
           "WV",
           "Fog"
          ],
          [
           "Santa Cruz",
           "CA",
           "Partly Cloudy"
          ],
          [
           "Sherman Oaks",
           "CA",
           "Clear"
          ],
          [
           "Austin",
           "TX",
           "Partly Cloudy"
          ],
          [
           "Eugene",
           "OR",
           "Cloudy"
          ],
          [
           "Los Angeles",
           "CA",
           "Fair"
          ],
          [
           "Saint Louis",
           "MO",
           "Light Snow"
          ],
          [
           "Harrisburg",
           "OR",
           "Overcast"
          ],
          [
           "Los Angeles",
           "CA",
           "Cloudy"
          ],
          [
           "St Louis",
           "MO",
           "Fair"
          ],
          [
           "Irmo",
           "SC",
           "Fog"
          ],
          [
           "Charlotte",
           "NC",
           "Mostly Cloudy"
          ],
          [
           "Bishop",
           "CA",
           "Fair"
          ],
          [
           "Goodlettsville",
           "TN",
           "Fair"
          ],
          [
           "Diamond Bar",
           "CA",
           "Fair"
          ],
          [
           "Calumet City",
           "IL",
           "Fair"
          ],
          [
           "Orlando",
           "FL",
           "Cloudy"
          ],
          [
           "Azusa",
           "CA",
           "Fair"
          ],
          [
           "Los Angeles",
           "CA",
           "Haze"
          ],
          [
           "Baton Rouge",
           "LA",
           "Partly Cloudy"
          ],
          [
           "Arvada",
           "CO",
           "Partly Cloudy"
          ],
          [
           "Morrisville",
           "NC",
           "Mostly Cloudy"
          ],
          [
           "Astoria",
           "NY",
           "Fog"
          ],
          [
           "Monroe",
           "WA",
           "Overcast"
          ],
          [
           "Oak Hill",
           "OH",
           "Light Rain"
          ],
          [
           "Raleigh",
           "NC",
           "Mostly Cloudy"
          ],
          [
           "Weehawken",
           "NJ",
           "Mostly Cloudy"
          ],
          [
           "Oroville",
           "CA",
           "Fair"
          ],
          [
           "San Antonio",
           "TX",
           "Fair"
          ],
          [
           "Minneapolis",
           "MN",
           "Light Snow"
          ],
          [
           "Newman",
           "CA",
           "Clear"
          ],
          [
           "East Hartford",
           "CT",
           "Rain"
          ],
          [
           "La Puente",
           "CA",
           "Rain"
          ],
          [
           "Spartanburg",
           "SC",
           "Clear"
          ],
          [
           "Watsonville",
           "CA",
           "Overcast"
          ],
          [
           "Seattle",
           "WA",
           "Light Rain"
          ],
          [
           "Tulsa",
           "OK",
           "Thunder in the Vicinity"
          ],
          [
           "Baldwin Park",
           "CA",
           "Rain"
          ],
          [
           "Sacramento",
           "CA",
           "Light Rain"
          ],
          [
           "Nashville",
           "TN",
           "Mostly Cloudy"
          ],
          [
           "Atlanta",
           "GA",
           "Fair"
          ],
          [
           "Shreveport",
           "LA",
           "Mostly Cloudy"
          ],
          [
           "West Haven",
           "CT",
           "Scattered Clouds"
          ],
          [
           "Los Angeles",
           "CA",
           "Fair"
          ],
          [
           "Half Moon Bay",
           "CA",
           "Fog"
          ],
          [
           "La Puente",
           "CA",
           "Fair"
          ],
          [
           "Chesapeake",
           "VA",
           "Fair"
          ],
          [
           "Raleigh",
           "NC",
           "Light Rain"
          ],
          [
           "Buffalo",
           "NY",
           "Rain"
          ],
          [
           "Hillsville",
           "VA",
           "Fair"
          ],
          [
           "Brooklyn",
           "NY",
           "Partly Cloudy"
          ],
          [
           "Baton Rouge",
           "LA",
           "Fair"
          ],
          [
           "Jacksonville",
           "FL",
           "Fair"
          ],
          [
           "Columbia",
           "SC",
           null
          ],
          [
           "Greenville",
           "SC",
           "Fair"
          ],
          [
           "Canyon Country",
           "CA",
           "Fair"
          ],
          [
           "Huntington",
           "OR",
           "Light Snow"
          ],
          [
           "Tampa",
           "FL",
           "T-Storm"
          ],
          [
           "Panama City",
           "FL",
           "Fair"
          ],
          [
           "Capitola",
           "CA",
           "Overcast"
          ],
          [
           "LA Place",
           "LA",
           "Overcast"
          ],
          [
           "Jessup",
           "MD",
           "Clear"
          ],
          [
           "Rock Hill",
           "SC",
           "Overcast"
          ],
          [
           "Charlotte",
           "NC",
           "Cloudy"
          ],
          [
           "Austin",
           "TX",
           "Fair"
          ],
          [
           "Culver City",
           "CA",
           "Clear"
          ],
          [
           "Houston",
           "TX",
           "Scattered Clouds"
          ],
          [
           "Springfield",
           "MO",
           "Clear"
          ],
          [
           "Kent",
           "WA",
           "Clear"
          ],
          [
           "Iowa City",
           "IA",
           "Cloudy"
          ],
          [
           "Holly Springs",
           "NC",
           "Fair"
          ],
          [
           "Malabar",
           "FL",
           "Fog"
          ],
          [
           "Saint Paul",
           "MN",
           "Overcast"
          ],
          [
           "Merrick",
           "NY",
           "Cloudy"
          ],
          [
           "Los Angeles",
           "CA",
           "Clear"
          ],
          [
           "Virginia Beach",
           "VA",
           "Cloudy"
          ],
          [
           "Stockton",
           "CA",
           "Fair"
          ],
          [
           "Seattle",
           "WA",
           "Clear"
          ],
          [
           "Miami",
           "FL",
           "Cloudy"
          ],
          [
           "Jacksonville",
           "FL",
           "Mostly Cloudy"
          ],
          [
           "Los Angeles",
           "CA",
           "Smoke"
          ],
          [
           "Clarkfield",
           "MN",
           "Fair"
          ],
          [
           "Merrick",
           "NY",
           "Fair"
          ],
          [
           "Bellmore",
           "NY",
           "Cloudy"
          ],
          [
           "Decatur",
           "GA",
           "Clear"
          ],
          [
           "Lehigh Acres",
           "FL",
           "Fair"
          ],
          [
           "Brentwood",
           "TN",
           "Fair"
          ],
          [
           "Austin",
           "TX",
           "Partly Cloudy"
          ],
          [
           "Tallahassee",
           "FL",
           "Partly Cloudy"
          ],
          [
           "Poughkeepsie",
           "NY",
           "Fair"
          ],
          [
           "Oklahoma City",
           "OK",
           "Clear"
          ],
          [
           "Watervliet",
           "NY",
           "Light Rain"
          ],
          [
           "Richmond",
           "CA",
           "Light Rain"
          ],
          [
           "Arlington",
           "TX",
           "Fair"
          ],
          [
           "Mays Landing",
           "NJ",
           "Fair"
          ],
          [
           "Whittier",
           "CA",
           "Cloudy"
          ],
          [
           "New Orleans",
           "LA",
           "Fair"
          ],
          [
           "Bloomington",
           "IN",
           "Fair"
          ],
          [
           "Elgin",
           "IL",
           "Overcast"
          ],
          [
           "Joelton",
           "TN",
           "Partly Cloudy"
          ],
          [
           "Chicago",
           "IL",
           "Partly Cloudy"
          ],
          [
           "Cleveland",
           "OH",
           "Mostly Cloudy"
          ],
          [
           "Greenville",
           "SC",
           "Partly Cloudy"
          ],
          [
           "Minneapolis",
           "MN",
           "Fair"
          ],
          [
           "Atlanta",
           "GA",
           "Overcast"
          ],
          [
           "Tracy",
           "CA",
           "Clear"
          ],
          [
           "Dallas",
           "TX",
           "Fair"
          ],
          [
           "West Newton",
           "MA",
           "Mist"
          ],
          [
           "Greenville",
           "SC",
           "Mostly Cloudy"
          ],
          [
           "Lakewood",
           "CO",
           "Light Snow"
          ],
          [
           "Doral",
           "FL",
           "Partly Cloudy"
          ],
          [
           "Brooks",
           "CA",
           "Clear"
          ],
          [
           "Queens Village",
           "NY",
           "Light Rain"
          ],
          [
           "Boca Raton",
           "FL",
           "Fair"
          ],
          [
           "Sloughhouse",
           "CA",
           "Fair"
          ],
          [
           "Greenville",
           "SC",
           "Fair"
          ],
          [
           "Aiken",
           "SC",
           "Partly Cloudy"
          ],
          [
           "Anderson",
           "SC",
           "Thunder"
          ],
          [
           "Los Angeles",
           "CA",
           "Haze"
          ],
          [
           "Greer",
           "SC",
           "Cloudy"
          ],
          [
           "Lakeville",
           "MN",
           "Fair"
          ],
          [
           "Raleigh",
           "NC",
           "Light Rain"
          ],
          [
           "Albuquerque",
           "NM",
           "Overcast"
          ],
          [
           "Washington",
           "NJ",
           "Fair"
          ],
          [
           "Fremont",
           "CA",
           "Fair"
          ],
          [
           "Oklahoma City",
           "OK",
           "Fair"
          ],
          [
           "Milwaukee",
           "WI",
           "Light Rain"
          ],
          [
           "Fontana",
           "CA",
           "Fair"
          ],
          [
           "Palm Harbor",
           "FL",
           "Clear"
          ],
          [
           "Houston",
           "TX",
           "Fair"
          ],
          [
           "Orlando",
           "FL",
           "Fair"
          ],
          [
           "Painesville",
           "OH",
           "Cloudy"
          ],
          [
           "Bonita Springs",
           "FL",
           "Mostly Cloudy"
          ],
          [
           "Orlando",
           "FL",
           "Clear"
          ],
          [
           "Ontario",
           "CA",
           "Fair"
          ],
          [
           "Salt Lake City",
           "UT",
           "Mostly Cloudy"
          ],
          [
           "Lorton",
           "VA",
           "Haze"
          ],
          [
           "Allentown",
           "PA",
           "Fair"
          ],
          [
           "Danvers",
           "MA",
           "Clear"
          ],
          [
           "Jacksonville",
           "FL",
           "Rain"
          ],
          [
           "Omaha",
           "NE",
           "Clear"
          ],
          [
           "Tulsa",
           "OK",
           "Clear"
          ],
          [
           "Brodnax",
           "VA",
           "Clear"
          ],
          [
           "Middletown",
           "CA",
           "Heavy Rain"
          ],
          [
           "Charlotte",
           "NC",
           "Partly Cloudy"
          ],
          [
           "Nashville",
           "TN",
           "Fair"
          ],
          [
           "Medford",
           "MN",
           "Light Snow"
          ],
          [
           "Tampa",
           "FL",
           "Fair"
          ],
          [
           "Omaha",
           "NE",
           "Cloudy"
          ],
          [
           "Park City",
           "UT",
           null
          ],
          [
           "Sherwood",
           "AR",
           "Fair"
          ],
          [
           "Mira Loma",
           "CA",
           "Fair"
          ],
          [
           "Zionsville",
           "IN",
           "Clear"
          ],
          [
           "Williams",
           "IA",
           "Partly Cloudy"
          ],
          [
           "Hyattsville",
           "MD",
           "Cloudy"
          ],
          [
           "Seattle",
           "WA",
           "Overcast"
          ],
          [
           "Miami",
           "FL",
           "Overcast"
          ],
          [
           "Miami",
           "FL",
           "Fair"
          ],
          [
           "Holbrook",
           "NY",
           "Fair"
          ],
          [
           "Houston",
           "TX",
           "Haze"
          ],
          [
           "Washington",
           "DC",
           "Fair"
          ],
          [
           "Wildwood",
           "FL",
           "Partly Cloudy"
          ],
          [
           "Longmont",
           "CO",
           "Cloudy"
          ],
          [
           "Henrico",
           "VA",
           "Overcast"
          ],
          [
           "Lorton",
           "VA",
           "Light Rain"
          ],
          [
           "Austin",
           "TX",
           "Fair"
          ],
          [
           "Hartford",
           "CT",
           "Cloudy"
          ],
          [
           "Manassas",
           "VA",
           null
          ],
          [
           "Whittier",
           "CA",
           "Fair"
          ],
          [
           "Los Angeles",
           "CA",
           "Fair"
          ],
          [
           "Chattanooga",
           "TN",
           "Light Rain"
          ],
          [
           "Roland",
           "AR",
           "Fair"
          ],
          [
           "Culver City",
           "CA",
           "Fair"
          ],
          [
           "Dayton",
           "OH",
           "Mostly Cloudy"
          ],
          [
           "San Bruno",
           "CA",
           "Fair"
          ],
          [
           "Upland",
           "CA",
           "Fair"
          ],
          [
           "Pennsauken",
           "NJ",
           "Fair"
          ],
          [
           "Phoenix",
           "AZ",
           "Clear"
          ],
          [
           "Huntington Station",
           "NY",
           "Light Rain"
          ],
          [
           "Saint Paul",
           "MN",
           "Overcast"
          ],
          [
           "Oklahoma City",
           "OK",
           "Partly Cloudy / Windy"
          ],
          [
           "Los Angeles",
           "CA",
           "Fair"
          ],
          [
           "Springfield",
           "MO",
           "Fair"
          ],
          [
           "Cleveland",
           "OH",
           "Overcast"
          ],
          [
           "Fort Worth",
           "TX",
           "Fair"
          ],
          [
           "Mercer Island",
           "WA",
           "Mostly Cloudy"
          ],
          [
           "Port Jefferson Station",
           "NY",
           "Partly Cloudy"
          ],
          [
           "Encino",
           "CA",
           "Fair"
          ],
          [
           "Washington",
           "DC",
           "Fair"
          ],
          [
           "Hooper",
           "UT",
           "Fair"
          ],
          [
           "Los Angeles",
           "CA",
           "Fair"
          ],
          [
           "Orlando",
           "FL",
           "Scattered Clouds"
          ],
          [
           "Miami",
           "FL",
           "Mostly Cloudy"
          ],
          [
           "Seattle",
           "WA",
           "Clear"
          ],
          [
           "West Columbia",
           "SC",
           "Scattered Clouds"
          ],
          [
           "San Diego",
           "CA",
           "Clear"
          ],
          [
           "Los Angeles",
           "CA",
           "Fair"
          ],
          [
           "Webster",
           "TX",
           "Overcast"
          ],
          [
           "Houston",
           "TX",
           "Scattered Clouds"
          ],
          [
           "Ogden",
           "UT",
           "Mostly Cloudy"
          ],
          [
           "Tacoma",
           "WA",
           "Partly Cloudy"
          ],
          [
           "Sacramento",
           "CA",
           "Clear"
          ],
          [
           "Chattanooga",
           "TN",
           "Clear"
          ],
          [
           "Dallas",
           "TX",
           "Fair"
          ],
          [
           "Duarte",
           "CA",
           "Cloudy"
          ],
          [
           "Chicago",
           "IL",
           "Light Rain / Windy"
          ],
          [
           "Flushing",
           "NY",
           "Cloudy"
          ],
          [
           "Baton Rouge",
           "LA",
           "Clear"
          ],
          [
           "Miami",
           "FL",
           "Fair"
          ],
          [
           "Petersburg",
           "VA",
           null
          ],
          [
           "Raleigh",
           "NC",
           "Fair"
          ],
          [
           "Baton Rouge",
           "LA",
           "Heavy Rain"
          ],
          [
           "Jefferson",
           "AR",
           "Fair"
          ],
          [
           "Zion",
           "IL",
           "Scattered Clouds"
          ],
          [
           "Charlotte",
           "NC",
           "Light Rain"
          ],
          [
           "Howard Beach",
           "NY",
           "Mostly Cloudy"
          ],
          [
           "Houston",
           "TX",
           "Partly Cloudy"
          ],
          [
           "Suitland",
           "MD",
           "Fair"
          ],
          [
           "Lebec",
           "CA",
           "Clear"
          ],
          [
           "Southfield",
           "MI",
           "Mostly Cloudy"
          ],
          [
           "Dumfries",
           "VA",
           "Cloudy"
          ],
          [
           "Minneapolis",
           "MN",
           "Fog"
          ],
          [
           "Mount Shasta",
           "CA",
           "Fair"
          ],
          [
           "Phoenix",
           "AZ",
           "Mostly Cloudy"
          ],
          [
           "San Diego",
           "CA",
           "Partly Cloudy"
          ],
          [
           "Fairfax",
           "VA",
           "Mostly Cloudy"
          ],
          [
           "Alexandria",
           "VA",
           "Cloudy"
          ],
          [
           "San Antonio",
           "TX",
           "Light Rain"
          ],
          [
           "Davie",
           "FL",
           "Cloudy"
          ],
          [
           "Ogden",
           "UT",
           "Fair"
          ],
          [
           "Nanuet",
           "NY",
           "Light Snow"
          ],
          [
           "Rancho Cordova",
           "CA",
           "Fog / Windy"
          ],
          [
           "Florence",
           "SC",
           "Cloudy"
          ],
          [
           "Grants Pass",
           "OR",
           "Fair"
          ],
          [
           "Denver",
           "CO",
           "Overcast"
          ],
          [
           "Pomona",
           "CA",
           "Clear"
          ],
          [
           "Raleigh",
           "NC",
           "Mostly Cloudy"
          ],
          [
           "Redmond",
           "OR",
           "Mostly Cloudy"
          ],
          [
           "Sun Valley",
           "CA",
           "Overcast"
          ],
          [
           "Parrish",
           "FL",
           "Fair"
          ],
          [
           "Glen Rock",
           "PA",
           "Fair"
          ],
          [
           "Lehi",
           "UT",
           "Fair"
          ],
          [
           "Graniteville",
           "SC",
           "Clear"
          ],
          [
           "Miami",
           "FL",
           "Scattered Clouds"
          ],
          [
           "Greenville",
           "SC",
           "Fair"
          ],
          [
           "Houston",
           "TX",
           null
          ],
          [
           "Detroit",
           "MI",
           "Fair"
          ],
          [
           "Carrollton",
           "TX",
           "Fair"
          ],
          [
           "Augusta",
           "GA",
           "Partly Cloudy"
          ],
          [
           "Waterford",
           "CA",
           "Cloudy"
          ],
          [
           "Los Angeles",
           "CA",
           "Fair"
          ],
          [
           "Butte",
           "MT",
           "Fair"
          ],
          [
           "Morrisville",
           "NC",
           "Mostly Cloudy"
          ],
          [
           "Albuquerque",
           "NM",
           "Partly Cloudy"
          ],
          [
           "Arlington",
           "TX",
           "Clear"
          ],
          [
           "Chowchilla",
           "CA",
           "Fair"
          ],
          [
           "Miami",
           "FL",
           "Mostly Cloudy"
          ],
          [
           "Rochelle",
           "IL",
           "Clear"
          ],
          [
           "Seneca",
           "SC",
           "Light Rain"
          ],
          [
           "Venice",
           "FL",
           "Clear"
          ],
          [
           "Elkton",
           "OR",
           "Mostly Cloudy"
          ],
          [
           "Jacksonville",
           "FL",
           "Light Rain with Thunder"
          ],
          [
           "San Diego",
           "CA",
           "Clear"
          ],
          [
           "Fresno",
           "CA",
           "Fair"
          ],
          [
           "McKinney",
           "TX",
           "Fair"
          ],
          [
           "Macedon",
           "NY",
           "Fair"
          ],
          [
           "Sherman Oaks",
           "CA",
           "Clear"
          ],
          [
           "Mamaroneck",
           "NY",
           "Fair"
          ],
          [
           "New York",
           "NY",
           "Fair"
          ],
          [
           "Denver",
           "CO",
           "Partly Cloudy"
          ],
          [
           "Los Angeles",
           "CA",
           "Fair"
          ],
          [
           "Elwood",
           "IL",
           "Scattered Clouds"
          ],
          [
           "Highland Falls",
           "NY",
           "Partly Cloudy"
          ],
          [
           "Dallas",
           "TX",
           "Mostly Cloudy"
          ],
          [
           "Oceanside",
           "CA",
           "Fair"
          ],
          [
           "Fort Lauderdale",
           "FL",
           "Mostly Cloudy"
          ],
          [
           "Milford",
           "CT",
           "Fair"
          ],
          [
           "Wilmette",
           "IL",
           "Clear"
          ],
          [
           "Knoxville",
           "TN",
           "Fair"
          ],
          [
           "Greenville",
           "SC",
           "Fair"
          ],
          [
           "Plantsville",
           "CT",
           "Light Rain"
          ],
          [
           "Tampa",
           "FL",
           "Cloudy"
          ],
          [
           "Ontario",
           "CA",
           "Partly Cloudy"
          ],
          [
           "Nashville",
           "TN",
           "Fair"
          ],
          [
           "Tooele",
           "UT",
           "Partly Cloudy"
          ],
          [
           "Pittsburgh",
           "PA",
           "Rain"
          ],
          [
           "Antioch",
           "TN",
           "Partly Cloudy"
          ],
          [
           "Oklahoma City",
           "OK",
           "Clear"
          ],
          [
           "Lake Charles",
           "LA",
           "Clear"
          ],
          [
           "Miami",
           "FL",
           "Partly Cloudy"
          ],
          [
           "Tampa",
           "FL",
           "Fair"
          ],
          [
           "Orinda",
           "CA",
           "Partly Cloudy"
          ],
          [
           "Blue River",
           "OR",
           "Light Rain"
          ],
          [
           "Strasburg",
           "CO",
           null
          ],
          [
           "Oklahoma City",
           "OK",
           "Partly Cloudy"
          ],
          [
           "Bronx",
           "NY",
           "Mostly Cloudy"
          ],
          [
           "Sacramento",
           "CA",
           "Fair"
          ],
          [
           "Elk Grove",
           "CA",
           "Clear"
          ],
          [
           "Katy",
           "TX",
           "Fair"
          ],
          [
           "Everett",
           "WA",
           "Clear"
          ],
          [
           "Star",
           "ID",
           "Fair"
          ],
          [
           "San Jose",
           "CA",
           "Scattered Clouds"
          ],
          [
           "Dumfries",
           "VA",
           "Fair"
          ],
          [
           "Glendora",
           "CA",
           "Fair"
          ],
          [
           "Greenville",
           "SC",
           "Fair"
          ],
          [
           "Welches",
           "OR",
           "Mostly Cloudy"
          ],
          [
           "Centreville",
           "VA",
           null
          ],
          [
           "Des Plaines",
           "IL",
           "Fair"
          ],
          [
           "West Harrison",
           "NY",
           "Cloudy"
          ],
          [
           "New Orleans",
           "LA",
           "Fair"
          ],
          [
           "Fort Worth",
           "TX",
           "Fair"
          ],
          [
           "Anaheim",
           "CA",
           "Fair"
          ],
          [
           "Eden Prairie",
           "MN",
           "Overcast"
          ],
          [
           "Columbus",
           "OH",
           "Fair"
          ],
          [
           "Davis",
           "CA",
           "Clear"
          ],
          [
           "Taylors",
           "SC",
           "Fair"
          ],
          [
           "Bailey",
           "NC",
           "Fair"
          ],
          [
           "West Middlesex",
           "PA",
           "Cloudy"
          ],
          [
           "Elgin",
           "IL",
           "Overcast"
          ],
          [
           "Tucson",
           "AZ",
           "Fair"
          ],
          [
           "Tucson",
           "AZ",
           "Fair"
          ],
          [
           "San Diego",
           "CA",
           "Partly Cloudy"
          ],
          [
           "Des Moines",
           "IA",
           "Clear"
          ],
          [
           "Manhasset",
           "NY",
           "Fair"
          ],
          [
           "Gettysburg",
           "PA",
           "Fair"
          ],
          [
           "Fremont",
           "CA",
           null
          ],
          [
           "Baton Rouge",
           "LA",
           "Fair"
          ],
          [
           "Orlando",
           "FL",
           "Light Rain"
          ],
          [
           "Lancaster",
           "PA",
           "Rain"
          ],
          [
           "Lanham",
           "MD",
           "Cloudy"
          ],
          [
           "Berthoud",
           "CO",
           "Fair"
          ],
          [
           "Milton",
           "MA",
           "Fair"
          ],
          [
           "Aurora",
           "IL",
           "Fair"
          ],
          [
           "Bedford",
           "TX",
           "Mostly Cloudy"
          ],
          [
           "Charlotte",
           "NC",
           "Cloudy"
          ],
          [
           "Albany",
           "NY",
           "Cloudy"
          ],
          [
           "Emeryville",
           "CA",
           "Partly Cloudy"
          ],
          [
           "Boca Raton",
           "FL",
           "Cloudy / Windy"
          ],
          [
           "Seattle",
           "WA",
           "Light Rain"
          ],
          [
           "Hudson",
           "FL",
           "Clear"
          ],
          [
           "Houston",
           "TX",
           "Partly Cloudy"
          ],
          [
           "Aurora",
           "CO",
           "Mostly Cloudy"
          ],
          [
           "Bronx",
           "NY",
           "Mostly Cloudy"
          ],
          [
           "Irvine",
           "CA",
           "Haze"
          ],
          [
           "Vista",
           "CA",
           "Cloudy"
          ],
          [
           "San Martin",
           "CA",
           "Clear"
          ],
          [
           "Charlotte",
           "NC",
           "Mostly Cloudy"
          ],
          [
           "Nashville",
           "TN",
           "Clear"
          ],
          [
           "Utica",
           "NY",
           "Light Snow"
          ],
          [
           "Phoenix",
           "AZ",
           "Partly Cloudy"
          ],
          [
           "Knightstown",
           "IN",
           "Cloudy"
          ],
          [
           "Fairfax",
           "VA",
           "Cloudy"
          ],
          [
           "Apex",
           "NC",
           "Partly Cloudy"
          ],
          [
           "Miami",
           "FL",
           "Fair"
          ],
          [
           "Troutville",
           "VA",
           "Fair"
          ],
          [
           "Red Bank",
           "NJ",
           "Fair"
          ],
          [
           "Santa Rosa",
           "CA",
           "Fair"
          ],
          [
           "Arlington",
           "VA",
           "Light Rain"
          ],
          [
           "Rochester",
           "NY",
           "Clear"
          ],
          [
           "Hacienda Heights",
           "CA",
           "Partly Cloudy"
          ],
          [
           "Cary",
           "NC",
           "Mostly Cloudy"
          ],
          [
           "Hatboro",
           "PA",
           "Fair"
          ],
          [
           "Bryan",
           "OH",
           "Cloudy"
          ],
          [
           "Mountain View",
           "CA",
           null
          ],
          [
           "Hayward",
           "CA",
           "Clear"
          ],
          [
           "Baton Rouge",
           "LA",
           "Fair"
          ],
          [
           "Lewisville",
           "TX",
           "Fair"
          ],
          [
           "San Jose",
           "CA",
           "Heavy Rain"
          ],
          [
           "Monroe",
           "NY",
           "Mostly Cloudy"
          ],
          [
           "Cottonwood",
           "AZ",
           "Fair"
          ],
          [
           "Avondale",
           "AZ",
           "Partly Cloudy"
          ],
          [
           "West Valley City",
           "UT",
           "Partly Cloudy"
          ],
          [
           "Englewood",
           "KS",
           "Fair"
          ],
          [
           "Elizabethport",
           "NJ",
           "Mostly Cloudy"
          ],
          [
           "Grand Terrace",
           "CA",
           "Haze"
          ],
          [
           "Mira Loma",
           "CA",
           "Clear"
          ],
          [
           "Laytonville",
           "CA",
           "Fair"
          ],
          [
           "Prescott",
           "AZ",
           "Fair"
          ],
          [
           "Meridian",
           "ID",
           "Fair"
          ],
          [
           "Hyattsville",
           "MD",
           "Cloudy"
          ],
          [
           "Canton",
           "NC",
           "Partly Cloudy"
          ],
          [
           "Churchville",
           "NY",
           "Cloudy"
          ],
          [
           "Friant",
           "CA",
           "Mostly Cloudy"
          ],
          [
           "Maywood",
           "IL",
           "Fair"
          ],
          [
           "Fort Worth",
           "TX",
           "Thunder"
          ],
          [
           "Huntington Beach",
           "CA",
           "Partly Cloudy"
          ],
          [
           "Miami",
           "FL",
           "Mostly Cloudy"
          ],
          [
           "Fort Myers",
           "FL",
           "Partly Cloudy"
          ],
          [
           "Jacksonville",
           "FL",
           "Mostly Cloudy"
          ],
          [
           "Government Camp",
           "OR",
           "Fair"
          ],
          [
           "Greenville",
           "SC",
           "Fair"
          ],
          [
           "Riverside",
           "CA",
           "Fair"
          ],
          [
           "Philadelphia",
           "PA",
           "Fair"
          ],
          [
           "Stockton",
           "CA",
           "Fair"
          ],
          [
           "Government Camp",
           "OR",
           "Light Rain / Windy"
          ],
          [
           "Clewiston",
           "FL",
           "Clear"
          ],
          [
           "Gardiner",
           "OR",
           "Mostly Cloudy"
          ],
          [
           "Laplace",
           "LA",
           "Light Rain"
          ],
          [
           "Mancos",
           "CO",
           "Fair"
          ],
          [
           "Burbank",
           "CA",
           "Fair"
          ],
          [
           "Ephrata",
           "PA",
           "Cloudy"
          ],
          [
           "Bakersfield",
           "CA",
           "Haze"
          ],
          [
           "Phoenix",
           "AZ",
           "Partly Cloudy"
          ],
          [
           "Phoenix",
           "AZ",
           "Clear"
          ],
          [
           "Miami",
           "FL",
           "Partly Cloudy"
          ],
          [
           "Fallbrook",
           "CA",
           "Cloudy"
          ],
          [
           "Linden",
           "MI",
           "Clear"
          ],
          [
           "Corona",
           "CA",
           "Overcast"
          ],
          [
           "Summerville",
           "SC",
           "Clear"
          ],
          [
           "Lombard",
           "IL",
           "Partly Cloudy"
          ],
          [
           "Lafayette",
           "LA",
           "Mostly Cloudy"
          ],
          [
           "Merritt Island",
           "FL",
           "Mostly Cloudy"
          ],
          [
           "Loxahatchee",
           "FL",
           "Mostly Cloudy"
          ],
          [
           "Woodburn",
           "OR",
           "Mostly Cloudy"
          ],
          [
           "Nephi",
           "UT",
           "Partly Cloudy"
          ],
          [
           "Swansea",
           "SC",
           "Overcast"
          ],
          [
           "Conshohocken",
           "PA",
           null
          ],
          [
           "Los Angeles",
           "CA",
           "Haze"
          ],
          [
           "Sorrento",
           "FL",
           "Fair"
          ],
          [
           "Park City",
           "UT",
           null
          ],
          [
           "De Beque",
           "CO",
           "Mostly Cloudy"
          ],
          [
           "Orlando",
           "FL",
           "Fair"
          ],
          [
           "El Monte",
           "CA",
           "Haze"
          ],
          [
           "Macclenny",
           "FL",
           "Light Rain"
          ],
          [
           "Ann Arbor",
           "MI",
           "Fair"
          ],
          [
           "Knightdale",
           "NC",
           "Fair"
          ],
          [
           "Cleveland",
           "OH",
           "Blowing Snow / Windy"
          ],
          [
           "Dallas",
           "TX",
           "Cloudy"
          ],
          [
           "Raleigh",
           "NC",
           "Mostly Cloudy"
          ],
          [
           "Houston",
           "TX",
           "Cloudy"
          ],
          [
           "Chicago",
           "IL",
           "Fair"
          ],
          [
           "Woodside",
           "NY",
           "Fair"
          ],
          [
           "Kenbridge",
           "VA",
           "Overcast"
          ],
          [
           "Atlantic",
           "IA",
           "Fair"
          ],
          [
           "Houston",
           "TX",
           "Fair"
          ],
          [
           "Old Westbury",
           "NY",
           "Mostly Cloudy"
          ],
          [
           "Maupin",
           "OR",
           "Fair"
          ],
          [
           "Marshall",
           "MI",
           "Fair"
          ],
          [
           "Bensalem",
           "PA",
           "Overcast"
          ],
          [
           "Fortson",
           "GA",
           "Overcast"
          ],
          [
           "West Hartford",
           "CT",
           "Clear"
          ],
          [
           "Hazel Park",
           "MI",
           "Clear"
          ],
          [
           "Kansas City",
           "MO",
           "Light Snow"
          ],
          [
           "Itasca",
           "IL",
           "Fair"
          ],
          [
           "Chicago",
           "IL",
           "Mostly Cloudy"
          ],
          [
           "New Orleans",
           "LA",
           "Mostly Cloudy"
          ],
          [
           "Durkee",
           "OR",
           null
          ],
          [
           "Decatur",
           "GA",
           "Overcast"
          ],
          [
           "Lynch Station",
           "VA",
           "Fair"
          ],
          [
           "Santa Ynez",
           "CA",
           "Fair"
          ],
          [
           "San Pablo",
           "CA",
           "Fair"
          ],
          [
           "Whittier",
           "CA",
           "Fair"
          ],
          [
           "Richmond",
           "VA",
           "Fair"
          ],
          [
           "Oroville",
           "CA",
           "Light Rain"
          ],
          [
           "New Port Richey",
           "FL",
           "Fair"
          ],
          [
           "Jacksonville",
           "FL",
           "Fair"
          ],
          [
           "Draper",
           "UT",
           "Overcast"
          ],
          [
           "Tuscaloosa",
           "AL",
           "Fair"
          ],
          [
           "Dixon",
           "CA",
           "Overcast"
          ],
          [
           "Bronx",
           "NY",
           "Fair"
          ],
          [
           "Altamonte Springs",
           "FL",
           "Mostly Cloudy"
          ],
          [
           "Jacksonville",
           "FL",
           "Partly Cloudy"
          ],
          [
           "San Rafael",
           "CA",
           "Clear"
          ],
          [
           "Saint Petersburg",
           "FL",
           "Cloudy"
          ],
          [
           "Mobile",
           "AL",
           "Scattered Clouds"
          ],
          [
           "Irvine",
           "CA",
           "Fair"
          ],
          [
           "Shippensburg",
           "PA",
           null
          ],
          [
           "Clearwater",
           "FL",
           "Scattered Clouds"
          ],
          [
           "Van Nuys",
           "CA",
           "Fair"
          ],
          [
           "Fort Worth",
           "TX",
           "Mostly Cloudy / Windy"
          ],
          [
           "San Jose",
           "CA",
           "Overcast"
          ],
          [
           "Anderson",
           "SC",
           "Light Rain"
          ],
          [
           "Hialeah",
           "FL",
           "Partly Cloudy"
          ],
          [
           "Teaneck",
           "NJ",
           "Fair"
          ],
          [
           "Hayward",
           "CA",
           "Clear"
          ],
          [
           "Austin",
           "TX",
           "Scattered Clouds"
          ],
          [
           "Rowlett",
           "TX",
           null
          ],
          [
           "Glen Allen",
           "VA",
           "Cloudy"
          ],
          [
           "Dallas",
           "TX",
           "Clear"
          ],
          [
           "Miami",
           "FL",
           "Fair"
          ],
          [
           "Halethorpe",
           "MD",
           "Rain"
          ],
          [
           "Colts Neck",
           "NJ",
           "Overcast"
          ],
          [
           "Nanuet",
           "NY",
           "Fair"
          ],
          [
           "Humble",
           "TX",
           "Fair"
          ],
          [
           "Springfield",
           "VA",
           "Fair"
          ],
          [
           "Preston",
           "MN",
           "Fair"
          ],
          [
           "Arvada",
           "CO",
           "Mostly Cloudy"
          ],
          [
           "Kansas City",
           "MO",
           "Cloudy"
          ],
          [
           "Englewood",
           "CO",
           "Partly Cloudy / Windy"
          ],
          [
           "Charlotte",
           "NC",
           "Overcast"
          ],
          [
           "Villas",
           "NJ",
           "Mostly Cloudy"
          ],
          [
           "Providence",
           "RI",
           null
          ],
          [
           "Downey",
           "CA",
           "Fair"
          ],
          [
           "Aptos",
           "CA",
           "Fair"
          ],
          [
           "Jacksonville",
           "FL",
           "Light Rain"
          ],
          [
           "Upland",
           "CA",
           "Fair"
          ],
          [
           "Sacramento",
           "CA",
           "Fair"
          ],
          [
           "Mooresville",
           "NC",
           "Fair"
          ],
          [
           "Naples",
           "FL",
           "Fair"
          ],
          [
           "Tustin",
           "CA",
           "Haze"
          ],
          [
           "Tampa",
           "FL",
           "Mostly Cloudy"
          ],
          [
           "Fishkill",
           "NY",
           "Fair"
          ],
          [
           "Auburn Hills",
           "MI",
           "Overcast"
          ],
          [
           "Piedmont",
           "SC",
           "Fair"
          ],
          [
           "Minneapolis",
           "MN",
           "Clear"
          ],
          [
           "Occidental",
           "CA",
           "Fair"
          ],
          [
           "Memphis",
           "TN",
           "Fair"
          ],
          [
           "Miami",
           "FL",
           "Fair"
          ],
          [
           "Santa Maria",
           "CA",
           "Haze"
          ],
          [
           "Los Angeles",
           "CA",
           "Overcast"
          ],
          [
           "Los Angeles",
           "CA",
           "Fair"
          ],
          [
           "Stroudsburg",
           "PA",
           "Cloudy"
          ],
          [
           "Sapulpa",
           "OK",
           "Light Snow / Windy"
          ],
          [
           "Castleton on Hudson",
           "NY",
           "Mostly Cloudy"
          ],
          [
           "Houston",
           "TX",
           "Mostly Cloudy"
          ],
          [
           "Sweet Springs",
           "MO",
           "Snow"
          ],
          [
           "Turrell",
           "AR",
           "Fair"
          ],
          [
           "Los Angeles",
           "CA",
           "Cloudy"
          ],
          [
           "Los Angeles",
           "CA",
           "Cloudy"
          ],
          [
           "Pleasant Grove",
           "CA",
           "Cloudy"
          ],
          [
           "Encino",
           "CA",
           "Fair"
          ],
          [
           "Inglewood",
           "CA",
           "Scattered Clouds"
          ],
          [
           "Orange Park",
           "FL",
           "Mostly Cloudy"
          ],
          [
           "Austin",
           "TX",
           "Partly Cloudy"
          ],
          [
           "Dover",
           "NJ",
           "Fog"
          ],
          [
           "Charlotte",
           "NC",
           "Fair"
          ],
          [
           "Lake Elmo",
           "MN",
           "Partly Cloudy"
          ],
          [
           "Crockett",
           "CA",
           "Fair"
          ],
          [
           "Baltimore",
           "MD",
           null
          ],
          [
           "Wake Forest",
           "NC",
           "Partly Cloudy"
          ],
          [
           "New Castle",
           "DE",
           "Fair"
          ],
          [
           "Tempe",
           "AZ",
           "Mostly Cloudy"
          ],
          [
           "Joppa",
           "MD",
           "Fair"
          ],
          [
           "Puposky",
           "MN",
           "Fog"
          ],
          [
           "Pittsburgh",
           "PA",
           "Fair"
          ],
          [
           "Helper",
           "UT",
           "Fair"
          ],
          [
           "Van Nuys",
           "CA",
           "Clear"
          ],
          [
           "Hialeah",
           "FL",
           "Mostly Cloudy"
          ],
          [
           "West Coxsackie",
           "NY",
           "Mostly Cloudy"
          ],
          [
           "Kissimmee",
           "FL",
           "Clear"
          ],
          [
           "Watsonville",
           "CA",
           "Mostly Cloudy"
          ],
          [
           "Homestead",
           "FL",
           "Mostly Cloudy"
          ],
          [
           "Brentwood",
           "CA",
           "Fair"
          ],
          [
           "Houston",
           "TX",
           "Cloudy"
          ],
          [
           "San Dimas",
           "CA",
           "Clear"
          ],
          [
           "Mount Vernon",
           "WA",
           "Cloudy"
          ],
          [
           "Huntington Park",
           "CA",
           "Fair"
          ],
          [
           "Marcus Hook",
           "PA",
           "Partly Cloudy"
          ],
          [
           "Ontario",
           "CA",
           "Scattered Clouds"
          ],
          [
           "North Bend",
           "OR",
           "Fair / Windy"
          ],
          [
           "Columbia",
           "SC",
           "Fair"
          ],
          [
           "Broussard",
           "LA",
           "Clear"
          ],
          [
           "Oakland",
           "CA",
           "Fair"
          ],
          [
           "Woodbridge",
           "VA",
           "Fair"
          ],
          [
           "Huntington Park",
           "CA",
           "Clear"
          ],
          [
           "Wichita Falls",
           "TX",
           "Fair"
          ],
          [
           "Holmdel",
           "NJ",
           "Light Snow"
          ],
          [
           "Brea",
           "CA",
           "Cloudy"
          ],
          [
           "Lebanon",
           "PA",
           "Fair"
          ],
          [
           "Colorado Springs",
           "CO",
           "Partly Cloudy"
          ],
          [
           "Gold Hill",
           "OR",
           "Fair"
          ],
          [
           "Buffalo",
           "NY",
           "Partly Cloudy"
          ],
          [
           "Bridgeport",
           "CT",
           "Fair"
          ],
          [
           "Tempe",
           "AZ",
           "Mostly Cloudy"
          ],
          [
           "New York",
           "NY",
           "Fair"
          ],
          [
           "Hallandale",
           "FL",
           "Light Rain"
          ],
          [
           "Fair Oaks",
           "CA",
           "Fair"
          ],
          [
           "Fort Worth",
           "TX",
           "Fair"
          ],
          [
           "San Antonio",
           "TX",
           "Fair"
          ],
          [
           "Stroudsburg",
           "PA",
           "Fair"
          ],
          [
           "Sopchoppy",
           "FL",
           "Mostly Cloudy"
          ],
          [
           "Dallas",
           "TX",
           "Cloudy"
          ],
          [
           "Plant City",
           "FL",
           "Partly Cloudy"
          ],
          [
           "Stockton",
           "CA",
           "Fair"
          ],
          [
           "Tarrytown",
           "NY",
           "Fog"
          ],
          [
           "Birmingham",
           "AL",
           "Light Rain"
          ],
          [
           "New York",
           "NY",
           "Fair"
          ],
          [
           "Camp Hill",
           "PA",
           "Light Rain"
          ],
          [
           "Pittsburgh",
           "PA",
           "Fair / Windy"
          ],
          [
           "Stockton",
           "CA",
           "Fog"
          ],
          [
           "Hopewell",
           "VA",
           "Mostly Cloudy"
          ],
          [
           "Springfield",
           "VA",
           "Cloudy"
          ],
          [
           "Miami",
           "FL",
           "Mostly Cloudy"
          ],
          [
           "Detroit",
           "MI",
           "Light Rain"
          ],
          [
           "Montague",
           "CA",
           "Cloudy"
          ],
          [
           "Greenville",
           "SC",
           "Fair"
          ],
          [
           "San Diego",
           "CA",
           "Mostly Cloudy"
          ],
          [
           "Independence",
           "MO",
           "Light Snow"
          ],
          [
           "Detroit Lakes",
           "MN",
           "Cloudy"
          ],
          [
           "Louisville",
           "KY",
           "Light Rain"
          ],
          [
           "Wantagh",
           "NY",
           "Fair"
          ],
          [
           "Orangevale",
           "CA",
           "Clear"
          ],
          [
           "Reno",
           "NV",
           "Mostly Cloudy"
          ],
          [
           "Rochester",
           "MN",
           "Partly Cloudy"
          ],
          [
           "Huntingdon Valley",
           "PA",
           "Fair"
          ],
          [
           "Fort Myers",
           "FL",
           "Fair"
          ],
          [
           "Ontario",
           "CA",
           "Partly Cloudy"
          ],
          [
           "Austin",
           "TX",
           "Scattered Clouds"
          ],
          [
           "Atlanta",
           "GA",
           "T-Storm / Windy"
          ],
          [
           "Stephens City",
           "VA",
           "Cloudy"
          ],
          [
           "Austin",
           "TX",
           "Clear"
          ],
          [
           "Austin",
           "TX",
           "Fair"
          ],
          [
           "Trenton",
           "NJ",
           "Rain"
          ],
          [
           "Wixom",
           "MI",
           "Light Rain with Thunder"
          ],
          [
           "Lone Tree",
           "CO",
           "Mostly Cloudy"
          ],
          [
           "Waldorf",
           "MD",
           "Light Rain"
          ],
          [
           "Boca Raton",
           "FL",
           "Fair"
          ],
          [
           "Piscataway",
           "NJ",
           "Fair"
          ],
          [
           "Hampton",
           "VA",
           null
          ],
          [
           "Compton",
           "CA",
           "Mostly Cloudy"
          ],
          [
           "Alpharetta",
           "GA",
           "Clear"
          ],
          [
           "Boynton Beach",
           "FL",
           "Scattered Clouds"
          ],
          [
           "Jenks",
           "OK",
           "Light Rain"
          ],
          [
           "Westport",
           "CT",
           "Fair"
          ],
          [
           "Wheatland",
           "CA",
           "Fair"
          ],
          [
           "South Jordan",
           "UT",
           null
          ],
          [
           "Phoenix",
           "AZ",
           "Mostly Cloudy"
          ],
          [
           "Norfolk",
           "VA",
           "Mostly Cloudy"
          ],
          [
           "Greensboro",
           "NC",
           "Clear"
          ],
          [
           "Calabasas",
           "CA",
           "Fair"
          ],
          [
           "Fort Deposit",
           "AL",
           "Fair"
          ],
          [
           "Charlotte",
           "NC",
           "Scattered Clouds"
          ],
          [
           "Linkwood",
           "MD",
           null
          ],
          [
           "Saratoga",
           "CA",
           "Mostly Cloudy"
          ],
          [
           "Mission Viejo",
           "CA",
           "Partly Cloudy"
          ],
          [
           "Wildomar",
           "CA",
           "Fair"
          ],
          [
           "Fountain Valley",
           "CA",
           "Clear"
          ],
          [
           "Raleigh",
           "NC",
           "Fair"
          ],
          [
           "Baton Rouge",
           "LA",
           "Mostly Cloudy"
          ],
          [
           "Chiloquin",
           "OR",
           "Fair"
          ],
          [
           "Dallas",
           "TX",
           "Mostly Cloudy"
          ],
          [
           "Johnson City",
           "TN",
           "Overcast"
          ],
          [
           "Gardena",
           "CA",
           "Partly Cloudy"
          ],
          [
           "Naples",
           "FL",
           "Clear"
          ],
          [
           "Macedonia",
           "OH",
           "Fair"
          ],
          [
           "Bradenton",
           "FL",
           "Scattered Clouds"
          ],
          [
           "Paynesville",
           "MN",
           "Partly Cloudy"
          ],
          [
           "Mesa",
           "AZ",
           "Light Rain"
          ],
          [
           "Bainbridge",
           "GA",
           "Mostly Cloudy"
          ],
          [
           "Atlanta",
           "GA",
           "Mostly Cloudy"
          ],
          [
           "Saint Petersburg",
           "FL",
           "Fair"
          ],
          [
           "Greenville",
           "SC",
           "Fog"
          ],
          [
           "Loris",
           "SC",
           "Clear"
          ],
          [
           "San Jose",
           "CA",
           "Partly Cloudy"
          ],
          [
           "Columbus",
           "OH",
           "Cloudy"
          ],
          [
           "Alexandria",
           "MN",
           "Fair"
          ],
          [
           "Rye",
           "NY",
           "Mostly Cloudy"
          ],
          [
           "Memphis",
           "TN",
           "Clear"
          ],
          [
           "Duarte",
           "CA",
           "Fair"
          ],
          [
           "Charlotte",
           "NC",
           "Fair"
          ],
          [
           "San Diego",
           "CA",
           "Clear"
          ],
          [
           "Bremen",
           "GA",
           "Light Rain"
          ],
          [
           "Pasadena",
           "CA",
           null
          ],
          [
           "Seattle",
           "WA",
           "Clear"
          ],
          [
           "Piedmont",
           "SC",
           "Mostly Cloudy"
          ],
          [
           "Houston",
           "TX",
           "Mostly Cloudy"
          ],
          [
           "Vail",
           "CO",
           "Light Snow"
          ],
          [
           "Halsey",
           "OR",
           "Fair"
          ],
          [
           "Lancaster",
           "PA",
           "Fair"
          ],
          [
           "Miami",
           "FL",
           "Cloudy"
          ],
          [
           "Los Angeles",
           "CA",
           "Overcast"
          ],
          [
           "Livonia",
           "MI",
           "Mostly Cloudy"
          ],
          [
           "Marshall",
           "NC",
           "Fair"
          ],
          [
           "Miami",
           "FL",
           "Cloudy"
          ],
          [
           "Columbia",
           "SC",
           "Partly Cloudy"
          ],
          [
           "Gilroy",
           "CA",
           "Mostly Cloudy"
          ],
          [
           "Sherman Oaks",
           "CA",
           "Clear"
          ],
          [
           "El Paso",
           "TX",
           "Fair"
          ],
          [
           "Ashburn",
           "GA",
           "Light Rain"
          ],
          [
           "Little Rock",
           "AR",
           "Partly Cloudy"
          ],
          [
           "Bradenton",
           "FL",
           "Fair"
          ],
          [
           "Lake Elsinore",
           "CA",
           "Cloudy"
          ],
          [
           "Westlake",
           "LA",
           "Scattered Clouds"
          ],
          [
           "Albany",
           "OR",
           "Mostly Cloudy"
          ],
          [
           "Lewisville",
           "TX",
           "Heavy Rain"
          ],
          [
           "Hayward",
           "CA",
           "Fair"
          ],
          [
           "Irvine",
           "CA",
           "Fair"
          ],
          [
           "Sacramento",
           "CA",
           "Cloudy"
          ],
          [
           "Otisville",
           "MI",
           "Fair"
          ],
          [
           "Chester",
           "VA",
           "Overcast"
          ],
          [
           "Fresno",
           "CA",
           "Mostly Cloudy"
          ],
          [
           "Orlando",
           "FL",
           "Fair"
          ],
          [
           "Charlotte",
           "NC",
           "Mostly Cloudy"
          ],
          [
           "Huntington Station",
           "NY",
           "Fair"
          ],
          [
           "Greenville",
           "SC",
           "Light Rain"
          ],
          [
           "Nanuet",
           "NY",
           "Fog"
          ],
          [
           "El Paso",
           "TX",
           "Mostly Cloudy"
          ],
          [
           "Baton Rouge",
           "LA",
           "Fair"
          ],
          [
           "Green River",
           "UT",
           "Fair"
          ],
          [
           "Burkeville",
           "VA",
           "Light Drizzle"
          ],
          [
           "Laurel",
           "MD",
           "Cloudy"
          ],
          [
           "Saint Petersburg",
           "FL",
           "Fair"
          ],
          [
           "Tampa",
           "FL",
           "Fair"
          ],
          [
           "Jacksonville",
           "FL",
           "Scattered Clouds"
          ],
          [
           "Fresno",
           "CA",
           "Fair"
          ],
          [
           "Nipomo",
           "CA",
           "Fair"
          ],
          [
           "Houston",
           "TX",
           "Clear"
          ],
          [
           "Chicago",
           "IL",
           "Cloudy"
          ],
          [
           "Saint Paul",
           "MN",
           "Partly Cloudy"
          ],
          [
           "Houston",
           "TX",
           "Fair"
          ],
          [
           "Phoenix",
           "AZ",
           "Clear"
          ],
          [
           "Springfield",
           "VA",
           "Clear"
          ],
          [
           "Church Hill",
           "MD",
           "Cloudy"
          ],
          [
           "San Jose",
           "CA",
           "Cloudy"
          ],
          [
           "Cotati",
           "CA",
           "Fair"
          ],
          [
           "Merced",
           "CA",
           "Fair"
          ],
          [
           "Fort Worth",
           "TX",
           "Fair"
          ],
          [
           "Mission Hills",
           "CA",
           "Clear"
          ],
          [
           "Columbia",
           "SC",
           "Fog"
          ],
          [
           "Los Angeles",
           "CA",
           "Fog"
          ],
          [
           "Yukon",
           "OK",
           "Mostly Cloudy"
          ],
          [
           "Granada Hills",
           "CA",
           "Scattered Clouds"
          ],
          [
           "Tracy",
           "CA",
           "Light Rain"
          ],
          [
           "West Covina",
           "CA",
           "Clear"
          ],
          [
           "Washington",
           "DC",
           "Fog"
          ],
          [
           "Diamond Bar",
           "CA",
           "Fair"
          ],
          [
           "Volo",
           "IL",
           "Light Snow"
          ],
          [
           "Chapel Hill",
           "NC",
           null
          ],
          [
           "San Bernardino",
           "CA",
           "Haze"
          ],
          [
           "Richardson",
           "TX",
           "Partly Cloudy"
          ],
          [
           "Orange",
           "CA",
           "Fair"
          ],
          [
           "Oakland",
           "CA",
           "Fair"
          ],
          [
           "Dallas",
           "TX",
           "Fair"
          ],
          [
           "East Greenville",
           "PA",
           "Partly Cloudy"
          ],
          [
           "Fort Worth",
           "TX",
           "Cloudy"
          ],
          [
           "Charlotte",
           "NC",
           "Fair"
          ],
          [
           "Albany",
           "NY",
           "Cloudy"
          ],
          [
           "Fresno",
           "CA",
           "Partly Cloudy"
          ],
          [
           "Hayward",
           "CA",
           "Partly Cloudy"
          ],
          [
           "Dallas",
           "TX",
           "Light Rain with Thunder"
          ],
          [
           "Middletown",
           "VA",
           "Fair"
          ],
          [
           "Dixon",
           "CA",
           "Fair"
          ],
          [
           "Long Beach",
           "CA",
           "Fair"
          ],
          [
           "West Chester",
           "PA",
           "Fair"
          ],
          [
           "San Diego",
           "CA",
           "Fair"
          ],
          [
           "Rialto",
           "CA",
           "Light Rain"
          ],
          [
           "Phoenixville",
           "PA",
           null
          ],
          [
           "Fort Worth",
           "TX",
           "Fair"
          ],
          [
           "Fredericksburg",
           "VA",
           "Clear"
          ],
          [
           "Ontario",
           "CA",
           "Fair"
          ],
          [
           "Irvine",
           "CA",
           "Partly Cloudy"
          ],
          [
           "San Diego",
           "CA",
           "Cloudy"
          ],
          [
           "Stevens",
           "PA",
           "Cloudy"
          ],
          [
           "Columbia",
           "SC",
           "Mostly Cloudy"
          ],
          [
           "Michigan City",
           "IN",
           "Fair"
          ],
          [
           "Jacksonville",
           "FL",
           "Heavy Rain / Windy"
          ],
          [
           "Osceola",
           "AR",
           "Cloudy"
          ],
          [
           "Centerville",
           "UT",
           "Fair"
          ],
          [
           "Queens Village",
           "NY",
           "Mostly Cloudy"
          ],
          [
           "Brookville",
           "OH",
           "Partly Cloudy"
          ],
          [
           "Pittsburgh",
           "PA",
           "Cloudy"
          ],
          [
           "Culver City",
           "CA",
           "Haze"
          ],
          [
           "Lansdale",
           "PA",
           "Cloudy"
          ],
          [
           "New Holland",
           "PA",
           "Mostly Cloudy"
          ],
          [
           "Wolf Creek",
           "OR",
           "Fog"
          ],
          [
           "Jacksonville",
           "FL",
           "Mostly Cloudy"
          ],
          [
           "Brooklyn",
           "NY",
           "Light Rain"
          ],
          [
           "Greer",
           "SC",
           "Fair"
          ],
          [
           "South Dennis",
           "MA",
           "Fair"
          ],
          [
           "Yonkers",
           "NY",
           "Overcast"
          ],
          [
           "Los Angeles",
           "CA",
           "Cloudy"
          ],
          [
           "Hayward",
           "CA",
           "Haze"
          ],
          [
           "Frederick",
           "MD",
           "Overcast"
          ],
          [
           "Panama City",
           "FL",
           "Mostly Cloudy"
          ],
          [
           "Tampa",
           "FL",
           "Light Rain"
          ],
          [
           "Denton",
           "TX",
           "Clear"
          ],
          [
           "Minneapolis",
           "MN",
           "Fair"
          ],
          [
           "Raleigh",
           "NC",
           "Mostly Cloudy"
          ],
          [
           "Salem",
           "WI",
           "Clear"
          ],
          [
           "Saint Matthews",
           "SC",
           "Cloudy"
          ],
          [
           "Baton Rouge",
           "LA",
           "Fair"
          ],
          [
           "China Grove",
           "NC",
           "Fair"
          ],
          [
           "Norwalk",
           "CA",
           "Clear"
          ],
          [
           "Atlanta",
           "GA",
           "Light Rain"
          ],
          [
           "Hialeah",
           "FL",
           "Fair"
          ],
          [
           "Austin",
           "TX",
           "Partly Cloudy"
          ],
          [
           "Hialeah",
           "FL",
           "Clear"
          ],
          [
           "Chattanooga",
           "TN",
           "Partly Cloudy"
          ],
          [
           "Madison",
           "WI",
           "Partly Cloudy"
          ],
          [
           "Phoenix",
           "AZ",
           "Fair"
          ],
          [
           "Arvin",
           "CA",
           "Cloudy"
          ],
          [
           "Hamtramck",
           "MI",
           "Clear"
          ],
          [
           "Sarasota",
           "FL",
           "Overcast"
          ],
          [
           "Louisville",
           "KY",
           "Partly Cloudy"
          ],
          [
           "Indianapolis",
           "IN",
           "Fair"
          ],
          [
           "San Diego",
           "CA",
           "Scattered Clouds"
          ],
          [
           "Floyds Knobs",
           "IN",
           "Mostly Cloudy"
          ],
          [
           "Carmichael",
           "CA",
           "Fair"
          ],
          [
           "Duluth",
           "MN",
           "Light Snow"
          ],
          [
           "Sherman Oaks",
           "CA",
           "Partly Cloudy"
          ],
          [
           "Burbank",
           "CA",
           "Clear"
          ],
          [
           "Black Canyon City",
           "AZ",
           "Fair"
          ],
          [
           "Newberg",
           "OR",
           "Clear"
          ],
          [
           "Raleigh",
           "NC",
           "Cloudy"
          ],
          [
           "Southampton",
           "NJ",
           "Cloudy"
          ],
          [
           "Bozeman",
           "MT",
           "Haze"
          ],
          [
           "Austin",
           "TX",
           "Fair"
          ],
          [
           "Houston",
           "TX",
           "Cloudy"
          ],
          [
           "Lincoln",
           "CA",
           "Cloudy / Windy"
          ],
          [
           "Long Beach",
           "CA",
           "Fair"
          ],
          [
           "Augusta",
           "GA",
           "Clear"
          ],
          [
           "West Palm Beach",
           "FL",
           "Thunder"
          ],
          [
           "Dallas",
           "TX",
           "Cloudy"
          ],
          [
           "San Diego",
           "CA",
           "Mostly Cloudy"
          ],
          [
           "Boise",
           "ID",
           "Partly Cloudy"
          ],
          [
           "Virginia Beach",
           "VA",
           "Partly Cloudy"
          ],
          [
           "Oregon",
           "OH",
           "Light Rain"
          ],
          [
           "East Brunswick",
           "NJ",
           null
          ],
          [
           "Metairie",
           "LA",
           "Partly Cloudy"
          ],
          [
           "Cincinnati",
           "OH",
           "Light Rain"
          ],
          [
           "Farmington",
           "MI",
           "Fair"
          ],
          [
           "Riverside",
           "CA",
           "Fair"
          ],
          [
           "Houston",
           "TX",
           "Overcast"
          ],
          [
           "Chapin",
           "SC",
           "Mostly Cloudy"
          ],
          [
           "Erlanger",
           "KY",
           "Cloudy / Windy"
          ],
          [
           "Plainville",
           "CT",
           "Cloudy"
          ],
          [
           "Oklahoma City",
           "OK",
           "Fair"
          ],
          [
           "Fresno",
           "CA",
           "Fair"
          ],
          [
           "Rochester",
           "NY",
           "Scattered Clouds"
          ],
          [
           "Fort Myers",
           "FL",
           "Partly Cloudy"
          ],
          [
           "Pittsburgh",
           "PA",
           "Fair"
          ],
          [
           "Washington",
           "DC",
           "Fair"
          ],
          [
           "Nutley",
           "NJ",
           "Light Rain"
          ],
          [
           "West Chester",
           "PA",
           "Fair"
          ],
          [
           "Napa",
           "CA",
           "Mostly Cloudy"
          ],
          [
           "Corona",
           "CA",
           "Clear"
          ],
          [
           "Mechanicsville",
           "VA",
           "Cloudy"
          ],
          [
           "Nashville",
           "TN",
           "Partly Cloudy"
          ],
          [
           "Shippensburg",
           "PA",
           null
          ],
          [
           "Miami",
           "FL",
           "Cloudy"
          ],
          [
           "North Chesterfield",
           "VA",
           "Light Rain"
          ],
          [
           "Dallas",
           "TX",
           "Light Rain"
          ],
          [
           "Louisville",
           "KY",
           "Partly Cloudy"
          ],
          [
           "Manassas",
           "VA",
           "Cloudy"
          ],
          [
           "Philadelphia",
           "PA",
           "Mostly Cloudy"
          ],
          [
           "Bethlehem",
           "PA",
           "Mostly Cloudy"
          ],
          [
           "Cincinnati",
           "OH",
           "Cloudy"
          ],
          [
           "Los Angeles",
           "CA",
           "Mostly Cloudy"
          ],
          [
           "Tucson",
           "AZ",
           "Fair"
          ],
          [
           "Dallas",
           "TX",
           "Clear"
          ],
          [
           "Flint",
           "MI",
           "Fair"
          ],
          [
           "Philadelphia",
           "PA",
           "Partly Cloudy"
          ],
          [
           "Chattanooga",
           "TN",
           "Partly Cloudy"
          ],
          [
           "Bradenton",
           "FL",
           "Partly Cloudy"
          ],
          [
           "Orlando",
           "FL",
           "Thunder in the Vicinity"
          ],
          [
           "Fountain Valley",
           "CA",
           "Partly Cloudy"
          ],
          [
           "Fort Worth",
           "TX",
           "Mostly Cloudy"
          ],
          [
           "Overland Park",
           "KS",
           "Partly Cloudy"
          ],
          [
           "Grand Rapids",
           "MI",
           "Light Snow"
          ],
          [
           "Saint Cloud",
           "FL",
           "Mostly Cloudy"
          ],
          [
           "Birmingham",
           "AL",
           "Cloudy"
          ],
          [
           "Piedmont",
           "SC",
           "Partly Cloudy"
          ],
          [
           "Smithtown",
           "NY",
           "Fair"
          ],
          [
           "Los Angeles",
           "CA",
           "Fair"
          ],
          [
           "Pittsburgh",
           "PA",
           "Cloudy"
          ],
          [
           "Dixon",
           "CA",
           "Fair"
          ],
          [
           "Falls Church",
           "VA",
           "Haze"
          ],
          [
           "North Chicago",
           "IL",
           "Clear"
          ],
          [
           "Carmichael",
           "CA",
           "Fair / Windy"
          ],
          [
           "Omaha",
           "NE",
           "Partly Cloudy"
          ],
          [
           "Santa Cruz",
           "CA",
           "Light Rain"
          ],
          [
           "Roy",
           "WA",
           "Fog"
          ],
          [
           "Spruce Pine",
           "NC",
           "Cloudy"
          ],
          [
           "Nashville",
           "TN",
           "Cloudy"
          ],
          [
           "Gaffney",
           "SC",
           "Scattered Clouds"
          ],
          [
           "Silver Spring",
           "MD",
           "Mostly Cloudy"
          ],
          [
           "Saint Paul",
           "MN",
           "Clear"
          ],
          [
           "New Castle",
           "DE",
           "Fair"
          ],
          [
           "Chicago",
           "IL",
           "Fair"
          ],
          [
           "Loleta",
           "CA",
           "Fog"
          ],
          [
           "San Pablo",
           "CA",
           "Fair"
          ],
          [
           "Provo",
           "UT",
           "Clear"
          ],
          [
           "Kasota",
           "MN",
           "Light Snow"
          ],
          [
           "Knightdale",
           "NC",
           "Clear"
          ],
          [
           "Houston",
           "TX",
           "Clear"
          ],
          [
           "McDonough",
           "GA",
           "Cloudy"
          ],
          [
           "Nashville",
           "TN",
           "Mostly Cloudy"
          ],
          [
           "Santa Ana",
           "CA",
           "Cloudy"
          ],
          [
           "Fort Bliss",
           "TX",
           "Partly Cloudy"
          ],
          [
           "Lehi",
           "UT",
           "Overcast"
          ],
          [
           "Irmo",
           "SC",
           "Light Drizzle"
          ],
          [
           "Rochester",
           "NY",
           "Cloudy"
          ],
          [
           "Miami",
           "FL",
           "Cloudy"
          ],
          [
           "Davison",
           "MI",
           "Clear"
          ],
          [
           "Hollywood",
           "FL",
           "Mostly Cloudy"
          ],
          [
           "Lebanon",
           "OH",
           "Clear"
          ],
          [
           "Beltsville",
           "MD",
           "Cloudy"
          ],
          [
           "Louisville",
           "KY",
           "Mostly Cloudy"
          ],
          [
           "Brea",
           "CA",
           "Fair"
          ],
          [
           "Opa Locka",
           "FL",
           "Partly Cloudy"
          ],
          [
           "West Columbia",
           "SC",
           "Partly Cloudy"
          ],
          [
           "Denver",
           "CO",
           "Fair"
          ],
          [
           "Los Angeles",
           "CA",
           "Fair"
          ],
          [
           "Miami",
           "FL",
           "Light Rain"
          ],
          [
           "Austin",
           "TX",
           "Overcast"
          ],
          [
           "Austell",
           "GA",
           "Mostly Cloudy"
          ],
          [
           "Los Angeles",
           "CA",
           "Haze"
          ],
          [
           "Marion",
           "AR",
           "Mostly Cloudy"
          ],
          [
           "Fair Oaks",
           "CA",
           "Fair"
          ],
          [
           "Dallas",
           "TX",
           "Cloudy"
          ],
          [
           "Tahoe City",
           "CA",
           "Fair"
          ],
          [
           "Ironton",
           "MN",
           "Cloudy"
          ],
          [
           "Clearwater",
           "FL",
           "Fair"
          ],
          [
           "Diamond Bar",
           "CA",
           "Clear"
          ],
          [
           "Los Angeles",
           "CA",
           "Fair"
          ],
          [
           "Upper Lake",
           "CA",
           "Clear"
          ],
          [
           "Valley Springs",
           "CA",
           "Fair"
          ],
          [
           "Bremerton",
           "WA",
           "Clear"
          ],
          [
           "Chicago",
           "IL",
           "Partly Cloudy"
          ],
          [
           "Mercer",
           "PA",
           "Partly Cloudy"
          ],
          [
           "Fountain Valley",
           "CA",
           "Mostly Cloudy"
          ],
          [
           "Miami",
           "FL",
           "Fair"
          ],
          [
           "Pendleton",
           "OR",
           "Fog"
          ],
          [
           "Montgomery",
           "AL",
           "Partly Cloudy"
          ],
          [
           "Stone Mountain",
           "GA",
           "Partly Cloudy"
          ],
          [
           "Westmont",
           "IL",
           "Fair"
          ],
          [
           "Jacksonville",
           "FL",
           "Cloudy"
          ],
          [
           "Dayton",
           "OH",
           "Mostly Cloudy"
          ],
          [
           "Cleveland",
           "OH",
           "Heavy Snow / Windy"
          ],
          [
           "New Orleans",
           "LA",
           "Mostly Cloudy"
          ],
          [
           "Monroe Township",
           "NJ",
           "Fair"
          ],
          [
           "Elgin",
           "SC",
           "Fair"
          ],
          [
           "Millersville",
           "MD",
           "Partly Cloudy"
          ],
          [
           "Mandeville",
           "LA",
           "Overcast"
          ],
          [
           "Dallas",
           "TX",
           "Fair"
          ],
          [
           "Bronx",
           "NY",
           "Light Rain with Thunder"
          ],
          [
           "Richmond",
           "IN",
           "Mostly Cloudy"
          ],
          [
           "Union Grove",
           "NC",
           "Cloudy"
          ],
          [
           "Hampstead",
           "NC",
           "Fair"
          ],
          [
           "High Point",
           "NC",
           "Fair"
          ],
          [
           "Austin",
           "TX",
           "Cloudy"
          ],
          [
           "New Cumberland",
           "PA",
           "Clear"
          ],
          [
           "Del Valle",
           "TX",
           "Partly Cloudy"
          ],
          [
           "Federal Way",
           "WA",
           "Partly Cloudy"
          ],
          [
           "Aurora",
           "CO",
           "Fair"
          ],
          [
           "Detroit",
           "MI",
           "Fair"
          ],
          [
           "Salt Lake City",
           "UT",
           "Mostly Cloudy"
          ],
          [
           "Davis",
           "CA",
           "Clear"
          ],
          [
           "Clifton Park",
           "NY",
           "Cloudy"
          ],
          [
           "Sunnyvale",
           "CA",
           null
          ],
          [
           "San Antonio",
           "TX",
           "Cloudy"
          ],
          [
           "Troy",
           "NY",
           "Overcast"
          ],
          [
           "Greensboro",
           "NC",
           "Rain"
          ],
          [
           "Mattoon",
           "IL",
           "Fair"
          ],
          [
           "Foxboro",
           "MA",
           "Scattered Clouds"
          ],
          [
           "Salinas",
           "CA",
           "Cloudy"
          ],
          [
           "Huson",
           "MT",
           "Wintry Mix"
          ],
          [
           "Hartford",
           "CT",
           "Fair"
          ],
          [
           "Andover",
           "MA",
           "Cloudy"
          ],
          [
           "South Saint Paul",
           "MN",
           "Mostly Cloudy"
          ],
          [
           "Ontario",
           "CA",
           "Haze"
          ],
          [
           "Atlanta",
           "GA",
           "Fair"
          ],
          [
           "Woodstock",
           "VA",
           "Fair"
          ],
          [
           "Anderson",
           "SC",
           "Fair"
          ],
          [
           "Edmond",
           "OK",
           "Clear"
          ],
          [
           "Hanover",
           "MD",
           "Fair"
          ],
          [
           "Dallas",
           "TX",
           "Fair"
          ],
          [
           "Tampa",
           "FL",
           "Overcast"
          ],
          [
           "Porter Ranch",
           "CA",
           "Partly Cloudy"
          ],
          [
           "Ganado",
           "TX",
           "Fair"
          ],
          [
           "Covina",
           "CA",
           "Cloudy"
          ],
          [
           "Arlington",
           "TX",
           "Fog"
          ],
          [
           "Riverside",
           "CA",
           "Fair"
          ],
          [
           "Chesapeake",
           "VA",
           "Cloudy"
          ],
          [
           "Front Royal",
           "VA",
           "Thunder in the Vicinity"
          ],
          [
           "Miami",
           "FL",
           "Light Rain"
          ],
          [
           "Phoenix",
           "AZ",
           "Fair"
          ],
          [
           "Watkinsville",
           "GA",
           "Overcast"
          ],
          [
           "Dublin",
           "CA",
           "Cloudy"
          ],
          [
           "Pinson",
           "AL",
           "Clear"
          ],
          [
           "Dallas",
           "TX",
           "Fair"
          ],
          [
           "Kernersville",
           "NC",
           "Overcast"
          ],
          [
           "Huntsville",
           "AL",
           "Mostly Cloudy"
          ],
          [
           "Irvington",
           "NJ",
           "Cloudy"
          ],
          [
           "Baton Rouge",
           "LA",
           "Fair"
          ],
          [
           "Spicewood",
           "TX",
           "Clear"
          ],
          [
           "Oklahoma City",
           "OK",
           "Clear"
          ],
          [
           "Cincinnati",
           "OH",
           "Clear"
          ],
          [
           "Santa Rosa",
           "CA",
           "Fair"
          ],
          [
           "Sacramento",
           "CA",
           "Fair"
          ],
          [
           "Gramercy",
           "LA",
           "Fog"
          ],
          [
           "Franklin Park",
           "IL",
           "Fair"
          ],
          [
           "Lafayette",
           "LA",
           "Scattered Clouds"
          ],
          [
           "Newark",
           "NJ",
           "Mostly Cloudy"
          ],
          [
           "Durham",
           "NC",
           "Fair"
          ],
          [
           "Derry",
           "PA",
           "Fair"
          ],
          [
           "Colonial Heights",
           "VA",
           "Partly Cloudy"
          ],
          [
           "Strasburg",
           "VA",
           "Thunder in the Vicinity"
          ],
          [
           "Henrico",
           "VA",
           "Light Rain"
          ],
          [
           "Grass Valley",
           "CA",
           "Fog"
          ],
          [
           "Dallas",
           "TX",
           "Partly Cloudy"
          ],
          [
           "Rockville",
           "MD",
           "Cloudy"
          ],
          [
           "Huntsville",
           "AL",
           "Overcast"
          ],
          [
           "Ogden",
           "UT",
           "Partly Cloudy"
          ],
          [
           "Brandywine",
           "MD",
           "Fair"
          ],
          [
           "Indianapolis",
           "IN",
           null
          ],
          [
           "Houston",
           "TX",
           "Partly Cloudy"
          ],
          [
           "Richmond",
           "VA",
           "Light Rain"
          ],
          [
           "Morgan Hill",
           "CA",
           "Fair"
          ],
          [
           "Hialeah",
           "FL",
           "Mostly Cloudy"
          ],
          [
           "Barberton",
           "OH",
           "Cloudy"
          ],
          [
           "San Pedro",
           "CA",
           "Fair"
          ],
          [
           "Phoenix",
           "AZ",
           "Mostly Cloudy"
          ],
          [
           "Sierraville",
           "CA",
           "Light Snow"
          ],
          [
           "Ocoee",
           "FL",
           "Clear"
          ],
          [
           "Providence",
           "RI",
           "Fair"
          ],
          [
           "Orlando",
           "FL",
           "Fair"
          ],
          [
           "Edison",
           "NJ",
           "Cloudy"
          ],
          [
           "Wentzville",
           "MO",
           "Scattered Clouds"
          ],
          [
           "Austin",
           "TX",
           "Heavy T-Storm"
          ],
          [
           "Pittsburgh",
           "PA",
           "Cloudy"
          ],
          [
           "Dayton",
           "OH",
           "Partly Cloudy"
          ],
          [
           "Bridal Veil",
           "OR",
           "Fair"
          ],
          [
           "Saint Paul",
           "MN",
           "Partly Cloudy"
          ],
          [
           "Baldwin Park",
           "CA",
           null
          ],
          [
           "Dallas",
           "TX",
           "Fair"
          ],
          [
           "Spring Hope",
           "NC",
           "Fair"
          ],
          [
           "Tallahassee",
           "FL",
           "Overcast"
          ],
          [
           "Hampton",
           "VA",
           "Cloudy"
          ],
          [
           "Hudson",
           "NH",
           "Partly Cloudy"
          ],
          [
           "Winston Salem",
           "NC",
           "Clear"
          ],
          [
           "New York",
           "NY",
           "Fair"
          ],
          [
           "Lakeland",
           "FL",
           "Fair"
          ],
          [
           "West Palm Beach",
           "FL",
           "Overcast"
          ],
          [
           "Fort Myers",
           "FL",
           "Partly Cloudy"
          ],
          [
           "Glen Ellyn",
           "IL",
           "Fair"
          ],
          [
           "Elk River",
           "MN",
           "Fair"
          ],
          [
           "Wauconda",
           "IL",
           "Rain"
          ],
          [
           "Atlanta",
           "GA",
           "Clear"
          ],
          [
           "Rancho Santa Margarita",
           "CA",
           "Mostly Cloudy"
          ],
          [
           "Grand Rapids",
           "MI",
           "Light Snow"
          ],
          [
           "Apopka",
           "FL",
           "Clear"
          ],
          [
           "Windsor",
           "CT",
           "Light Drizzle"
          ],
          [
           "Saint Paul",
           "MN",
           "Mostly Cloudy"
          ],
          [
           "Lemoyne",
           "PA",
           "Fair"
          ],
          [
           "Wellesley",
           "MA",
           "Fair"
          ],
          [
           "Dallas",
           "TX",
           "Clear"
          ],
          [
           "Milton",
           "FL",
           "Partly Cloudy"
          ],
          [
           "Harbor City",
           "CA",
           "Mostly Cloudy"
          ],
          [
           "Wilmington",
           "DE",
           "Fair"
          ],
          [
           "Richmond",
           "VA",
           "Heavy Rain"
          ],
          [
           "Seattle",
           "WA",
           "Rain"
          ],
          [
           "Sunnyvale",
           "TX",
           "Cloudy"
          ],
          [
           "Orange",
           "CA",
           "Fair"
          ],
          [
           "Davis",
           "CA",
           "Mostly Cloudy"
          ],
          [
           "Cantonment",
           "FL",
           "Cloudy"
          ],
          [
           "Elk Grove Village",
           "IL",
           "Mostly Cloudy"
          ],
          [
           "Sun Prairie",
           "WI",
           "Mostly Cloudy"
          ],
          [
           "North Fort Myers",
           "FL",
           "Fair"
          ],
          [
           "Fredericksburg",
           "VA",
           "Fair"
          ],
          [
           "Washington",
           "PA",
           "Light Rain"
          ],
          [
           "San Diego",
           "CA",
           "Partly Cloudy"
          ],
          [
           "Albuquerque",
           "NM",
           "Mostly Cloudy"
          ],
          [
           "Los Angeles",
           "CA",
           "Fair"
          ],
          [
           "Cabin John",
           "MD",
           "Light Snow and Sleet"
          ],
          [
           "Walnut Creek",
           "CA",
           "Light Rain"
          ],
          [
           "Niles",
           "IL",
           "Light Rain"
          ],
          [
           "Grand Prairie",
           "TX",
           "Clear"
          ],
          [
           "Oak Forest",
           "IL",
           "Light Snow"
          ],
          [
           "Los Angeles",
           "CA",
           "Clear"
          ],
          [
           "Antelope",
           "CA",
           "Fair / Windy"
          ],
          [
           "Phoenix",
           "AZ",
           "Partly Cloudy"
          ],
          [
           "Napa",
           "CA",
           "Overcast"
          ],
          [
           "Saint Charles",
           "MO",
           "Partly Cloudy"
          ],
          [
           "Sidney",
           "OH",
           "Cloudy"
          ],
          [
           "Pompano Beach",
           "FL",
           "Cloudy"
          ],
          [
           "Cleveland",
           "OH",
           "Overcast"
          ],
          [
           "Monroe",
           "NC",
           "Fair"
          ],
          [
           "West Hartford",
           "CT",
           "Light Snow"
          ],
          [
           "Staten Island",
           "NY",
           "Fair"
          ],
          [
           "Guilderland",
           "NY",
           "Fair"
          ],
          [
           "Corona",
           "CA",
           "Fair"
          ],
          [
           "Birmingham",
           "AL",
           "Cloudy"
          ],
          [
           "Elloree",
           "SC",
           "Fair"
          ],
          [
           "Baton Rouge",
           "LA",
           "Cloudy"
          ],
          [
           "Chadds Ford",
           "PA",
           "Mostly Cloudy"
          ],
          [
           "Warren",
           "OH",
           "Overcast"
          ],
          [
           "Porter Ranch",
           "CA",
           "Cloudy"
          ],
          [
           "Hallandale",
           "FL",
           "Mostly Cloudy / Windy"
          ],
          [
           "Buffalo",
           "NY",
           "Cloudy"
          ],
          [
           "Atlanta",
           "GA",
           "Fair"
          ],
          [
           "Travelers Rest",
           "SC",
           "Partly Cloudy"
          ],
          [
           "Port Matilda",
           "PA",
           "Mostly Cloudy"
          ],
          [
           "Atherton",
           "CA",
           "Fair"
          ],
          [
           "Tacoma",
           "WA",
           "Fair"
          ],
          [
           "Phoenix",
           "AZ",
           "Fair"
          ],
          [
           "Greenville",
           "SC",
           "Fog"
          ],
          [
           "Royal Oaks",
           "CA",
           "Fair"
          ],
          [
           "Dakota",
           "MN",
           "Light Snow"
          ],
          [
           "Oxnard",
           "CA",
           "Fair"
          ],
          [
           "San Jose",
           "CA",
           "Fair"
          ],
          [
           "Midvale",
           "UT",
           "Light Snow"
          ],
          [
           "Louisville",
           "KY",
           "Partly Cloudy"
          ],
          [
           "La Mesa",
           "CA",
           "Rain"
          ],
          [
           "Wauchula",
           "FL",
           "Mostly Cloudy"
          ],
          [
           "Silver Spring",
           "MD",
           "Cloudy"
          ],
          [
           "Nashville",
           "TN",
           "Partly Cloudy"
          ],
          [
           "Ardmore",
           "PA",
           "Cloudy"
          ],
          [
           "Davis",
           "CA",
           "Fair"
          ],
          [
           "Coalinga",
           "CA",
           "Partly Cloudy"
          ],
          [
           "Miami",
           "FL",
           "Fair"
          ],
          [
           "Fillmore",
           "UT",
           "Cloudy"
          ],
          [
           "Summerville",
           "SC",
           null
          ],
          [
           "Dallas",
           "TX",
           "Fair"
          ],
          [
           "Sarasota",
           "FL",
           "Cloudy"
          ],
          [
           "Seattle",
           "WA",
           "Cloudy"
          ],
          [
           "Antioch",
           "TN",
           "Fair"
          ],
          [
           "Hudson",
           "NY",
           "Cloudy"
          ],
          [
           "Pasadena",
           "CA",
           null
          ],
          [
           "Daphne",
           "AL",
           "Fair"
          ],
          [
           "Alamo",
           "CA",
           "Light Rain"
          ],
          [
           "Middletown",
           "CA",
           "Fair"
          ],
          [
           "New York",
           "NY",
           "Clear"
          ],
          [
           "Rochester",
           "NY",
           "Light Snow"
          ],
          [
           "Carnegie",
           "PA",
           "Clear"
          ],
          [
           "Charlotte",
           "NC",
           "Scattered Clouds"
          ],
          [
           "Los Angeles",
           "CA",
           "Fair"
          ],
          [
           "San Diego",
           "CA",
           "Light Rain / Windy"
          ],
          [
           "Miami",
           "FL",
           "Light Rain"
          ],
          [
           "Briarcliff Manor",
           "NY",
           "Fair"
          ],
          [
           "Burleson",
           "TX",
           "Scattered Clouds"
          ],
          [
           "San Leandro",
           "CA",
           "Fair"
          ],
          [
           "Safford",
           "AZ",
           "Fair"
          ],
          [
           "Fredericksburg",
           "VA",
           "Cloudy"
          ],
          [
           "Osakis",
           "MN",
           "Cloudy"
          ],
          [
           "Rowland Heights",
           "CA",
           "Fair"
          ],
          [
           "Westport",
           "CT",
           "Fair"
          ],
          [
           "Discovery Bay",
           "CA",
           "Fair"
          ],
          [
           "Hialeah",
           "FL",
           "Fair"
          ],
          [
           "Corsica",
           "PA",
           "Fair"
          ],
          [
           "Houston",
           "TX",
           "Fair"
          ],
          [
           "Little Rock",
           "AR",
           "Cloudy"
          ],
          [
           "New York",
           "NY",
           "Cloudy"
          ],
          [
           "Apopka",
           "FL",
           "Fair"
          ],
          [
           "Flint",
           "MI",
           "Mostly Cloudy"
          ],
          [
           "Raleigh",
           "NC",
           "Fair"
          ],
          [
           "Spokane",
           "WA",
           "Clear"
          ],
          [
           "Orem",
           "UT",
           "Mostly Cloudy"
          ],
          [
           "Denver",
           "CO",
           "Clear"
          ],
          [
           "Fort Myers",
           "FL",
           "Fair"
          ],
          [
           "Miami",
           "FL",
           "Cloudy"
          ],
          [
           "Jacksonville",
           "FL",
           "Fair"
          ],
          [
           "Miami",
           "FL",
           "Mostly Cloudy"
          ],
          [
           "Richardson",
           "TX",
           "Mostly Cloudy"
          ],
          [
           "Evansville",
           "IN",
           "Fair"
          ],
          [
           "Miami",
           "FL",
           "Mostly Cloudy"
          ],
          [
           "Maple Grove",
           "MN",
           "Fair"
          ],
          [
           "Miami",
           "FL",
           "Light Rain with Thunder"
          ],
          [
           "Branchville",
           "SC",
           "Cloudy"
          ],
          [
           "Lees Summit",
           "MO",
           "Fair"
          ],
          [
           "Sacramento",
           "CA",
           "Fair"
          ],
          [
           "Forsyth",
           "GA",
           "Partly Cloudy"
          ],
          [
           "Leesburg",
           "VA",
           "Fair"
          ],
          [
           "Crawfordville",
           "FL",
           "Thunderstorm"
          ],
          [
           "Kenansville",
           "FL",
           "Clear"
          ],
          [
           "Antelope",
           "CA",
           "Fog"
          ],
          [
           "Durham",
           "NC",
           "Mostly Cloudy"
          ],
          [
           "Niles",
           "IL",
           "Partly Cloudy"
          ],
          [
           "Bradenton",
           "FL",
           "Fair"
          ],
          [
           "Visalia",
           "CA",
           "Fair"
          ],
          [
           "Baton Rouge",
           "LA",
           "Fair"
          ],
          [
           "Cincinnati",
           "OH",
           "Cloudy"
          ],
          [
           "White Plains",
           "NY",
           "Mostly Cloudy"
          ],
          [
           "Myrtle Beach",
           "SC",
           "Fair"
          ],
          [
           "Swartz Creek",
           "MI",
           "Light Snow"
          ],
          [
           "Gustine",
           "CA",
           null
          ],
          [
           "Ashby",
           "MA",
           "Fair"
          ],
          [
           "Manor",
           "TX",
           "Mostly Cloudy"
          ],
          [
           "Bartlett",
           "IL",
           "Fair"
          ],
          [
           "Houston",
           "TX",
           "Clear"
          ],
          [
           "Pleasanton",
           "CA",
           "Fair"
          ],
          [
           "Indianapolis",
           "IN",
           "Fair"
          ],
          [
           "Drain",
           "OR",
           "Light Rain"
          ],
          [
           "Lorton",
           "VA",
           "Cloudy"
          ],
          [
           "Orlando",
           "FL",
           "Partly Cloudy"
          ],
          [
           "Camarillo",
           "CA",
           "Clear"
          ],
          [
           "Wallingford",
           "CT",
           "Clear"
          ],
          [
           "Sun Valley",
           "NV",
           "Mostly Cloudy"
          ],
          [
           "Orlando",
           "FL",
           "Cloudy"
          ],
          [
           "Orlando",
           "FL",
           "Fair"
          ],
          [
           "Myers Flat",
           "CA",
           "Cloudy"
          ],
          [
           "Greer",
           "SC",
           "Fair"
          ],
          [
           "Houston",
           "TX",
           "Light Rain"
          ],
          [
           "Long Beach",
           "CA",
           "Cloudy"
          ],
          [
           "Austin",
           "TX",
           "Clear"
          ],
          [
           "Charlotte",
           "NC",
           "Fair"
          ],
          [
           "Austin",
           "TX",
           "Fair"
          ],
          [
           "Amsterdam",
           "NY",
           "Light Snow"
          ],
          [
           "Stockton",
           "CA",
           "Haze"
          ],
          [
           "Sunol",
           "CA",
           "Fair"
          ],
          [
           "Ashland",
           "VA",
           "Light Rain"
          ],
          [
           "Emeryville",
           "CA",
           "Mostly Cloudy"
          ],
          [
           "Centralia",
           "WA",
           "Light Rain"
          ],
          [
           "Lexington",
           "SC",
           "Mostly Cloudy"
          ],
          [
           "Daytona Beach",
           "FL",
           "Mostly Cloudy"
          ],
          [
           "Miami",
           "FL",
           "Fair"
          ],
          [
           "Fort Myers",
           "FL",
           "Mostly Cloudy"
          ],
          [
           "Seattle",
           "WA",
           "Cloudy"
          ],
          [
           "Raleigh",
           "NC",
           "Partly Cloudy"
          ],
          [
           "Marysville",
           "PA",
           "Mostly Cloudy"
          ],
          [
           "North Hollywood",
           "CA",
           "Fair"
          ],
          [
           "White Plains",
           "NY",
           "Light Drizzle"
          ],
          [
           "Hayward",
           "CA",
           "Fair"
          ],
          [
           "Tallahassee",
           "FL",
           "Mostly Cloudy"
          ],
          [
           "Willard",
           "UT",
           "Cloudy"
          ],
          [
           "Pueblo",
           "CO",
           "Fair"
          ],
          [
           "Piedmont",
           "SC",
           "Overcast"
          ],
          [
           "Albany",
           "NY",
           "Overcast"
          ],
          [
           "Dallas",
           "TX",
           "Clear"
          ],
          [
           "Hickory",
           "NC",
           "Partly Cloudy"
          ],
          [
           "Vista",
           "CA",
           "Partly Cloudy"
          ],
          [
           "Tempe",
           "AZ",
           "Clear"
          ],
          [
           "Tulsa",
           "OK",
           "Fair"
          ],
          [
           "Somerset",
           "PA",
           "Partly Cloudy"
          ],
          [
           "Charlotte",
           "NC",
           "Overcast"
          ],
          [
           "West Columbia",
           "SC",
           "Clear"
          ],
          [
           "Orlando",
           "FL",
           "Mostly Cloudy"
          ],
          [
           "Baton Rouge",
           "LA",
           "Fair"
          ],
          [
           "Manning",
           "SC",
           null
          ],
          [
           "Apple Valley",
           "CA",
           "Mostly Cloudy / Windy"
          ],
          [
           "Ojai",
           "CA",
           "Fair"
          ],
          [
           "Wildwood",
           "GA",
           "Rain"
          ],
          [
           "Raleigh",
           "NC",
           "Partly Cloudy"
          ],
          [
           "Norristown",
           "PA",
           "Clear"
          ],
          [
           "Salisbury",
           "NC",
           "Fair"
          ],
          [
           "Dallas",
           "TX",
           "Fair"
          ],
          [
           "Orlando",
           "FL",
           "Fair"
          ],
          [
           "Lakehead",
           "CA",
           null
          ],
          [
           "Sacramento",
           "CA",
           "Clear"
          ],
          [
           "Hayward",
           "CA",
           "Clear"
          ],
          [
           "Rowland Heights",
           "CA",
           "Clear"
          ],
          [
           "Clearfield",
           "UT",
           "Overcast"
          ],
          [
           "Chesnee",
           "SC",
           "Heavy Rain"
          ],
          [
           "Tuscaloosa",
           "AL",
           "Partly Cloudy"
          ],
          [
           "Houston",
           "TX",
           "Clear"
          ],
          [
           "San Diego",
           "CA",
           "Overcast"
          ],
          [
           "North Miami",
           "FL",
           "Fair"
          ],
          [
           "Dallas",
           "TX",
           "Cloudy"
          ],
          [
           "Broad Run",
           "VA",
           "Partly Cloudy"
          ],
          [
           "Austin",
           "TX",
           "Scattered Clouds"
          ],
          [
           "Raleigh",
           "NC",
           "Cloudy"
          ],
          [
           "East Meadow",
           "NY",
           "Fair"
          ],
          [
           "Saint Paul",
           "MN",
           "Clear"
          ],
          [
           "Long Beach",
           "CA",
           "Mostly Cloudy"
          ],
          [
           "Whittier",
           "NC",
           "Partly Cloudy"
          ],
          [
           "Orinda",
           "CA",
           "Rain"
          ],
          [
           "Daytona Beach",
           "FL",
           "Fair"
          ],
          [
           "Saint Louis",
           "MO",
           "Cloudy"
          ],
          [
           "Wells",
           "MN",
           "Snow"
          ],
          [
           "Stockton",
           "CA",
           "Fair"
          ],
          [
           "Chesapeake",
           "VA",
           "Clear"
          ],
          [
           "Doral",
           "FL",
           "Mostly Cloudy"
          ],
          [
           "Tampa",
           "FL",
           "Mostly Cloudy"
          ],
          [
           "San Jose",
           "CA",
           "Partly Cloudy"
          ],
          [
           "Providence",
           "RI",
           "Partly Cloudy"
          ],
          [
           "West Chester",
           "PA",
           "Fair"
          ],
          [
           "Valley Village",
           "CA",
           "Clear"
          ],
          [
           "Seattle",
           "WA",
           "Light Rain"
          ],
          [
           "Doral",
           "FL",
           "Cloudy"
          ],
          [
           "Westminster",
           "CO",
           "Mostly Cloudy"
          ],
          [
           "Glenwood Springs",
           "CO",
           "Light Freezing Fog"
          ],
          [
           "Annapolis",
           "MD",
           "Fair"
          ],
          [
           "Houston",
           "TX",
           "Clear"
          ],
          [
           "Thousand Oaks",
           "CA",
           "Fair"
          ],
          [
           "Michigan City",
           "IN",
           "Fog"
          ],
          [
           "Redlands",
           "CA",
           "Mostly Cloudy"
          ],
          [
           "Grand Rapids",
           "MI",
           "Fair"
          ],
          [
           "Fort Lee",
           "NJ",
           "Shallow Fog"
          ],
          [
           "Orlando",
           "FL",
           "Thunder in the Vicinity"
          ],
          [
           "Dover",
           "FL",
           "Scattered Clouds"
          ],
          [
           "Corona",
           "CA",
           "Overcast"
          ],
          [
           "Myrtle Beach",
           "SC",
           "Light Rain"
          ],
          [
           "Tulsa",
           "OK",
           "Mostly Cloudy"
          ],
          [
           "Columbus",
           "OH",
           "Fair"
          ],
          [
           "Scottsdale",
           "AZ",
           "Clear"
          ],
          [
           "Forest Park",
           "GA",
           "Partly Cloudy"
          ],
          [
           "Vallejo",
           "CA",
           "Clear"
          ],
          [
           "Lynnwood",
           "WA",
           "Fair"
          ],
          [
           "Atlanta",
           "GA",
           "Clear"
          ],
          [
           "Little Neck",
           "NY",
           "Fair"
          ],
          [
           "Grand Rapids",
           "MI",
           "Rain"
          ],
          [
           "New Hudson",
           "MI",
           "Partly Cloudy"
          ],
          [
           "Duncan",
           "SC",
           "Partly Cloudy"
          ],
          [
           "Houston",
           "TX",
           "Fair"
          ],
          [
           "Laguna Hills",
           "CA",
           "Mostly Cloudy"
          ],
          [
           "Ashland",
           "VA",
           "Fair"
          ],
          [
           "Miami",
           "FL",
           "Fair"
          ],
          [
           "Miami",
           "FL",
           "Mostly Cloudy"
          ],
          [
           "Winnsboro",
           "SC",
           "Heavy Rain"
          ],
          [
           "Providence",
           "RI",
           "Partly Cloudy"
          ],
          [
           "King of Prussia",
           "PA",
           "Scattered Clouds"
          ],
          [
           "Lake Elsinore",
           "CA",
           "Clear"
          ],
          [
           "Denver",
           "CO",
           "Partly Cloudy / Windy"
          ],
          [
           "New Orleans",
           "LA",
           "Fog"
          ],
          [
           "Chicago",
           "IL",
           "Light Rain"
          ],
          [
           "Wildwood",
           "FL",
           "Mostly Cloudy"
          ],
          [
           "Columbia",
           "SC",
           "Cloudy"
          ],
          [
           "Keswick",
           "VA",
           "Mostly Cloudy"
          ],
          [
           "Glencoe",
           "MN",
           "Light Snow"
          ],
          [
           "Pottstown",
           "PA",
           "Clear"
          ],
          [
           "North Port",
           "FL",
           "Cloudy"
          ],
          [
           "Ashland",
           "VA",
           "Fair"
          ],
          [
           "Buchanan",
           "VA",
           "Mostly Cloudy"
          ],
          [
           "Salome",
           "AZ",
           null
          ],
          [
           "Los Angeles",
           "CA",
           "Mostly Cloudy"
          ],
          [
           "Russellville",
           "TN",
           "Cloudy"
          ],
          [
           "Sacramento",
           "CA",
           "Cloudy"
          ],
          [
           "Edmond",
           "OK",
           "Clear"
          ],
          [
           "Austin",
           "TX",
           "Fair"
          ],
          [
           "San Francisco",
           "CA",
           "Cloudy"
          ],
          [
           "Payson",
           "UT",
           "Mostly Cloudy"
          ],
          [
           "Hollywood",
           "FL",
           "Mostly Cloudy"
          ],
          [
           "Colorado Springs",
           "CO",
           "Partly Cloudy"
          ],
          [
           "Homestead",
           "FL",
           "Mostly Cloudy"
          ],
          [
           "Orange Park",
           "FL",
           "Clear"
          ],
          [
           "Hollywood",
           "FL",
           "T-Storm"
          ],
          [
           "Salt Lake City",
           "UT",
           "Clear"
          ],
          [
           "Rochester",
           "NY",
           "Cloudy"
          ],
          [
           "Pittsburgh",
           "PA",
           "Clear"
          ],
          [
           "Picayune",
           "MS",
           "Light Rain"
          ],
          [
           "Fort Worth",
           "TX",
           "Fair"
          ],
          [
           "Memphis",
           "TN",
           "Cloudy"
          ],
          [
           "West Palm Beach",
           "FL",
           "Scattered Clouds"
          ],
          [
           "Orlando",
           "FL",
           "Mostly Cloudy"
          ],
          [
           "Big Sky",
           "MT",
           null
          ],
          [
           "Altoona",
           "PA",
           "Partly Cloudy"
          ],
          [
           "Gustine",
           "CA",
           "Fair"
          ],
          [
           "Riverside",
           "CA",
           "Clear"
          ],
          [
           "Lost Hills",
           "CA",
           "Fair"
          ],
          [
           "Norfolk",
           "VA",
           null
          ],
          [
           "Oakland",
           "CA",
           "Partly Cloudy"
          ],
          [
           "Montgomery",
           "MN",
           "Light Snow"
          ],
          [
           "Baton Rouge",
           "LA",
           "Fair"
          ],
          [
           "Columbia",
           "SC",
           "Fair"
          ],
          [
           "Oxon Hill",
           "MD",
           "Mostly Cloudy"
          ],
          [
           "Columbus",
           "OH",
           "Cloudy"
          ],
          [
           "Moncks Corner",
           "SC",
           "Partly Cloudy"
          ],
          [
           "Brooklyn",
           "NY",
           null
          ],
          [
           "Wendover",
           "UT",
           "Fair"
          ],
          [
           "Ellendale",
           "MN",
           "Wintry Mix"
          ],
          [
           "San Antonio",
           "TX",
           "Overcast"
          ],
          [
           "Alsip",
           "IL",
           "Partly Cloudy"
          ],
          [
           "San Jose",
           "CA",
           "Fair / Windy"
          ],
          [
           "Fairfield",
           "CA",
           "Mostly Cloudy"
          ],
          [
           "San Diego",
           "CA",
           "Fair"
          ],
          [
           "Stafford",
           "VA",
           "Cloudy"
          ],
          [
           "Exeter",
           "CA",
           "Fair"
          ],
          [
           "Pueblo",
           "CO",
           "Fair"
          ],
          [
           "Goleta",
           "CA",
           "Fair"
          ],
          [
           "Philadelphia",
           "PA",
           "Light Rain"
          ],
          [
           "Goldendale",
           "WA",
           "Fair"
          ],
          [
           "Los Angeles",
           "CA",
           "Rain"
          ],
          [
           "Murfreesboro",
           "TN",
           "Fair"
          ],
          [
           "Montebello",
           "CA",
           "Clear"
          ],
          [
           "York",
           "SC",
           "Fair"
          ],
          [
           "Ronkonkoma",
           "NY",
           "Mostly Cloudy"
          ],
          [
           "McArthur",
           "CA",
           "Fog"
          ],
          [
           "Tillamook",
           "OR",
           "Fair"
          ],
          [
           "Cheyenne",
           "WY",
           "Fair / Windy"
          ],
          [
           "Pioneer",
           "CA",
           "Clear"
          ],
          [
           "Lincoln",
           "RI",
           "Partly Cloudy"
          ],
          [
           "Atlanta",
           "GA",
           "Fair"
          ],
          [
           "Baton Rouge",
           "LA",
           "Clear"
          ],
          [
           "Charlotte",
           "NC",
           "Mostly Cloudy"
          ],
          [
           "Raleigh",
           "NC",
           "Mostly Cloudy"
          ],
          [
           "Farmington",
           "UT",
           "N/A Precipitation"
          ],
          [
           "Bronx",
           "NY",
           "Mostly Cloudy"
          ],
          [
           "Hollywood",
           "FL",
           "Partly Cloudy"
          ],
          [
           "San Diego",
           "CA",
           "Mostly Cloudy"
          ],
          [
           "Baton Rouge",
           "LA",
           "Mostly Cloudy"
          ],
          [
           "Pelham",
           "NY",
           "Fair"
          ],
          [
           "Louisville",
           "KY",
           "Clear"
          ],
          [
           "Jurupa Valley",
           "CA",
           "Fair"
          ],
          [
           "Ephrata",
           "PA",
           "Fair"
          ],
          [
           "Helendale",
           "CA",
           "Fair"
          ],
          [
           "Raleigh",
           "NC",
           "Mostly Cloudy"
          ],
          [
           "Beltsville",
           "MD",
           "Mostly Cloudy"
          ],
          [
           "Port Saint Lucie",
           "FL",
           "Partly Cloudy"
          ],
          [
           "Brewster",
           "NY",
           "Mostly Cloudy"
          ],
          [
           "Summerville",
           "SC",
           "Cloudy"
          ],
          [
           "Murrieta",
           "CA",
           "Clear"
          ],
          [
           "Forest Hills",
           "NY",
           "Mostly Cloudy"
          ],
          [
           "Lodi",
           "CA",
           "Rain"
          ],
          [
           "San Dimas",
           "CA",
           "Clear"
          ],
          [
           "Stevens Point",
           "WI",
           "Cloudy"
          ],
          [
           "Warrenville",
           "IL",
           "Fair"
          ],
          [
           "Orange",
           "CA",
           "Mostly Cloudy"
          ],
          [
           "New Orleans",
           "LA",
           "Fair"
          ],
          [
           "Los Angeles",
           "CA",
           "Overcast"
          ],
          [
           "Orlando",
           "FL",
           "Fair"
          ],
          [
           "Charlottesville",
           "VA",
           "Light Rain"
          ],
          [
           "Hayward",
           "CA",
           "Clear"
          ],
          [
           "Miami",
           "FL",
           "Mostly Cloudy"
          ],
          [
           "Fort Worth",
           "TX",
           "Overcast"
          ],
          [
           "Inver Grove Heights",
           "MN",
           "Mostly Cloudy"
          ],
          [
           "Greer",
           "SC",
           "Fair"
          ],
          [
           "Orange",
           "CA",
           "Light Rain"
          ],
          [
           "Gardena",
           "CA",
           "Haze"
          ],
          [
           "Miami",
           "FL",
           "Partly Cloudy"
          ],
          [
           "San Bruno",
           "CA",
           "Mostly Cloudy"
          ],
          [
           "Vancouver",
           "WA",
           "Partly Cloudy"
          ],
          [
           "Minneapolis",
           "MN",
           "Light Rain"
          ],
          [
           "Fort Myers",
           "FL",
           "Fair"
          ],
          [
           "Greenville",
           "SC",
           null
          ],
          [
           "Delhi",
           "CA",
           "Cloudy"
          ],
          [
           "Jacksonville",
           "FL",
           "Clear"
          ],
          [
           "Greer",
           "SC",
           "Fair"
          ],
          [
           "Los Angeles",
           "CA",
           "Fair"
          ],
          [
           "North Fort Myers",
           "FL",
           "Clear"
          ],
          [
           "West Columbia",
           "SC",
           "Fair"
          ],
          [
           "Wheaton",
           "IL",
           "Fair"
          ],
          [
           "Los Angeles",
           "CA",
           "Fair"
          ],
          [
           "Belton",
           "SC",
           "Mostly Cloudy"
          ],
          [
           "Georgetown",
           "SC",
           "Fair"
          ],
          [
           "Richmond",
           "VA",
           "Scattered Clouds"
          ],
          [
           "Huron",
           "CA",
           "Fair"
          ],
          [
           "Raleigh",
           "NC",
           "Partly Cloudy"
          ],
          [
           "Scottsdale",
           "AZ",
           "Fair"
          ],
          [
           "Carson",
           "CA",
           "Fair"
          ],
          [
           "Westminster",
           "CA",
           "Clear"
          ],
          [
           "Marietta",
           "GA",
           "Mostly Cloudy"
          ],
          [
           "Philadelphia",
           "PA",
           "Overcast"
          ],
          [
           "Culver City",
           "CA",
           "Fair"
          ],
          [
           "Delaware",
           "OH",
           "Fair"
          ],
          [
           "Gardena",
           "CA",
           "Cloudy"
          ],
          [
           "San Diego",
           "CA",
           "Fair"
          ],
          [
           "Indianapolis",
           "IN",
           "Cloudy"
          ],
          [
           "Los Angeles",
           "CA",
           "Fair"
          ],
          [
           "Syracuse",
           "NY",
           "Light Freezing Drizzle"
          ],
          [
           "Omaha",
           "NE",
           "Cloudy"
          ],
          [
           "Murrells Inlet",
           "SC",
           "Mostly Cloudy"
          ],
          [
           "Arcadia",
           "FL",
           "Fair"
          ],
          [
           "Saint Petersburg",
           "FL",
           "Clear"
          ],
          [
           "Louisville",
           "KY",
           "Heavy Rain"
          ],
          [
           "San Bernardino",
           "CA",
           "Mostly Cloudy"
          ],
          [
           "Hacienda Heights",
           "CA",
           "Partly Cloudy"
          ],
          [
           "Bronx",
           "NY",
           "Partly Cloudy"
          ],
          [
           "Chicago",
           "IL",
           "Mostly Cloudy"
          ],
          [
           "Sewickley",
           "PA",
           "Cloudy"
          ],
          [
           "Duarte",
           "CA",
           "Partly Cloudy"
          ],
          [
           "Leland",
           "NC",
           "Light Rain"
          ],
          [
           "San Francisco",
           "CA",
           "Mostly Cloudy"
          ],
          [
           "Dupo",
           "IL",
           "Mostly Cloudy"
          ],
          [
           "Petaluma",
           "CA",
           "Fair"
          ],
          [
           "Davenport",
           "FL",
           "Mostly Cloudy"
          ],
          [
           "Tracy",
           "CA",
           "Fair"
          ],
          [
           "Belton",
           "SC",
           "Cloudy"
          ],
          [
           "Chapin",
           "SC",
           "Overcast"
          ],
          [
           "Tulsa",
           "OK",
           "Clear"
          ],
          [
           "Phoenix",
           "AZ",
           "Mostly Cloudy"
          ],
          [
           "Grand Rapids",
           "MI",
           "Light Snow"
          ],
          [
           "Pomona",
           "CA",
           "Fair"
          ],
          [
           "Charlotte",
           "NC",
           "Fair"
          ],
          [
           "Austin",
           "TX",
           "Clear"
          ],
          [
           "La Jolla",
           "CA",
           "Fair"
          ],
          [
           "Tucson",
           "AZ",
           "Fair"
          ],
          [
           "Peoria",
           "AZ",
           "Cloudy"
          ],
          [
           "Addison",
           "IL",
           "Mostly Cloudy"
          ],
          [
           "East Brunswick",
           "NJ",
           "Mostly Cloudy / Windy"
          ],
          [
           "Chicago",
           "IL",
           "Mostly Cloudy"
          ],
          [
           "Tucson",
           "AZ",
           "Fair"
          ],
          [
           "Oklahoma City",
           "OK",
           "Fair"
          ],
          [
           "Hawthorne",
           "CA",
           "Scattered Clouds"
          ],
          [
           "Crossville",
           "TN",
           "Cloudy"
          ],
          [
           "Kansas City",
           "MO",
           "Cloudy"
          ],
          [
           "Minneapolis",
           "MN",
           "Light Snow"
          ],
          [
           "Ashburn",
           "VA",
           "Overcast"
          ],
          [
           "Minneapolis",
           "MN",
           "Fair"
          ],
          [
           "Thonotosassa",
           "FL",
           "Scattered Clouds"
          ],
          [
           "Charlotte",
           "NC",
           "Fair"
          ],
          [
           "Garner",
           "NC",
           "Heavy Snow"
          ],
          [
           "Belton",
           "SC",
           "Light Rain"
          ],
          [
           "Silvis",
           "IL",
           "Cloudy"
          ],
          [
           "Charlotte",
           "NC",
           "Fair"
          ],
          [
           "Sanford",
           "FL",
           "Fair"
          ],
          [
           "San Antonio",
           "TX",
           "Partly Cloudy"
          ],
          [
           "Arrington",
           "TN",
           "Mostly Cloudy"
          ],
          [
           "Sherman Oaks",
           "CA",
           "Fair"
          ],
          [
           "Lexington",
           "KY",
           "Scattered Clouds"
          ],
          [
           "Gresham",
           "SC",
           "Cloudy"
          ],
          [
           "Sunny Isles Beach",
           "FL",
           "Fair"
          ],
          [
           "Dallas",
           "TX",
           "Fair"
          ],
          [
           "Austin",
           "TX",
           "Cloudy"
          ],
          [
           "San Diego",
           "CA",
           "Mostly Cloudy"
          ],
          [
           "Dallas",
           "TX",
           "Fair"
          ],
          [
           "Martinez",
           "CA",
           "Fair"
          ],
          [
           "Daly City",
           "CA",
           "Mostly Cloudy"
          ],
          [
           "Artesia",
           "CA",
           "Clear"
          ],
          [
           "Johnsonburg",
           "PA",
           "Cloudy"
          ],
          [
           "South San Francisco",
           "CA",
           "Fair"
          ],
          [
           "Houston",
           "TX",
           "Mostly Cloudy"
          ],
          [
           "Hattiesburg",
           "MS",
           "Clear"
          ],
          [
           "Livermore",
           "CA",
           "Fair"
          ],
          [
           "Birmingham",
           "AL",
           "Overcast"
          ],
          [
           "Burlington",
           "NJ",
           "Wintry Mix"
          ],
          [
           "Antelope",
           "CA",
           "Fair"
          ],
          [
           "Carlsbad",
           "CA",
           "Fair"
          ],
          [
           "Lyndhurst",
           "VA",
           "T-Storm"
          ],
          [
           "Raleigh",
           "NC",
           "Overcast"
          ],
          [
           "Linden",
           "NJ",
           "Fair"
          ],
          [
           "Hot Springs",
           "VA",
           "Fair"
          ],
          [
           "Los Angeles",
           "CA",
           "Fair"
          ],
          [
           "Salt Lake City",
           "UT",
           "Clear"
          ],
          [
           "Deerfield Beach",
           "FL",
           "Heavy T-Storm / Windy"
          ],
          [
           "San Diego",
           "CA",
           "Mostly Cloudy"
          ],
          [
           "Los Angeles",
           "CA",
           "Fair"
          ],
          [
           "San Antonio",
           "TX",
           "Partly Cloudy"
          ],
          [
           "Miami",
           "FL",
           "Fair"
          ],
          [
           "Charlotte",
           "NC",
           "Scattered Clouds"
          ],
          [
           "Henrico",
           "VA",
           "Clear"
          ],
          [
           "Malverne",
           "NY",
           "Light Rain"
          ],
          [
           "Irvine",
           "CA",
           "Fair"
          ],
          [
           "Orlando",
           "FL",
           "Overcast"
          ],
          [
           "Amelia Court House",
           "VA",
           "Fair"
          ],
          [
           "Wendell",
           "NC",
           "Fair"
          ],
          [
           "Willcox",
           "AZ",
           "Clear"
          ],
          [
           "South Ozone Park",
           "NY",
           "Mostly Cloudy"
          ],
          [
           "San Jose",
           "CA",
           "Partly Cloudy"
          ],
          [
           "Miami",
           "FL",
           "Partly Cloudy"
          ],
          [
           "Long Beach",
           "CA",
           "Partly Cloudy"
          ],
          [
           "Charlotte",
           "NC",
           "Clear"
          ],
          [
           "Tampa",
           "FL",
           "Fair"
          ],
          [
           "North Haven",
           "CT",
           "Partly Cloudy"
          ],
          [
           "Miami",
           "FL",
           "Partly Cloudy"
          ],
          [
           "Rialto",
           "CA",
           "Fair"
          ],
          [
           "Lost Hills",
           "CA",
           "Fair"
          ],
          [
           "Cincinnati",
           "OH",
           "Light Rain"
          ],
          [
           "North Hills",
           "CA",
           "Fair"
          ],
          [
           "Grand Rapids",
           "MI",
           "Light Rain"
          ],
          [
           "Latta",
           "SC",
           "Light Drizzle"
          ],
          [
           "Beech Island",
           "SC",
           "Clear"
          ],
          [
           "Roseville",
           "MI",
           "Overcast"
          ],
          [
           "Houston",
           "TX",
           "Fair"
          ],
          [
           "Oklahoma City",
           "OK",
           "Mostly Cloudy"
          ],
          [
           "Eagle",
           "ID",
           "Fair"
          ],
          [
           "Nashville",
           "TN",
           "Mostly Cloudy"
          ],
          [
           "Lynwood",
           "CA",
           "Fair"
          ],
          [
           "Shinglehouse",
           "PA",
           "Mostly Cloudy"
          ],
          [
           "Westlake Village",
           "CA",
           "Fair"
          ],
          [
           "Dragoon",
           "AZ",
           "Clear"
          ],
          [
           "Columbia",
           "SC",
           "Fair"
          ],
          [
           "San Diego",
           "CA",
           "Cloudy"
          ],
          [
           "Tanner",
           "AL",
           "Cloudy"
          ],
          [
           "Chantilly",
           "VA",
           "Fair"
          ],
          [
           "North Hills",
           "CA",
           "Clear"
          ],
          [
           "Downers Grove",
           "IL",
           "Light Drizzle"
          ],
          [
           "Chowchilla",
           "CA",
           "Light Rain"
          ],
          [
           "Faribault",
           "MN",
           "Light Snow"
          ],
          [
           "Detroit",
           "MI",
           "Cloudy"
          ],
          [
           "Spanish Fork",
           "UT",
           "Mostly Cloudy"
          ],
          [
           "Clarksville",
           "IN",
           "Fair"
          ],
          [
           "Snohomish",
           "WA",
           "Light Rain"
          ],
          [
           "Osprey",
           "FL",
           "Cloudy"
          ],
          [
           "Abingdon",
           "VA",
           "Mostly Cloudy"
          ],
          [
           "Houston",
           "TX",
           "Heavy Rain / Windy"
          ],
          [
           "Clanton",
           "AL",
           "Overcast"
          ],
          [
           "Old Lyme",
           "CT",
           "Cloudy"
          ],
          [
           "Fillmore",
           "CA",
           "Fair"
          ],
          [
           "Los Angeles",
           "CA",
           "Light Rain"
          ],
          [
           "Milton",
           "FL",
           "Mostly Cloudy"
          ],
          [
           "Ridgefield",
           "NJ",
           "Mostly Cloudy"
          ],
          [
           "Roxbury",
           "MA",
           "Scattered Clouds"
          ],
          [
           "Walnut Creek",
           "CA",
           "Fair"
          ],
          [
           "Middleburg",
           "FL",
           "Fair"
          ],
          [
           "Washington",
           "DC",
           "Fair"
          ],
          [
           "Tempe",
           "AZ",
           "Fair"
          ],
          [
           "Atlanta",
           "GA",
           "Fog"
          ],
          [
           "West Chester",
           "PA",
           "Mostly Cloudy / Windy"
          ],
          [
           "Spokane",
           "WA",
           "Clear"
          ],
          [
           "Homestead",
           "FL",
           "Fair"
          ],
          [
           "Azusa",
           "CA",
           "Fair"
          ],
          [
           "Clearfield",
           "PA",
           "Overcast"
          ],
          [
           "Riverview",
           "FL",
           "Cloudy"
          ],
          [
           "Dayton",
           "OH",
           "Mostly Cloudy"
          ],
          [
           "Atlantic City",
           "NJ",
           "Fair"
          ],
          [
           "Saint Paul",
           "MN",
           "Cloudy"
          ],
          [
           "Miami",
           "FL",
           "Overcast"
          ],
          [
           "Miami",
           "FL",
           "Overcast"
          ],
          [
           "Portland",
           "OR",
           "Fog"
          ],
          [
           "Kansas City",
           "MO",
           "Cloudy"
          ],
          [
           "Bala Cynwyd",
           "PA",
           "Light Rain"
          ],
          [
           "Columbus",
           "GA",
           "Mostly Cloudy"
          ],
          [
           "Nashville",
           "TN",
           "Cloudy"
          ],
          [
           "Corona",
           "CA",
           "Fair / Windy"
          ],
          [
           "Spearville",
           "KS",
           "Fair"
          ],
          [
           "Newhall",
           "CA",
           "Fair"
          ],
          [
           "Miami",
           "FL",
           null
          ],
          [
           "Jacksonville",
           "FL",
           "Light Rain with Thunder"
          ],
          [
           "Louisville",
           "KY",
           "Fair / Windy"
          ],
          [
           "Homestead",
           "FL",
           "Light Rain"
          ],
          [
           "Phoenix",
           "AZ",
           "Fair"
          ],
          [
           "Charlotte",
           "NC",
           "Scattered Clouds"
          ],
          [
           "Providence",
           "RI",
           "Mostly Cloudy"
          ],
          [
           "Salt Lake City",
           "UT",
           "Cloudy"
          ],
          [
           "San Diego",
           "CA",
           "Fair"
          ],
          [
           "Pittsburgh",
           "PA",
           "Fair"
          ],
          [
           "Houston",
           "TX",
           "Cloudy"
          ],
          [
           "Clifton Park",
           "NY",
           "Light Snow"
          ],
          [
           "Tulsa",
           "OK",
           "Mostly Cloudy"
          ],
          [
           "Grand Haven",
           "MI",
           "Cloudy"
          ],
          [
           "Charlotte",
           "NC",
           "Fair"
          ],
          [
           "Clinton",
           "SC",
           "Fair"
          ],
          [
           "San Jose",
           "CA",
           "Partly Cloudy"
          ],
          [
           "Farmington",
           "MI",
           "Clear"
          ],
          [
           "Greenville",
           "SC",
           "Fair"
          ],
          [
           "Sagaponack",
           "NY",
           null
          ],
          [
           "Phoenix",
           "AZ",
           "Fair"
          ],
          [
           "Fort Mill",
           "SC",
           "Partly Cloudy"
          ],
          [
           "Gulfport",
           "MS",
           "Light Rain"
          ],
          [
           "Baton Rouge",
           "LA",
           "Cloudy"
          ],
          [
           "Raleigh",
           "NC",
           "Partly Cloudy"
          ],
          [
           "Minneapolis",
           "MN",
           "Clear"
          ],
          [
           "Lakewood",
           "CA",
           "Clear"
          ],
          [
           "Travelers Rest",
           "SC",
           "Fair"
          ],
          [
           "Afton",
           "VA",
           "Fair"
          ],
          [
           "Canyon Country",
           "CA",
           "Mostly Cloudy"
          ],
          [
           "Phoenix",
           "AZ",
           "Fair"
          ],
          [
           "Phoenix",
           "AZ",
           "Mostly Cloudy"
          ],
          [
           "Taylors",
           "SC",
           "Rain"
          ],
          [
           "Lulu",
           "FL",
           "Fair"
          ],
          [
           "Sherman Oaks",
           "CA",
           "Mostly Cloudy"
          ],
          [
           "Bethesda",
           "MD",
           "Rain"
          ],
          [
           "Fort Worth",
           "TX",
           "Heavy Thunderstorms and Rain"
          ],
          [
           "Encinitas",
           "CA",
           "Fair"
          ],
          [
           "Raleigh",
           "NC",
           "Cloudy"
          ],
          [
           "South Beach",
           "OR",
           "Overcast"
          ],
          [
           "Greenville",
           "SC",
           "Clear"
          ],
          [
           "Shreveport",
           "LA",
           "Fair"
          ],
          [
           "Montclair",
           "CA",
           "Fair"
          ],
          [
           "North Fort Myers",
           "FL",
           "Cloudy"
          ],
          [
           "Miami",
           "FL",
           "Mostly Cloudy"
          ],
          [
           "Englewood",
           "NJ",
           "Thunder in the Vicinity"
          ],
          [
           "Clancy",
           "MT",
           "Light Snow"
          ],
          [
           "Nashville",
           "TN",
           "Overcast"
          ],
          [
           "Raleigh",
           "NC",
           "Fair"
          ],
          [
           "Reno",
           "NV",
           "Fair"
          ],
          [
           "Greenville",
           "TX",
           "Clear"
          ],
          [
           "Clanton",
           "AL",
           "Mostly Cloudy"
          ],
          [
           "Miami",
           "FL",
           "Fair"
          ],
          [
           "Taylors",
           "SC",
           "Mostly Cloudy"
          ],
          [
           "Baton Rouge",
           "LA",
           "Fair"
          ],
          [
           "Okatie",
           "SC",
           "Fair"
          ],
          [
           "Portland",
           "OR",
           "Cloudy"
          ],
          [
           "Arlington",
           "VA",
           "Fair"
          ],
          [
           "Rosemount",
           "MN",
           "Fair"
          ],
          [
           "Roanoke",
           "VA",
           "Fair"
          ],
          [
           "Penrose",
           "CO",
           "Overcast"
          ],
          [
           "Lindenhurst",
           "NY",
           "Fair"
          ],
          [
           "Phoenix",
           "AZ",
           "Cloudy"
          ],
          [
           "Pomona",
           "CA",
           "Mostly Cloudy"
          ],
          [
           "Rochester",
           "NY",
           "Overcast"
          ],
          [
           "Baton Rouge",
           "LA",
           "Scattered Clouds"
          ],
          [
           "Newberry",
           "SC",
           "Clear"
          ],
          [
           "Gardner",
           "KS",
           "Light Snow"
          ],
          [
           "Charlotte",
           "NC",
           "Cloudy"
          ],
          [
           "Swartz Creek",
           "MI",
           "Cloudy"
          ],
          [
           "San Bernardino",
           "CA",
           "Clear"
          ],
          [
           "Manassas",
           "VA",
           "Fair"
          ],
          [
           "Saint Louis",
           "MO",
           "Light Rain"
          ],
          [
           "Fort Myers",
           "FL",
           "Partly Cloudy"
          ],
          [
           "San Antonio",
           "TX",
           "Light Rain"
          ],
          [
           "Windham",
           "NH",
           "Cloudy"
          ],
          [
           "Holly Springs",
           "NC",
           "Mostly Cloudy"
          ],
          [
           "Nashville",
           "TN",
           "Mostly Cloudy"
          ],
          [
           "Antelope",
           "CA",
           "Fair"
          ],
          [
           "Miami",
           "FL",
           "Fair"
          ],
          [
           "Dallas",
           "TX",
           "Partly Cloudy"
          ],
          [
           "Rancho Santa Fe",
           "CA",
           "Fair"
          ],
          [
           "Grand Rapids",
           "MI",
           "Cloudy"
          ],
          [
           "Bronx",
           "NY",
           "Mostly Cloudy"
          ],
          [
           "El Paso",
           "TX",
           "Fair"
          ],
          [
           "DeLand",
           "FL",
           "Light Rain"
          ],
          [
           "Colton",
           "CA",
           "Clear"
          ],
          [
           "Roy",
           "UT",
           "Light Rain"
          ],
          [
           "Los Angeles",
           "CA",
           "Clear"
          ],
          [
           "Baton Rouge",
           "LA",
           "Fair"
          ],
          [
           "Marcus Hook",
           "PA",
           "Mostly Cloudy"
          ],
          [
           "New York",
           "NY",
           "Light Snow"
          ],
          [
           "Corona",
           "CA",
           "Fair"
          ],
          [
           "Nashville",
           "TN",
           "Partly Cloudy"
          ],
          [
           "Pima",
           "AZ",
           "Fair"
          ],
          [
           "Atlanta",
           "GA",
           "Light Rain"
          ],
          [
           "El Monte",
           "CA",
           "Fair"
          ],
          [
           "Arvin",
           "CA",
           "Fair"
          ],
          [
           "Castroville",
           "CA",
           "Fair"
          ],
          [
           "Dallas",
           "TX",
           "Mostly Cloudy"
          ],
          [
           "Atlanta",
           "GA",
           "Fair"
          ],
          [
           "Dayton",
           "OH",
           "Cloudy"
          ],
          [
           "Miami",
           "FL",
           "Fair"
          ],
          [
           "Saint Petersburg",
           "FL",
           "Clear"
          ],
          [
           "Harrisburg",
           "PA",
           "Mostly Cloudy"
          ],
          [
           "Gardena",
           "CA",
           "Cloudy"
          ],
          [
           "East Lansing",
           "MI",
           "Partly Cloudy"
          ],
          [
           "Raleigh",
           "NC",
           "Partly Cloudy"
          ],
          [
           "Birmingham",
           "AL",
           "Cloudy"
          ],
          [
           "Saint Petersburg",
           "FL",
           "Clear"
          ],
          [
           "Highland Park",
           "IL",
           "Clear"
          ],
          [
           "Plymouth",
           "MI",
           "Overcast"
          ],
          [
           "Orlando",
           "FL",
           "Cloudy"
          ],
          [
           "Coalinga",
           "CA",
           "Fair"
          ],
          [
           "Madison",
           "TN",
           "Cloudy"
          ],
          [
           "Lynnwood",
           "WA",
           "Fair"
          ],
          [
           "Charleston",
           "WV",
           "Fog"
          ],
          [
           "Chiloquin",
           "OR",
           "Overcast"
          ],
          [
           "Medford",
           "OR",
           "Partly Cloudy"
          ],
          [
           "Falls Church",
           "VA",
           "Clear"
          ],
          [
           "Chula Vista",
           "CA",
           "Partly Cloudy"
          ],
          [
           "Faribault",
           "MN",
           "Cloudy"
          ],
          [
           "Santa Cruz",
           "CA",
           "Fair"
          ],
          [
           "York",
           "PA",
           "Fair"
          ],
          [
           "Los Angeles",
           "CA",
           "Overcast"
          ],
          [
           "Rock Hill",
           "SC",
           "Clear"
          ],
          [
           "Hagerstown",
           "MD",
           "Fair"
          ],
          [
           "Effingham",
           "SC",
           "Fair"
          ],
          [
           "Charlotte",
           "NC",
           "Mostly Cloudy"
          ],
          [
           "Riverside",
           "CA",
           "Fair"
          ],
          [
           "Round Rock",
           "TX",
           "Fair"
          ],
          [
           "Marlton",
           "NJ",
           "Clear"
          ],
          [
           "Yuba City",
           "CA",
           "Fair"
          ],
          [
           "Mount Ephraim",
           "NJ",
           "Partly Cloudy"
          ],
          [
           "Mount Angel",
           "OR",
           "Cloudy"
          ],
          [
           "Bellows Falls",
           "VT",
           "Clear"
          ],
          [
           "Miami",
           "FL",
           "Partly Cloudy"
          ],
          [
           "Miami",
           "FL",
           "Cloudy"
          ],
          [
           "Newville",
           "PA",
           "Cloudy"
          ],
          [
           "Long Beach",
           "CA",
           "Fair"
          ],
          [
           "Salt Lake City",
           "UT",
           "Partly Cloudy"
          ],
          [
           "Kissimmee",
           "FL",
           "Fair"
          ],
          [
           "Newport News",
           "VA",
           "Partly Cloudy"
          ],
          [
           "Littleton",
           "CO",
           "Fair"
          ],
          [
           "Holt",
           "FL",
           "Fair"
          ],
          [
           "Kissimmee",
           "FL",
           "Clear"
          ],
          [
           "Phoenix",
           "AZ",
           "Mostly Cloudy"
          ],
          [
           "Decatur",
           "GA",
           "Rain"
          ],
          [
           "Austin",
           "TX",
           "Overcast"
          ],
          [
           "Hoffman Estates",
           "IL",
           "Partly Cloudy"
          ],
          [
           "Old Saybrook",
           "CT",
           "Fair"
          ],
          [
           "Addison",
           "PA",
           "Fair"
          ],
          [
           "Riverview",
           "FL",
           "Fair"
          ],
          [
           "Oklahoma City",
           "OK",
           "Clear"
          ],
          [
           "Philadelphia",
           "PA",
           "Light Rain"
          ],
          [
           "Englewood",
           "CO",
           "Fair"
          ],
          [
           "Inman",
           "SC",
           "Fair"
          ],
          [
           "San Pablo",
           "CA",
           "Fair"
          ],
          [
           "Elmhurst",
           "IL",
           "Clear"
          ],
          [
           "Live Oak",
           "FL",
           "Scattered Clouds"
          ],
          [
           "Grove City",
           "OH",
           "Overcast"
          ],
          [
           "Chattanooga",
           "TN",
           "Light Snow"
          ],
          [
           "Sumner",
           "WA",
           "Cloudy"
          ],
          [
           "Houston",
           "TX",
           "Mostly Cloudy"
          ],
          [
           "Spring Creek",
           "NV",
           "Partly Cloudy"
          ],
          [
           "Andrews Air Force Base",
           "MD",
           "Scattered Clouds"
          ],
          [
           "Livermore",
           "CA",
           "Clear"
          ],
          [
           "Kansas City",
           "MO",
           "Fair"
          ],
          [
           "Denver",
           "CO",
           "Mostly Cloudy"
          ],
          [
           "Sedona",
           "AZ",
           "Light Rain"
          ],
          [
           "Miami",
           "FL",
           "Cloudy"
          ],
          [
           "Pomona",
           "CA",
           "Clear"
          ],
          [
           "West Palm Beach",
           "FL",
           "Partly Cloudy"
          ],
          [
           "Inglewood",
           "CA",
           "Fair"
          ],
          [
           "Houston",
           "TX",
           "Light Rain"
          ],
          [
           "Saint Petersburg",
           "FL",
           "Clear"
          ],
          [
           "Hazelwood",
           "MO",
           "Cloudy"
          ],
          [
           "Charlotte",
           "NC",
           "Scattered Clouds"
          ],
          [
           "Homestead",
           "FL",
           "Fair"
          ],
          [
           "Long Beach",
           "CA",
           "Clear"
          ],
          [
           "Miami",
           "FL",
           null
          ],
          [
           "Omaha",
           "NE",
           "Partly Cloudy"
          ],
          [
           "Hector",
           "MN",
           "Mostly Cloudy"
          ],
          [
           "Dearborn",
           "MI",
           "Clear"
          ],
          [
           "Seattle",
           "WA",
           "Overcast"
          ],
          [
           "Buffalo",
           "NY",
           "Fair"
          ],
          [
           "Metairie",
           "LA",
           "Mostly Cloudy"
          ],
          [
           "Broomall",
           "PA",
           "Mostly Cloudy"
          ],
          [
           "Lexington",
           "SC",
           "Fair"
          ],
          [
           "Littleton",
           "MA",
           "Light Rain"
          ],
          [
           "Upper Merion",
           "PA",
           "Cloudy"
          ],
          [
           "Lake Elsinore",
           "CA",
           "Fair"
          ],
          [
           "San Bernardino",
           "CA",
           "Fair"
          ],
          [
           "Citrus Heights",
           "CA",
           "Fair"
          ],
          [
           "Milford",
           "NE",
           "Light Snow"
          ],
          [
           "Hoopa",
           "CA",
           "Cloudy"
          ],
          [
           "Houston",
           "TX",
           "Fair"
          ],
          [
           "Houston",
           "TX",
           "Clear"
          ],
          [
           "Jordan Valley",
           "OR",
           "Mostly Cloudy"
          ],
          [
           "Raleigh",
           "NC",
           "Clear"
          ],
          [
           "Lincoln Park",
           "MI",
           "Cloudy"
          ],
          [
           "Los Angeles",
           "CA",
           "Fair"
          ],
          [
           "Pittsville",
           "MD",
           "Mostly Cloudy"
          ],
          [
           "Pasadena",
           "CA",
           null
          ],
          [
           "High Ridge",
           "MO",
           "Clear"
          ],
          [
           "Summerland",
           "CA",
           "Fair"
          ],
          [
           "Shasta Lake",
           "CA",
           "Fog"
          ],
          [
           "Atlanta",
           "GA",
           "Mostly Cloudy"
          ],
          [
           "Tooele",
           "UT",
           "Haze"
          ],
          [
           "Torrance",
           "CA",
           "Fair"
          ],
          [
           "Austin",
           "TX",
           "Fair"
          ],
          [
           "Detroit",
           "MI",
           "Clear"
          ],
          [
           "Richmond",
           "IN",
           "Overcast"
          ],
          [
           "Kinards",
           "SC",
           "Fair"
          ],
          [
           "Crawfordville",
           "FL",
           "Cloudy"
          ],
          [
           "Rancho Cucamonga",
           "CA",
           "Haze"
          ],
          [
           "Windsor",
           "CT",
           "Fair"
          ],
          [
           "Charlotte",
           "NC",
           "Partly Cloudy"
          ],
          [
           "Rockledge",
           "FL",
           "Clear"
          ],
          [
           "Sacramento",
           "CA",
           "Clear"
          ],
          [
           "Gurnee",
           "IL",
           "Fair"
          ],
          [
           "Pensacola",
           "FL",
           "Clear"
          ],
          [
           "Carson",
           "CA",
           "Fair"
          ],
          [
           "Fairport",
           "NY",
           "Fair"
          ],
          [
           "Elk Grove",
           "CA",
           "Fair"
          ],
          [
           "Vancouver",
           "WA",
           "Mostly Cloudy"
          ],
          [
           "Santa Barbara",
           "CA",
           "Fair"
          ],
          [
           "Tulsa",
           "OK",
           "Fair"
          ],
          [
           "Columbus",
           "OH",
           "Cloudy"
          ],
          [
           "Houston",
           "TX",
           "Mostly Cloudy"
          ],
          [
           "Indianapolis",
           "IN",
           "Clear"
          ],
          [
           "Gaston",
           "SC",
           "Partly Cloudy"
          ],
          [
           "Baton Rouge",
           "LA",
           "Fair"
          ],
          [
           "Los Angeles",
           "CA",
           "Fair"
          ],
          [
           "Spartanburg",
           "SC",
           "Clear"
          ],
          [
           "Maywood",
           "IL",
           "Mostly Cloudy"
          ],
          [
           "Arcadia",
           "CA",
           "Clear"
          ],
          [
           "Homestead",
           "FL",
           "Light Rain"
          ],
          [
           "San Simon",
           "AZ",
           "Mostly Cloudy"
          ],
          [
           "Lafayette",
           "LA",
           "Clear"
          ],
          [
           "Midvale",
           "UT",
           "Clear"
          ],
          [
           "Waukesha",
           "WI",
           "Fair"
          ],
          [
           "Louisville",
           "KY",
           "Clear"
          ],
          [
           "Pittsburgh",
           "PA",
           "Fair"
          ],
          [
           "Palm City",
           "FL",
           "Fair"
          ],
          [
           "Alamo",
           "NV",
           "Fair"
          ],
          [
           "Nevis",
           "MN",
           "Fair"
          ],
          [
           "Los Angeles",
           "CA",
           "Clear"
          ],
          [
           "Northport",
           "AL",
           "Cloudy"
          ],
          [
           "Lynn Haven",
           "FL",
           null
          ],
          [
           "Richmond",
           "VA",
           "Scattered Clouds"
          ],
          [
           "Campobello",
           "SC",
           "Cloudy"
          ],
          [
           "Suffolk",
           "VA",
           "Fair"
          ],
          [
           "Pensacola",
           "FL",
           "Fair"
          ],
          [
           "Sun City",
           "AZ",
           "Fair"
          ],
          [
           "Bakersfield",
           "CA",
           "Fair"
          ],
          [
           "Portland",
           "OR",
           "Fair"
          ],
          [
           "Seal Beach",
           "CA",
           "Clear"
          ],
          [
           "Los Angeles",
           "CA",
           "Clear"
          ],
          [
           "Nathalie",
           "VA",
           "Fair"
          ],
          [
           "Columbia",
           "SC",
           "Cloudy"
          ],
          [
           "Atlanta",
           "GA",
           "Fair"
          ],
          [
           "Van Nuys",
           "CA",
           "Fair"
          ],
          [
           "Marlborough",
           "NH",
           "Fair"
          ],
          [
           "Richmond",
           "VA",
           "Light Rain"
          ],
          [
           "Fort Worth",
           "TX",
           "Clear"
          ],
          [
           "Redding",
           "CA",
           "Fair"
          ],
          [
           "Miami",
           "FL",
           "Clear"
          ],
          [
           "Napa",
           "CA",
           "Fair"
          ],
          [
           "San Jose",
           "CA",
           "Clear"
          ],
          [
           "Miami",
           "FL",
           "Light Rain"
          ],
          [
           "Staten Island",
           "NY",
           "Overcast"
          ],
          [
           "Fremont",
           "CA",
           null
          ],
          [
           "Charlotte",
           "NC",
           "Fair"
          ],
          [
           "Nashville",
           "TN",
           "Mostly Cloudy"
          ],
          [
           "Woodland",
           "WA",
           "Fair"
          ],
          [
           "Osseo",
           "MN",
           "Rain"
          ],
          [
           "Costa Mesa",
           "CA",
           "Overcast"
          ],
          [
           "Houston",
           "TX",
           "Thunder in the Vicinity"
          ],
          [
           "Springfield",
           "OH",
           "Fog"
          ],
          [
           "Mansfield",
           "OH",
           "Light Snow"
          ],
          [
           "Bakersfield",
           "CA",
           "Fair"
          ],
          [
           "Palmdale",
           "CA",
           "Cloudy"
          ],
          [
           "Independence",
           "KY",
           "Partly Cloudy"
          ],
          [
           "Orlando",
           "FL",
           "Fair"
          ],
          [
           "Wilmette",
           "IL",
           "Fair"
          ],
          [
           "Georgetown",
           "SC",
           "Partly Cloudy"
          ],
          [
           "Lebec",
           "CA",
           "Fair / Windy"
          ],
          [
           "Austin",
           "TX",
           "Cloudy / Windy"
          ],
          [
           "San Jose",
           "CA",
           "Clear"
          ],
          [
           "Louisville",
           "KY",
           "Fair"
          ],
          [
           "Montgomery",
           "MN",
           "Cloudy"
          ],
          [
           "Hayward",
           "CA",
           "Fair"
          ],
          [
           "Elkridge",
           "MD",
           "Mostly Cloudy"
          ],
          [
           "Pemberton",
           "MN",
           "Mostly Cloudy / Windy"
          ],
          [
           "Bakersfield",
           "CA",
           "Fair"
          ],
          [
           "Bel Air",
           "MD",
           "Partly Cloudy"
          ],
          [
           "Davenport",
           "IA",
           "Partly Cloudy"
          ],
          [
           "Charlotte",
           "NC",
           "Light Rain"
          ],
          [
           "Atlanta",
           "GA",
           "Mostly Cloudy"
          ],
          [
           "Syracuse",
           "NY",
           "Mostly Cloudy"
          ],
          [
           "Vicksburg",
           "MS",
           null
          ],
          [
           "Pottstown",
           "PA",
           "Cloudy"
          ],
          [
           "Oak View",
           "CA",
           "Fair"
          ],
          [
           "Dallas",
           "TX",
           "Fair"
          ],
          [
           "Sacramento",
           "CA",
           "Fair"
          ],
          [
           "Santa Barbara",
           "CA",
           "Fair"
          ],
          [
           "Southfield",
           "MI",
           "Fair"
          ],
          [
           "Sacramento",
           "CA",
           "Clear"
          ],
          [
           "Fullerton",
           "CA",
           "Overcast"
          ],
          [
           "Anderson",
           "SC",
           "Fair"
          ],
          [
           "Detroit",
           "MI",
           "Light Rain"
          ],
          [
           "Austin",
           "TX",
           "Clear"
          ],
          [
           "South Gate",
           "CA",
           "Fair"
          ],
          [
           "Fairfax Station",
           "VA",
           "Fair"
          ],
          [
           "Tucson",
           "AZ",
           "Fair"
          ],
          [
           "Macon",
           "GA",
           "Light Rain"
          ],
          [
           "Saint Joseph",
           "MN",
           "Snow"
          ],
          [
           "Chelmsford",
           "MA",
           "Mostly Cloudy"
          ],
          [
           "Dayton",
           "OH",
           "Clear"
          ],
          [
           "Petaluma",
           "CA",
           "Overcast"
          ],
          [
           "Tampa",
           "FL",
           "Cloudy"
          ],
          [
           "Shreveport",
           "LA",
           "Cloudy"
          ],
          [
           "Kansas City",
           "MO",
           "Fair"
          ],
          [
           "Chester",
           "VA",
           "Mostly Cloudy"
          ],
          [
           "Tomah",
           "WI",
           "Fair"
          ],
          [
           "Cicero",
           "NY",
           "Fair"
          ],
          [
           "Brewster",
           "NY",
           "Fair"
          ],
          [
           "Tooele",
           "UT",
           "Wintry Mix"
          ],
          [
           "Bradenton",
           "FL",
           "Clear"
          ],
          [
           "New River",
           "AZ",
           "Clear"
          ],
          [
           "Nashville",
           "TN",
           "Mostly Cloudy"
          ],
          [
           "San Marcos",
           "CA",
           "Fair"
          ],
          [
           "Mc Connellsburg",
           "PA",
           "Cloudy"
          ],
          [
           "Charlotte",
           "NC",
           "Rain"
          ],
          [
           "Flint",
           "MI",
           "Scattered Clouds"
          ],
          [
           "Conley",
           "GA",
           "Mostly Cloudy"
          ],
          [
           "Houston",
           "TX",
           "Clear"
          ],
          [
           "Fredericksburg",
           "VA",
           "Fair"
          ],
          [
           "Los Angeles",
           "CA",
           "Fair"
          ],
          [
           "Houston",
           "TX",
           "Cloudy"
          ],
          [
           "Hartford",
           "TN",
           "Heavy Rain"
          ],
          [
           "Newark",
           "NJ",
           "Partly Cloudy"
          ],
          [
           "Fort Walton Beach",
           "FL",
           "Cloudy"
          ],
          [
           "Modesto",
           "CA",
           "Cloudy"
          ],
          [
           "Jacksonville",
           "FL",
           "Partly Cloudy"
          ],
          [
           "Houston",
           "TX",
           "Overcast"
          ],
          [
           "Newhall",
           "CA",
           "Fair"
          ],
          [
           "Sacramento",
           "CA",
           "Mostly Cloudy"
          ],
          [
           "Doral",
           "FL",
           "Fair"
          ],
          [
           "Tuscaloosa",
           "AL",
           "Mostly Cloudy"
          ],
          [
           "Humble",
           "TX",
           "Light Snow"
          ],
          [
           "Newark",
           "NJ",
           "Light Rain"
          ],
          [
           "New Orleans",
           "LA",
           "Cloudy"
          ],
          [
           "Tulsa",
           "OK",
           "Partly Cloudy"
          ],
          [
           "Anaheim",
           "CA",
           "Fair"
          ],
          [
           "Atlanta",
           "GA",
           null
          ],
          [
           "Seal Beach",
           "CA",
           "Clear"
          ],
          [
           "Corona",
           "CA",
           "Clear"
          ],
          [
           "New York",
           "NY",
           "Fair"
          ],
          [
           "Scottsdale",
           "AZ",
           "Fair"
          ],
          [
           "Bellevue",
           "WA",
           "Overcast"
          ],
          [
           "San Diego",
           "CA",
           "Clear"
          ],
          [
           "Harrison",
           "NJ",
           "Mostly Cloudy"
          ],
          [
           "Detroit",
           "MI",
           "Clear"
          ],
          [
           "Bakersfield",
           "CA",
           "Fair"
          ],
          [
           "Freeport",
           "FL",
           "Fair"
          ],
          [
           "Brooklyn",
           "NY",
           "Mostly Cloudy"
          ],
          [
           "Hawthorne",
           "CA",
           "Fair"
          ],
          [
           "Downey",
           "CA",
           "Clear"
          ],
          [
           "Centreville",
           "VA",
           "Fair"
          ],
          [
           "Perris",
           "CA",
           null
          ],
          [
           "Beaverton",
           "OR",
           "Light Rain"
          ],
          [
           "Riverside",
           "CA",
           "Haze"
          ],
          [
           "Chapin",
           "SC",
           "Fair"
          ],
          [
           "Lodi",
           "NJ",
           "Fair"
          ],
          [
           "Redlands",
           "CA",
           "Clear"
          ],
          [
           "Oklahoma City",
           "OK",
           "Fair"
          ]
         ],
         "hovertemplate": "Start_Lat=%{lat}<br>Start_Lng=%{lon}<br>City=%{customdata[0]}<br>State=%{customdata[1]}<br>Weather_Condition=%{customdata[2]}<br>Severity=%{marker.color}<extra></extra>",
         "lat": {
          "bdata": "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",
          "dtype": "f8"
         },
         "legendgroup": "",
         "lon": {
          "bdata": "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",
          "dtype": "f8"
         },
         "marker": {
          "color": {
           "bdata": "AgMCAgMDAwICAgMDAgICAgIDAgICAgICAgICAgICAgICAwIDAwECAgICAgICAgICAgMCAwMDAwIDAgICAgICAgECAgICAgICAgQCAwQCAgICAgECAgICAgICAgICAgIDAwIEAgMCAgIEAgICAgICAgICAgIDAgMCAgIDAgICAgICAgICAgMCAgICAgMCAgIDAgICAgMCAgICAwICAgIDAgMCAgIDAgICAgICAwIEAgICAgMCAgMCAgICAgICAgMCAgICAgICAgIDAgICAgICAgICAgICAgICAgICAgICAgMDBAICAgIDAgIDAgICAgMCAgMCAgMCAgICAgICAwMDAgICAgICAgICAgIDAwIDAgICAgICAgICAgIDAgICAgIDAgICAgICAgICAgICAgMCAwIEAgICAgICAgICAgICAwICAgICAwIDAgICAgICAgICAwMCAgICAgICAgICAgIDAwICAgICAgICBAICAgICAgMCAgICAgICAgICAgIDAgMCAgMCAwICAgICAgICAgICAgICAgIDAgICAgICAgICAgICAgIDAwICAgICAgMCAgICAgICAgICAgICAgIDAgMCAgICAgICAgICAgICAgICAwIBAgMCAwICBAIDAgIDAgICAgICAgMCAwICAgIDAgICAgIDAgICAgICAgMCAgQCAwICAgICAgIDAgICAgIDAQMCAgICAgIDAgICAgICAgIDAgMCAgMCAgICAgICAgICAwIDAgQCAwICAgICAgICAgICAwICAgICAgICAgICAgICAgICAgICAgICAgICAwICAwICAgICAgICAgMCAgICAgIDAgMDAgICAgMCAwICAgMDAwICAwICAgIDAgIDAgIEAgICAwICAgIDAgIDAgMDAgMCAgICAgIDAgICAgICAgICAgICAgICAgICAgICAgMCAwICAgIDAgICAgICAgICAgIDAgIDAgICAgMCAgICAgICAwICAgIDAgICAgICAwICAgICAgICAgMCAgICAgQCAgIDAgICAgMCAgIDAgICAgICAgICAwMCAgICAwICAgIEAgMCAgIDAgICAgICAgIBAwICAwMCAwICAgIDAgIEAgMCAgICAgMCAgICAgMBAgICAgICAgQCAgICAwICAgICAgMCBAICAwIDAwICAgICAgICAgMCAwICAgICAgICAgICAgMCAgMDBAIDAgICAgICAgICAwICAgICAgMCAgIDAwICAgICAgICAwICAwICAgMCAgIDAgICAgMCAwMEAgICAgICAgICAgQCAgICAgIEAgICAgIDAgMCAgICAwICAgIDAwIDAgICAgICAgIDAgICAgICAgICAgICAgICAwICAgICAgQCAwMCAgICAwICAwQCAgMCAgMCAgICAgICAgMCAgMCAwICBAICAgIEAgICAgICAgIDAgICAgICAgICAgICAgICAgICAgICAgMCAgICAgICAwICAgMCAgICAwICAgICAgICAgICAgICAwMCAgICAgMDAgIDAwICAwICAgICAgICAgICAgIDAgICAgMCAgMCAwICAwMCAgMDAgIEAgICAwICAgICAwICBAMCAwICAgMDAwICAgICAgIDAgICAgICAgIDAgICAgIDAgICAgICAgICAgICAgIDAgIEAwICAwICAgICAgICAwICAgICAgICAgICAwICAgMDAgIDAgICAgIDAgICAgICAgIDAwICBAIDAgICAgICAgICAgICAgICAwICAwICAwICAgIDAgICAgICAgICAgICAwICAgIDAgICAgMDAgIDAwICAgICAgIDAgICAgICAgICBAICAwMCAgICAwICAgIDAwIDAgICAwMCAgMCAgICAgIDAgICAgICAgICAgICAgICAgICAQIDAgICBAICAgICAgICAgICAgICAgICAgICAgICAgICAgICAgICAgICAQICAgIDAgICAgICAgMDAwMCAwECAgICAgICAwICAwMCAgIDAgICAgICAgICAgICAgMCAwIDAwMCAgICAgIDAwICAgMCAQICAgIDAgIDAgICAgICAgICAgMDAgMCAgICAwICAgICAgMCAgMCAgMCAgICAgICAgICBAIDAwICAgICAgICAgICAgMCAgIDAgICAgICAgICAwICBAIDAgICAgIDAgIDAgIDAgICAgIDAgICAgMDAgICBAICAgICAgIDAgICAwICAgICAgICAgICAgIDAgICAgMCAgIDAwIDAgICAwIDAgIDAgICAgMCAgMDAgICAgICAgQCAwICAgICAgICAgICAgICAgICAwMCAgMCAwICAwICAgICAgIDAgICAwIDAgIDAwICAgICAgICAgMCAgMCAgICAgMCAgICAgICAgICAgICAgICAgICAQMDAgMCAgICAwQDAgIDAwICAwICAgIDAgMCAwMCAgIDAwQCAgICAgICAgICAgICBAMDAwICAgICAgICAgICAgMCAgICAgICAgQCAgICAgICAgICAgICAgMCAgICAgICAgICAgICAgICAgICAgICAgIDAgIDAgIDAgMCAgMCAgIEAwICAwMCAgICAgICAgIEAgICAgICAgICAgICAgIDAgICAgICAgICAgICAgIDAgICAgICAgICAgIDAwICAgICAgICAgICAgICAgIDAgICAgICAgIDAgICAgICAwICAwICAgMCAgQCAgICAgICAgICAgICAgICAgICAgICAgIDAwMCAgIDAgMCAgMCAgIDAgICAgICAgICAgICAgICAgMCAgICAwICAgICAgICAgICAwQDAgICAgICAgICAgICBAIDAgICAgICAgICAgICAgQDAgICAgICAgICAQICAgIDAgMBBAICAgICAwIDAgICAgICAgICAgICAgICAgIDAgICAgIEAgICAgICAgICAgICAgICAgIDAgICAgICAgIDAgICAgICAgICAgICAwICAgIBAgICAgICAgIDAgICAgICAgMDAwICAgICAgICAgICAgMCAgICAgICAgIDAQIDAwICAgICAgMCAgICAwMBAwIDAgMCAgICAgQEAgIEAgICAgMCAgICAgIDAwIDAgMCAgIEAgICAgICAwICAwIDAgICAgICAgMCAgICAgICAgICAgICAwIDAwICAgIEAgMCAgICAgICAgICAgICAwICAgICAgICBAIBAgICAgICAgICAgICAgICAgMCAgICAgIDAgMCAgICAgQCAgIEAgIDAgICAgICAwICAgIDAgICAgICAgICAgICAgICAwIBAgICAgMCAgICAgICAgMCAgICAwICAgIDAgICAgICBAICAgIDAQIDAwICAgICAwICAgICAwMCAgICAgICAgICAgQCAgICAwICAgICAgICAgICAgICAgICAgICAgMCAgIDAgICAgICAgICAwIDAgICAgMCAgICAgICAwICAgICAgICAgMCAgICAgICAgICAgICAgICAwICAgMEAwICAgICAwICAgICAgMCAwMCAwICAgMCAwIDAgICAgMCAgMDAgICAgECAgIEAwMCAgMCAwICBAICAgIDAgICAwICAgIDAwMCAwICAgICAgMDAwICAwICAgICAgICAgICAgICAwICAgIEAgICAgMCAwICAgQDAwICAwICAgICAgIDAgICAwMCAgICAgQCAgMCAwMCAgICAgMDAgICAwIDAgICAgMDAgICAwQCAgICAgMCAgICAgIDAgIDAgIDAgICAwMCAgICAgMCAgICAgICAgIDAgICAgICAgICAgICAwICAgICAwICAgICAgICAwICAgICAwICAgICAgMDBAMCAgMCAgICAgICAgICAwIDAgICAgMCAgICAgMCAgICAgMCAgICAgICAgICAgIDAgIEAgICAgICAgMCAgECAgMDAgIDAgICAgMCAwICAgICAgIDAgICAgICAgMCAwIEAgIDAgICAgMDAgICAwICAgICAwMCAgIDAgMCAgIDAwICAgICAgMC",
           "dtype": "i1"
          },
          "coloraxis": "coloraxis"
         },
         "mode": "markers",
         "name": "",
         "showlegend": false,
         "subplot": "mapbox",
         "type": "scattermapbox"
        }
       ],
       "layout": {
        "coloraxis": {
         "colorbar": {
          "title": {
           "text": "Severity"
          }
         },
         "colorscale": [
          [
           0,
           "rgb(255,245,240)"
          ],
          [
           0.125,
           "rgb(254,224,210)"
          ],
          [
           0.25,
           "rgb(252,187,161)"
          ],
          [
           0.375,
           "rgb(252,146,114)"
          ],
          [
           0.5,
           "rgb(251,106,74)"
          ],
          [
           0.625,
           "rgb(239,59,44)"
          ],
          [
           0.75,
           "rgb(203,24,29)"
          ],
          [
           0.875,
           "rgb(165,15,21)"
          ],
          [
           1,
           "rgb(103,0,13)"
          ]
         ]
        },
        "height": 500,
        "legend": {
         "tracegroupgap": 0
        },
        "mapbox": {
         "center": {
          "lat": 36.186891380526426,
          "lon": -94.95698504358771
         },
         "domain": {
          "x": [
           0,
           1
          ],
          "y": [
           0,
           1
          ]
         },
         "style": "open-street-map",
         "zoom": 3
        },
        "margin": {
         "b": 0,
         "l": 0,
         "r": 0,
         "t": 30
        },
        "template": {
         "data": {
          "bar": [
           {
            "error_x": {
             "color": "#2a3f5f"
            },
            "error_y": {
             "color": "#2a3f5f"
            },
            "marker": {
             "line": {
              "color": "#E5ECF6",
              "width": 0.5
             },
             "pattern": {
              "fillmode": "overlay",
              "size": 10,
              "solidity": 0.2
             }
            },
            "type": "bar"
           }
          ],
          "barpolar": [
           {
            "marker": {
             "line": {
              "color": "#E5ECF6",
              "width": 0.5
             },
             "pattern": {
              "fillmode": "overlay",
              "size": 10,
              "solidity": 0.2
             }
            },
            "type": "barpolar"
           }
          ],
          "carpet": [
           {
            "aaxis": {
             "endlinecolor": "#2a3f5f",
             "gridcolor": "white",
             "linecolor": "white",
             "minorgridcolor": "white",
             "startlinecolor": "#2a3f5f"
            },
            "baxis": {
             "endlinecolor": "#2a3f5f",
             "gridcolor": "white",
             "linecolor": "white",
             "minorgridcolor": "white",
             "startlinecolor": "#2a3f5f"
            },
            "type": "carpet"
           }
          ],
          "choropleth": [
           {
            "colorbar": {
             "outlinewidth": 0,
             "ticks": ""
            },
            "type": "choropleth"
           }
          ],
          "contour": [
           {
            "colorbar": {
             "outlinewidth": 0,
             "ticks": ""
            },
            "colorscale": [
             [
              0,
              "#0d0887"
             ],
             [
              0.1111111111111111,
              "#46039f"
             ],
             [
              0.2222222222222222,
              "#7201a8"
             ],
             [
              0.3333333333333333,
              "#9c179e"
             ],
             [
              0.4444444444444444,
              "#bd3786"
             ],
             [
              0.5555555555555556,
              "#d8576b"
             ],
             [
              0.6666666666666666,
              "#ed7953"
             ],
             [
              0.7777777777777778,
              "#fb9f3a"
             ],
             [
              0.8888888888888888,
              "#fdca26"
             ],
             [
              1,
              "#f0f921"
             ]
            ],
            "type": "contour"
           }
          ],
          "contourcarpet": [
           {
            "colorbar": {
             "outlinewidth": 0,
             "ticks": ""
            },
            "type": "contourcarpet"
           }
          ],
          "heatmap": [
           {
            "colorbar": {
             "outlinewidth": 0,
             "ticks": ""
            },
            "colorscale": [
             [
              0,
              "#0d0887"
             ],
             [
              0.1111111111111111,
              "#46039f"
             ],
             [
              0.2222222222222222,
              "#7201a8"
             ],
             [
              0.3333333333333333,
              "#9c179e"
             ],
             [
              0.4444444444444444,
              "#bd3786"
             ],
             [
              0.5555555555555556,
              "#d8576b"
             ],
             [
              0.6666666666666666,
              "#ed7953"
             ],
             [
              0.7777777777777778,
              "#fb9f3a"
             ],
             [
              0.8888888888888888,
              "#fdca26"
             ],
             [
              1,
              "#f0f921"
             ]
            ],
            "type": "heatmap"
           }
          ],
          "histogram": [
           {
            "marker": {
             "pattern": {
              "fillmode": "overlay",
              "size": 10,
              "solidity": 0.2
             }
            },
            "type": "histogram"
           }
          ],
          "histogram2d": [
           {
            "colorbar": {
             "outlinewidth": 0,
             "ticks": ""
            },
            "colorscale": [
             [
              0,
              "#0d0887"
             ],
             [
              0.1111111111111111,
              "#46039f"
             ],
             [
              0.2222222222222222,
              "#7201a8"
             ],
             [
              0.3333333333333333,
              "#9c179e"
             ],
             [
              0.4444444444444444,
              "#bd3786"
             ],
             [
              0.5555555555555556,
              "#d8576b"
             ],
             [
              0.6666666666666666,
              "#ed7953"
             ],
             [
              0.7777777777777778,
              "#fb9f3a"
             ],
             [
              0.8888888888888888,
              "#fdca26"
             ],
             [
              1,
              "#f0f921"
             ]
            ],
            "type": "histogram2d"
           }
          ],
          "histogram2dcontour": [
           {
            "colorbar": {
             "outlinewidth": 0,
             "ticks": ""
            },
            "colorscale": [
             [
              0,
              "#0d0887"
             ],
             [
              0.1111111111111111,
              "#46039f"
             ],
             [
              0.2222222222222222,
              "#7201a8"
             ],
             [
              0.3333333333333333,
              "#9c179e"
             ],
             [
              0.4444444444444444,
              "#bd3786"
             ],
             [
              0.5555555555555556,
              "#d8576b"
             ],
             [
              0.6666666666666666,
              "#ed7953"
             ],
             [
              0.7777777777777778,
              "#fb9f3a"
             ],
             [
              0.8888888888888888,
              "#fdca26"
             ],
             [
              1,
              "#f0f921"
             ]
            ],
            "type": "histogram2dcontour"
           }
          ],
          "mesh3d": [
           {
            "colorbar": {
             "outlinewidth": 0,
             "ticks": ""
            },
            "type": "mesh3d"
           }
          ],
          "parcoords": [
           {
            "line": {
             "colorbar": {
              "outlinewidth": 0,
              "ticks": ""
             }
            },
            "type": "parcoords"
           }
          ],
          "pie": [
           {
            "automargin": true,
            "type": "pie"
           }
          ],
          "scatter": [
           {
            "fillpattern": {
             "fillmode": "overlay",
             "size": 10,
             "solidity": 0.2
            },
            "type": "scatter"
           }
          ],
          "scatter3d": [
           {
            "line": {
             "colorbar": {
              "outlinewidth": 0,
              "ticks": ""
             }
            },
            "marker": {
             "colorbar": {
              "outlinewidth": 0,
              "ticks": ""
             }
            },
            "type": "scatter3d"
           }
          ],
          "scattercarpet": [
           {
            "marker": {
             "colorbar": {
              "outlinewidth": 0,
              "ticks": ""
             }
            },
            "type": "scattercarpet"
           }
          ],
          "scattergeo": [
           {
            "marker": {
             "colorbar": {
              "outlinewidth": 0,
              "ticks": ""
             }
            },
            "type": "scattergeo"
           }
          ],
          "scattergl": [
           {
            "marker": {
             "colorbar": {
              "outlinewidth": 0,
              "ticks": ""
             }
            },
            "type": "scattergl"
           }
          ],
          "scattermap": [
           {
            "marker": {
             "colorbar": {
              "outlinewidth": 0,
              "ticks": ""
             }
            },
            "type": "scattermap"
           }
          ],
          "scattermapbox": [
           {
            "marker": {
             "colorbar": {
              "outlinewidth": 0,
              "ticks": ""
             }
            },
            "type": "scattermapbox"
           }
          ],
          "scatterpolar": [
           {
            "marker": {
             "colorbar": {
              "outlinewidth": 0,
              "ticks": ""
             }
            },
            "type": "scatterpolar"
           }
          ],
          "scatterpolargl": [
           {
            "marker": {
             "colorbar": {
              "outlinewidth": 0,
              "ticks": ""
             }
            },
            "type": "scatterpolargl"
           }
          ],
          "scatterternary": [
           {
            "marker": {
             "colorbar": {
              "outlinewidth": 0,
              "ticks": ""
             }
            },
            "type": "scatterternary"
           }
          ],
          "surface": [
           {
            "colorbar": {
             "outlinewidth": 0,
             "ticks": ""
            },
            "colorscale": [
             [
              0,
              "#0d0887"
             ],
             [
              0.1111111111111111,
              "#46039f"
             ],
             [
              0.2222222222222222,
              "#7201a8"
             ],
             [
              0.3333333333333333,
              "#9c179e"
             ],
             [
              0.4444444444444444,
              "#bd3786"
             ],
             [
              0.5555555555555556,
              "#d8576b"
             ],
             [
              0.6666666666666666,
              "#ed7953"
             ],
             [
              0.7777777777777778,
              "#fb9f3a"
             ],
             [
              0.8888888888888888,
              "#fdca26"
             ],
             [
              1,
              "#f0f921"
             ]
            ],
            "type": "surface"
           }
          ],
          "table": [
           {
            "cells": {
             "fill": {
              "color": "#EBF0F8"
             },
             "line": {
              "color": "white"
             }
            },
            "header": {
             "fill": {
              "color": "#C8D4E3"
             },
             "line": {
              "color": "white"
             }
            },
            "type": "table"
           }
          ]
         },
         "layout": {
          "annotationdefaults": {
           "arrowcolor": "#2a3f5f",
           "arrowhead": 0,
           "arrowwidth": 1
          },
          "autotypenumbers": "strict",
          "coloraxis": {
           "colorbar": {
            "outlinewidth": 0,
            "ticks": ""
           }
          },
          "colorscale": {
           "diverging": [
            [
             0,
             "#8e0152"
            ],
            [
             0.1,
             "#c51b7d"
            ],
            [
             0.2,
             "#de77ae"
            ],
            [
             0.3,
             "#f1b6da"
            ],
            [
             0.4,
             "#fde0ef"
            ],
            [
             0.5,
             "#f7f7f7"
            ],
            [
             0.6,
             "#e6f5d0"
            ],
            [
             0.7,
             "#b8e186"
            ],
            [
             0.8,
             "#7fbc41"
            ],
            [
             0.9,
             "#4d9221"
            ],
            [
             1,
             "#276419"
            ]
           ],
           "sequential": [
            [
             0,
             "#0d0887"
            ],
            [
             0.1111111111111111,
             "#46039f"
            ],
            [
             0.2222222222222222,
             "#7201a8"
            ],
            [
             0.3333333333333333,
             "#9c179e"
            ],
            [
             0.4444444444444444,
             "#bd3786"
            ],
            [
             0.5555555555555556,
             "#d8576b"
            ],
            [
             0.6666666666666666,
             "#ed7953"
            ],
            [
             0.7777777777777778,
             "#fb9f3a"
            ],
            [
             0.8888888888888888,
             "#fdca26"
            ],
            [
             1,
             "#f0f921"
            ]
           ],
           "sequentialminus": [
            [
             0,
             "#0d0887"
            ],
            [
             0.1111111111111111,
             "#46039f"
            ],
            [
             0.2222222222222222,
             "#7201a8"
            ],
            [
             0.3333333333333333,
             "#9c179e"
            ],
            [
             0.4444444444444444,
             "#bd3786"
            ],
            [
             0.5555555555555556,
             "#d8576b"
            ],
            [
             0.6666666666666666,
             "#ed7953"
            ],
            [
             0.7777777777777778,
             "#fb9f3a"
            ],
            [
             0.8888888888888888,
             "#fdca26"
            ],
            [
             1,
             "#f0f921"
            ]
           ]
          },
          "colorway": [
           "#636efa",
           "#EF553B",
           "#00cc96",
           "#ab63fa",
           "#FFA15A",
           "#19d3f3",
           "#FF6692",
           "#B6E880",
           "#FF97FF",
           "#FECB52"
          ],
          "font": {
           "color": "#2a3f5f"
          },
          "geo": {
           "bgcolor": "white",
           "lakecolor": "white",
           "landcolor": "#E5ECF6",
           "showlakes": true,
           "showland": true,
           "subunitcolor": "white"
          },
          "hoverlabel": {
           "align": "left"
          },
          "hovermode": "closest",
          "mapbox": {
           "style": "light"
          },
          "paper_bgcolor": "white",
          "plot_bgcolor": "#E5ECF6",
          "polar": {
           "angularaxis": {
            "gridcolor": "white",
            "linecolor": "white",
            "ticks": ""
           },
           "bgcolor": "#E5ECF6",
           "radialaxis": {
            "gridcolor": "white",
            "linecolor": "white",
            "ticks": ""
           }
          },
          "scene": {
           "xaxis": {
            "backgroundcolor": "#E5ECF6",
            "gridcolor": "white",
            "gridwidth": 2,
            "linecolor": "white",
            "showbackground": true,
            "ticks": "",
            "zerolinecolor": "white"
           },
           "yaxis": {
            "backgroundcolor": "#E5ECF6",
            "gridcolor": "white",
            "gridwidth": 2,
            "linecolor": "white",
            "showbackground": true,
            "ticks": "",
            "zerolinecolor": "white"
           },
           "zaxis": {
            "backgroundcolor": "#E5ECF6",
            "gridcolor": "white",
            "gridwidth": 2,
            "linecolor": "white",
            "showbackground": true,
            "ticks": "",
            "zerolinecolor": "white"
           }
          },
          "shapedefaults": {
           "line": {
            "color": "#2a3f5f"
           }
          },
          "ternary": {
           "aaxis": {
            "gridcolor": "white",
            "linecolor": "white",
            "ticks": ""
           },
           "baxis": {
            "gridcolor": "white",
            "linecolor": "white",
            "ticks": ""
           },
           "bgcolor": "#E5ECF6",
           "caxis": {
            "gridcolor": "white",
            "linecolor": "white",
            "ticks": ""
           }
          },
          "title": {
           "x": 0.05
          },
          "xaxis": {
           "automargin": true,
           "gridcolor": "white",
           "linecolor": "white",
           "ticks": "",
           "title": {
            "standoff": 15
           },
           "zerolinecolor": "white",
           "zerolinewidth": 2
          },
          "yaxis": {
           "automargin": true,
           "gridcolor": "white",
           "linecolor": "white",
           "ticks": "",
           "title": {
            "standoff": 15
           },
           "zerolinecolor": "white",
           "zerolinewidth": 2
          }
         }
        },
        "title": {
         "text": "Accident Hotspots in USA"
        }
       }
      }
     },
     "metadata": {},
     "output_type": "display_data"
    }
   ],
   "source": [
    "fig = px.scatter_mapbox(df.sample(3000), \n",
    "                        lat=\"Start_Lat\", \n",
    "                        lon=\"Start_Lng\", \n",
    "                        color=\"Severity\", \n",
    "                        hover_data=[\"City\", \"State\", \"Weather_Condition\"],\n",
    "                        color_continuous_scale=\"reds\", \n",
    "                        zoom=3, height=500)\n",
    "\n",
    "fig.update_layout(mapbox_style=\"open-street-map\")\n",
    "fig.update_layout(title=\"Accident Hotspots in USA\", margin={\"r\":0,\"t\":30,\"l\":0,\"b\":0})\n",
    "fig.show()\n",
    "\n"
   ]
  }
 ],
 "metadata": {
  "kernelspec": {
   "display_name": "Python 3",
   "language": "python",
   "name": "python3"
  },
  "language_info": {
   "codemirror_mode": {
    "name": "ipython",
    "version": 3
   },
   "file_extension": ".py",
   "mimetype": "text/x-python",
   "name": "python",
   "nbconvert_exporter": "python",
   "pygments_lexer": "ipython3",
   "version": "3.13.1"
  }
 },
 "nbformat": 4,
 "nbformat_minor": 5
}
